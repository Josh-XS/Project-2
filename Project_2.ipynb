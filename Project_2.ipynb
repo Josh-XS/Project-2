{
  "nbformat": 4,
  "nbformat_minor": 0,
  "metadata": {
    "colab": {
      "provenance": [],
      "authorship_tag": "ABX9TyORe2+LYxYGzXv8/bl0kH1c",
      "include_colab_link": true
    },
    "kernelspec": {
      "name": "python3",
      "display_name": "Python 3"
    },
    "language_info": {
      "name": "python"
    }
  },
  "cells": [
    {
      "cell_type": "markdown",
      "metadata": {
        "id": "view-in-github",
        "colab_type": "text"
      },
      "source": [
        "<a href=\"https://colab.research.google.com/github/Josh-XS/Project-2/blob/main/Project_2.ipynb\" target=\"_parent\"><img src=\"https://colab.research.google.com/assets/colab-badge.svg\" alt=\"Open In Colab\"/></a>"
      ]
    },
    {
      "cell_type": "markdown",
      "source": [
        "#Project 2"
      ],
      "metadata": {
        "id": "lfW0qIQed3Oq"
      }
    },
    {
      "cell_type": "markdown",
      "source": [
        "Joshua Nickell"
      ],
      "metadata": {
        "id": "_D-RAySsi8Fq"
      }
    },
    {
      "cell_type": "markdown",
      "source": [
        "Spanish Wine Quality Dataset\n",
        "\n",
        "1. fedesoriano. (April 2022). Spanish Wine Quality Dataset. Retrieved [Date Retrieved] from https://www.kaggle.com/datasets/fedesoriano/spanish-wine-quality-dataset\n",
        "\n",
        "2. This is a set of over 7000 different types of wine and their various features.\n",
        "\n",
        "3. The rating of the wine is the target.\n",
        "\n",
        "4. One row represents a type of wine.\n",
        "\n",
        "5. This is a classification problem.\n",
        "\n",
        "6. There are 11 features.\n",
        "\n",
        "7. There are 7500 rows.\n",
        "\n",
        "8. I do not forsee any particular challenges working with this dataset."
      ],
      "metadata": {
        "id": "VApuWDJWmTD3"
      }
    },
    {
      "cell_type": "markdown",
      "source": [
        "##Loading Data"
      ],
      "metadata": {
        "id": "wElGN-cAi-zv"
      }
    },
    {
      "cell_type": "code",
      "source": [
        "#import libraries\n",
        "import pandas as pd\n",
        "import numpy as np\n",
        "import matplotlib.pyplot as plt\n",
        "import seaborn as sns\n",
        "\n",
        "from sklearn import set_config\n",
        "set_config(display='diagram')"
      ],
      "metadata": {
        "id": "cfHd4R_5zNaZ"
      },
      "execution_count": 32,
      "outputs": []
    },
    {
      "cell_type": "code",
      "source": [
        "#create and view dataframe\n",
        "df = pd.read_csv('https://docs.google.com/spreadsheets/d/e/2PACX-1vRa6lJH575jdYrbRzM7BW8DvaY8hfID6AVfML_1RhmrBwkIXKuXn-yrm9ascN0QuOg4NObA4TnIIyQc/pub?gid=2015400164&single=true&output=csv')\n",
        "df.head()"
      ],
      "metadata": {
        "id": "J1bnjKt8y-0z",
        "colab": {
          "base_uri": "https://localhost:8080/",
          "height": 206
        },
        "outputId": "ee462449-890e-448b-9a84-4c30727e3b94"
      },
      "execution_count": 33,
      "outputs": [
        {
          "output_type": "execute_result",
          "data": {
            "text/plain": [
              "          winery           wine  year  rating  num_reviews country  \\\n",
              "0  Teso La Monja          Tinto  2013     4.9           58  Espana   \n",
              "1         Artadi  Vina El Pison  2018     4.9           31  Espana   \n",
              "2   Vega Sicilia          Unico  2009     4.8         1793  Espana   \n",
              "3   Vega Sicilia          Unico  1999     4.8         1705  Espana   \n",
              "4   Vega Sicilia          Unico  1996     4.8         1309  Espana   \n",
              "\n",
              "             region   price                  type  body  acidity  \n",
              "0              Toro  995.00              Toro Red   5.0      3.0  \n",
              "1    Vino de Espana  313.50           Tempranillo   4.0      2.0  \n",
              "2  Ribera del Duero  324.95  Ribera Del Duero Red   5.0      3.0  \n",
              "3  Ribera del Duero  692.96  Ribera Del Duero Red   5.0      3.0  \n",
              "4  Ribera del Duero  778.06  Ribera Del Duero Red   5.0      3.0  "
            ],
            "text/html": [
              "\n",
              "  <div id=\"df-e507b338-980d-4b2f-b4d3-b9063d799a6a\">\n",
              "    <div class=\"colab-df-container\">\n",
              "      <div>\n",
              "<style scoped>\n",
              "    .dataframe tbody tr th:only-of-type {\n",
              "        vertical-align: middle;\n",
              "    }\n",
              "\n",
              "    .dataframe tbody tr th {\n",
              "        vertical-align: top;\n",
              "    }\n",
              "\n",
              "    .dataframe thead th {\n",
              "        text-align: right;\n",
              "    }\n",
              "</style>\n",
              "<table border=\"1\" class=\"dataframe\">\n",
              "  <thead>\n",
              "    <tr style=\"text-align: right;\">\n",
              "      <th></th>\n",
              "      <th>winery</th>\n",
              "      <th>wine</th>\n",
              "      <th>year</th>\n",
              "      <th>rating</th>\n",
              "      <th>num_reviews</th>\n",
              "      <th>country</th>\n",
              "      <th>region</th>\n",
              "      <th>price</th>\n",
              "      <th>type</th>\n",
              "      <th>body</th>\n",
              "      <th>acidity</th>\n",
              "    </tr>\n",
              "  </thead>\n",
              "  <tbody>\n",
              "    <tr>\n",
              "      <th>0</th>\n",
              "      <td>Teso La Monja</td>\n",
              "      <td>Tinto</td>\n",
              "      <td>2013</td>\n",
              "      <td>4.9</td>\n",
              "      <td>58</td>\n",
              "      <td>Espana</td>\n",
              "      <td>Toro</td>\n",
              "      <td>995.00</td>\n",
              "      <td>Toro Red</td>\n",
              "      <td>5.0</td>\n",
              "      <td>3.0</td>\n",
              "    </tr>\n",
              "    <tr>\n",
              "      <th>1</th>\n",
              "      <td>Artadi</td>\n",
              "      <td>Vina El Pison</td>\n",
              "      <td>2018</td>\n",
              "      <td>4.9</td>\n",
              "      <td>31</td>\n",
              "      <td>Espana</td>\n",
              "      <td>Vino de Espana</td>\n",
              "      <td>313.50</td>\n",
              "      <td>Tempranillo</td>\n",
              "      <td>4.0</td>\n",
              "      <td>2.0</td>\n",
              "    </tr>\n",
              "    <tr>\n",
              "      <th>2</th>\n",
              "      <td>Vega Sicilia</td>\n",
              "      <td>Unico</td>\n",
              "      <td>2009</td>\n",
              "      <td>4.8</td>\n",
              "      <td>1793</td>\n",
              "      <td>Espana</td>\n",
              "      <td>Ribera del Duero</td>\n",
              "      <td>324.95</td>\n",
              "      <td>Ribera Del Duero Red</td>\n",
              "      <td>5.0</td>\n",
              "      <td>3.0</td>\n",
              "    </tr>\n",
              "    <tr>\n",
              "      <th>3</th>\n",
              "      <td>Vega Sicilia</td>\n",
              "      <td>Unico</td>\n",
              "      <td>1999</td>\n",
              "      <td>4.8</td>\n",
              "      <td>1705</td>\n",
              "      <td>Espana</td>\n",
              "      <td>Ribera del Duero</td>\n",
              "      <td>692.96</td>\n",
              "      <td>Ribera Del Duero Red</td>\n",
              "      <td>5.0</td>\n",
              "      <td>3.0</td>\n",
              "    </tr>\n",
              "    <tr>\n",
              "      <th>4</th>\n",
              "      <td>Vega Sicilia</td>\n",
              "      <td>Unico</td>\n",
              "      <td>1996</td>\n",
              "      <td>4.8</td>\n",
              "      <td>1309</td>\n",
              "      <td>Espana</td>\n",
              "      <td>Ribera del Duero</td>\n",
              "      <td>778.06</td>\n",
              "      <td>Ribera Del Duero Red</td>\n",
              "      <td>5.0</td>\n",
              "      <td>3.0</td>\n",
              "    </tr>\n",
              "  </tbody>\n",
              "</table>\n",
              "</div>\n",
              "      <button class=\"colab-df-convert\" onclick=\"convertToInteractive('df-e507b338-980d-4b2f-b4d3-b9063d799a6a')\"\n",
              "              title=\"Convert this dataframe to an interactive table.\"\n",
              "              style=\"display:none;\">\n",
              "        \n",
              "  <svg xmlns=\"http://www.w3.org/2000/svg\" height=\"24px\"viewBox=\"0 0 24 24\"\n",
              "       width=\"24px\">\n",
              "    <path d=\"M0 0h24v24H0V0z\" fill=\"none\"/>\n",
              "    <path d=\"M18.56 5.44l.94 2.06.94-2.06 2.06-.94-2.06-.94-.94-2.06-.94 2.06-2.06.94zm-11 1L8.5 8.5l.94-2.06 2.06-.94-2.06-.94L8.5 2.5l-.94 2.06-2.06.94zm10 10l.94 2.06.94-2.06 2.06-.94-2.06-.94-.94-2.06-.94 2.06-2.06.94z\"/><path d=\"M17.41 7.96l-1.37-1.37c-.4-.4-.92-.59-1.43-.59-.52 0-1.04.2-1.43.59L10.3 9.45l-7.72 7.72c-.78.78-.78 2.05 0 2.83L4 21.41c.39.39.9.59 1.41.59.51 0 1.02-.2 1.41-.59l7.78-7.78 2.81-2.81c.8-.78.8-2.07 0-2.86zM5.41 20L4 18.59l7.72-7.72 1.47 1.35L5.41 20z\"/>\n",
              "  </svg>\n",
              "      </button>\n",
              "      \n",
              "  <style>\n",
              "    .colab-df-container {\n",
              "      display:flex;\n",
              "      flex-wrap:wrap;\n",
              "      gap: 12px;\n",
              "    }\n",
              "\n",
              "    .colab-df-convert {\n",
              "      background-color: #E8F0FE;\n",
              "      border: none;\n",
              "      border-radius: 50%;\n",
              "      cursor: pointer;\n",
              "      display: none;\n",
              "      fill: #1967D2;\n",
              "      height: 32px;\n",
              "      padding: 0 0 0 0;\n",
              "      width: 32px;\n",
              "    }\n",
              "\n",
              "    .colab-df-convert:hover {\n",
              "      background-color: #E2EBFA;\n",
              "      box-shadow: 0px 1px 2px rgba(60, 64, 67, 0.3), 0px 1px 3px 1px rgba(60, 64, 67, 0.15);\n",
              "      fill: #174EA6;\n",
              "    }\n",
              "\n",
              "    [theme=dark] .colab-df-convert {\n",
              "      background-color: #3B4455;\n",
              "      fill: #D2E3FC;\n",
              "    }\n",
              "\n",
              "    [theme=dark] .colab-df-convert:hover {\n",
              "      background-color: #434B5C;\n",
              "      box-shadow: 0px 1px 3px 1px rgba(0, 0, 0, 0.15);\n",
              "      filter: drop-shadow(0px 1px 2px rgba(0, 0, 0, 0.3));\n",
              "      fill: #FFFFFF;\n",
              "    }\n",
              "  </style>\n",
              "\n",
              "      <script>\n",
              "        const buttonEl =\n",
              "          document.querySelector('#df-e507b338-980d-4b2f-b4d3-b9063d799a6a button.colab-df-convert');\n",
              "        buttonEl.style.display =\n",
              "          google.colab.kernel.accessAllowed ? 'block' : 'none';\n",
              "\n",
              "        async function convertToInteractive(key) {\n",
              "          const element = document.querySelector('#df-e507b338-980d-4b2f-b4d3-b9063d799a6a');\n",
              "          const dataTable =\n",
              "            await google.colab.kernel.invokeFunction('convertToInteractive',\n",
              "                                                     [key], {});\n",
              "          if (!dataTable) return;\n",
              "\n",
              "          const docLinkHtml = 'Like what you see? Visit the ' +\n",
              "            '<a target=\"_blank\" href=https://colab.research.google.com/notebooks/data_table.ipynb>data table notebook</a>'\n",
              "            + ' to learn more about interactive tables.';\n",
              "          element.innerHTML = '';\n",
              "          dataTable['output_type'] = 'display_data';\n",
              "          await google.colab.output.renderOutput(dataTable, element);\n",
              "          const docLink = document.createElement('div');\n",
              "          docLink.innerHTML = docLinkHtml;\n",
              "          element.appendChild(docLink);\n",
              "        }\n",
              "      </script>\n",
              "    </div>\n",
              "  </div>\n",
              "  "
            ]
          },
          "metadata": {},
          "execution_count": 33
        }
      ]
    },
    {
      "cell_type": "code",
      "source": [
        "df.describe()"
      ],
      "metadata": {
        "colab": {
          "base_uri": "https://localhost:8080/",
          "height": 300
        },
        "id": "9wwy8C_bl6hJ",
        "outputId": "bda0b26b-464f-4052-bc70-dc587b596ee2"
      },
      "execution_count": 34,
      "outputs": [
        {
          "output_type": "execute_result",
          "data": {
            "text/plain": [
              "            rating   num_reviews        price         body      acidity\n",
              "count  7500.000000   7500.000000  7500.000000  6331.000000  6331.000000\n",
              "mean      4.254933    451.109067    60.095822     4.158427     2.946612\n",
              "std       0.118029    723.001856   150.356676     0.583352     0.248202\n",
              "min       4.200000     25.000000     4.990000     2.000000     1.000000\n",
              "25%       4.200000    389.000000    18.900000     4.000000     3.000000\n",
              "50%       4.200000    404.000000    28.530000     4.000000     3.000000\n",
              "75%       4.200000    415.000000    51.350000     5.000000     3.000000\n",
              "max       4.900000  32624.000000  3119.080000     5.000000     3.000000"
            ],
            "text/html": [
              "\n",
              "  <div id=\"df-d122e447-7c89-406e-ab04-00e0150303a0\">\n",
              "    <div class=\"colab-df-container\">\n",
              "      <div>\n",
              "<style scoped>\n",
              "    .dataframe tbody tr th:only-of-type {\n",
              "        vertical-align: middle;\n",
              "    }\n",
              "\n",
              "    .dataframe tbody tr th {\n",
              "        vertical-align: top;\n",
              "    }\n",
              "\n",
              "    .dataframe thead th {\n",
              "        text-align: right;\n",
              "    }\n",
              "</style>\n",
              "<table border=\"1\" class=\"dataframe\">\n",
              "  <thead>\n",
              "    <tr style=\"text-align: right;\">\n",
              "      <th></th>\n",
              "      <th>rating</th>\n",
              "      <th>num_reviews</th>\n",
              "      <th>price</th>\n",
              "      <th>body</th>\n",
              "      <th>acidity</th>\n",
              "    </tr>\n",
              "  </thead>\n",
              "  <tbody>\n",
              "    <tr>\n",
              "      <th>count</th>\n",
              "      <td>7500.000000</td>\n",
              "      <td>7500.000000</td>\n",
              "      <td>7500.000000</td>\n",
              "      <td>6331.000000</td>\n",
              "      <td>6331.000000</td>\n",
              "    </tr>\n",
              "    <tr>\n",
              "      <th>mean</th>\n",
              "      <td>4.254933</td>\n",
              "      <td>451.109067</td>\n",
              "      <td>60.095822</td>\n",
              "      <td>4.158427</td>\n",
              "      <td>2.946612</td>\n",
              "    </tr>\n",
              "    <tr>\n",
              "      <th>std</th>\n",
              "      <td>0.118029</td>\n",
              "      <td>723.001856</td>\n",
              "      <td>150.356676</td>\n",
              "      <td>0.583352</td>\n",
              "      <td>0.248202</td>\n",
              "    </tr>\n",
              "    <tr>\n",
              "      <th>min</th>\n",
              "      <td>4.200000</td>\n",
              "      <td>25.000000</td>\n",
              "      <td>4.990000</td>\n",
              "      <td>2.000000</td>\n",
              "      <td>1.000000</td>\n",
              "    </tr>\n",
              "    <tr>\n",
              "      <th>25%</th>\n",
              "      <td>4.200000</td>\n",
              "      <td>389.000000</td>\n",
              "      <td>18.900000</td>\n",
              "      <td>4.000000</td>\n",
              "      <td>3.000000</td>\n",
              "    </tr>\n",
              "    <tr>\n",
              "      <th>50%</th>\n",
              "      <td>4.200000</td>\n",
              "      <td>404.000000</td>\n",
              "      <td>28.530000</td>\n",
              "      <td>4.000000</td>\n",
              "      <td>3.000000</td>\n",
              "    </tr>\n",
              "    <tr>\n",
              "      <th>75%</th>\n",
              "      <td>4.200000</td>\n",
              "      <td>415.000000</td>\n",
              "      <td>51.350000</td>\n",
              "      <td>5.000000</td>\n",
              "      <td>3.000000</td>\n",
              "    </tr>\n",
              "    <tr>\n",
              "      <th>max</th>\n",
              "      <td>4.900000</td>\n",
              "      <td>32624.000000</td>\n",
              "      <td>3119.080000</td>\n",
              "      <td>5.000000</td>\n",
              "      <td>3.000000</td>\n",
              "    </tr>\n",
              "  </tbody>\n",
              "</table>\n",
              "</div>\n",
              "      <button class=\"colab-df-convert\" onclick=\"convertToInteractive('df-d122e447-7c89-406e-ab04-00e0150303a0')\"\n",
              "              title=\"Convert this dataframe to an interactive table.\"\n",
              "              style=\"display:none;\">\n",
              "        \n",
              "  <svg xmlns=\"http://www.w3.org/2000/svg\" height=\"24px\"viewBox=\"0 0 24 24\"\n",
              "       width=\"24px\">\n",
              "    <path d=\"M0 0h24v24H0V0z\" fill=\"none\"/>\n",
              "    <path d=\"M18.56 5.44l.94 2.06.94-2.06 2.06-.94-2.06-.94-.94-2.06-.94 2.06-2.06.94zm-11 1L8.5 8.5l.94-2.06 2.06-.94-2.06-.94L8.5 2.5l-.94 2.06-2.06.94zm10 10l.94 2.06.94-2.06 2.06-.94-2.06-.94-.94-2.06-.94 2.06-2.06.94z\"/><path d=\"M17.41 7.96l-1.37-1.37c-.4-.4-.92-.59-1.43-.59-.52 0-1.04.2-1.43.59L10.3 9.45l-7.72 7.72c-.78.78-.78 2.05 0 2.83L4 21.41c.39.39.9.59 1.41.59.51 0 1.02-.2 1.41-.59l7.78-7.78 2.81-2.81c.8-.78.8-2.07 0-2.86zM5.41 20L4 18.59l7.72-7.72 1.47 1.35L5.41 20z\"/>\n",
              "  </svg>\n",
              "      </button>\n",
              "      \n",
              "  <style>\n",
              "    .colab-df-container {\n",
              "      display:flex;\n",
              "      flex-wrap:wrap;\n",
              "      gap: 12px;\n",
              "    }\n",
              "\n",
              "    .colab-df-convert {\n",
              "      background-color: #E8F0FE;\n",
              "      border: none;\n",
              "      border-radius: 50%;\n",
              "      cursor: pointer;\n",
              "      display: none;\n",
              "      fill: #1967D2;\n",
              "      height: 32px;\n",
              "      padding: 0 0 0 0;\n",
              "      width: 32px;\n",
              "    }\n",
              "\n",
              "    .colab-df-convert:hover {\n",
              "      background-color: #E2EBFA;\n",
              "      box-shadow: 0px 1px 2px rgba(60, 64, 67, 0.3), 0px 1px 3px 1px rgba(60, 64, 67, 0.15);\n",
              "      fill: #174EA6;\n",
              "    }\n",
              "\n",
              "    [theme=dark] .colab-df-convert {\n",
              "      background-color: #3B4455;\n",
              "      fill: #D2E3FC;\n",
              "    }\n",
              "\n",
              "    [theme=dark] .colab-df-convert:hover {\n",
              "      background-color: #434B5C;\n",
              "      box-shadow: 0px 1px 3px 1px rgba(0, 0, 0, 0.15);\n",
              "      filter: drop-shadow(0px 1px 2px rgba(0, 0, 0, 0.3));\n",
              "      fill: #FFFFFF;\n",
              "    }\n",
              "  </style>\n",
              "\n",
              "      <script>\n",
              "        const buttonEl =\n",
              "          document.querySelector('#df-d122e447-7c89-406e-ab04-00e0150303a0 button.colab-df-convert');\n",
              "        buttonEl.style.display =\n",
              "          google.colab.kernel.accessAllowed ? 'block' : 'none';\n",
              "\n",
              "        async function convertToInteractive(key) {\n",
              "          const element = document.querySelector('#df-d122e447-7c89-406e-ab04-00e0150303a0');\n",
              "          const dataTable =\n",
              "            await google.colab.kernel.invokeFunction('convertToInteractive',\n",
              "                                                     [key], {});\n",
              "          if (!dataTable) return;\n",
              "\n",
              "          const docLinkHtml = 'Like what you see? Visit the ' +\n",
              "            '<a target=\"_blank\" href=https://colab.research.google.com/notebooks/data_table.ipynb>data table notebook</a>'\n",
              "            + ' to learn more about interactive tables.';\n",
              "          element.innerHTML = '';\n",
              "          dataTable['output_type'] = 'display_data';\n",
              "          await google.colab.output.renderOutput(dataTable, element);\n",
              "          const docLink = document.createElement('div');\n",
              "          docLink.innerHTML = docLinkHtml;\n",
              "          element.appendChild(docLink);\n",
              "        }\n",
              "      </script>\n",
              "    </div>\n",
              "  </div>\n",
              "  "
            ]
          },
          "metadata": {},
          "execution_count": 34
        }
      ]
    },
    {
      "cell_type": "markdown",
      "source": [
        "##Cleaning the Data"
      ],
      "metadata": {
        "id": "ohVMNOfCjD7D"
      }
    },
    {
      "cell_type": "markdown",
      "source": [
        "First I will copy the data for exploration, so that I don't overwrite the original."
      ],
      "metadata": {
        "id": "H9c0pm7sk20R"
      }
    },
    {
      "cell_type": "code",
      "source": [
        "#copy the data for exploration\n",
        "eda_df = df.copy()"
      ],
      "metadata": {
        "id": "I2OFc-eL9dWy"
      },
      "execution_count": 35,
      "outputs": []
    },
    {
      "cell_type": "markdown",
      "source": [
        "###Unnessecary Columns"
      ],
      "metadata": {
        "id": "2cf4nEPoqnSV"
      }
    },
    {
      "cell_type": "markdown",
      "source": [
        "Then I will drop the 'country' column becasue all of the wines are from Spain, and this will not affect the data."
      ],
      "metadata": {
        "id": "wYGQZaQ7lYLV"
      }
    },
    {
      "cell_type": "code",
      "source": [
        "#drop unnessecary columns\n",
        "eda_df.drop(columns = 'country', inplace = True)"
      ],
      "metadata": {
        "id": "GPJYUmiF9vty"
      },
      "execution_count": 36,
      "outputs": []
    },
    {
      "cell_type": "code",
      "source": [
        "eda_df.head()"
      ],
      "metadata": {
        "colab": {
          "base_uri": "https://localhost:8080/",
          "height": 206
        },
        "id": "9NA_gRhj-tuz",
        "outputId": "dceb7159-2197-4b32-8b03-122d8f38d853"
      },
      "execution_count": 37,
      "outputs": [
        {
          "output_type": "execute_result",
          "data": {
            "text/plain": [
              "          winery           wine  year  rating  num_reviews            region  \\\n",
              "0  Teso La Monja          Tinto  2013     4.9           58              Toro   \n",
              "1         Artadi  Vina El Pison  2018     4.9           31    Vino de Espana   \n",
              "2   Vega Sicilia          Unico  2009     4.8         1793  Ribera del Duero   \n",
              "3   Vega Sicilia          Unico  1999     4.8         1705  Ribera del Duero   \n",
              "4   Vega Sicilia          Unico  1996     4.8         1309  Ribera del Duero   \n",
              "\n",
              "    price                  type  body  acidity  \n",
              "0  995.00              Toro Red   5.0      3.0  \n",
              "1  313.50           Tempranillo   4.0      2.0  \n",
              "2  324.95  Ribera Del Duero Red   5.0      3.0  \n",
              "3  692.96  Ribera Del Duero Red   5.0      3.0  \n",
              "4  778.06  Ribera Del Duero Red   5.0      3.0  "
            ],
            "text/html": [
              "\n",
              "  <div id=\"df-cdc3c2e6-2943-4b04-9b7c-fcc9f9308938\">\n",
              "    <div class=\"colab-df-container\">\n",
              "      <div>\n",
              "<style scoped>\n",
              "    .dataframe tbody tr th:only-of-type {\n",
              "        vertical-align: middle;\n",
              "    }\n",
              "\n",
              "    .dataframe tbody tr th {\n",
              "        vertical-align: top;\n",
              "    }\n",
              "\n",
              "    .dataframe thead th {\n",
              "        text-align: right;\n",
              "    }\n",
              "</style>\n",
              "<table border=\"1\" class=\"dataframe\">\n",
              "  <thead>\n",
              "    <tr style=\"text-align: right;\">\n",
              "      <th></th>\n",
              "      <th>winery</th>\n",
              "      <th>wine</th>\n",
              "      <th>year</th>\n",
              "      <th>rating</th>\n",
              "      <th>num_reviews</th>\n",
              "      <th>region</th>\n",
              "      <th>price</th>\n",
              "      <th>type</th>\n",
              "      <th>body</th>\n",
              "      <th>acidity</th>\n",
              "    </tr>\n",
              "  </thead>\n",
              "  <tbody>\n",
              "    <tr>\n",
              "      <th>0</th>\n",
              "      <td>Teso La Monja</td>\n",
              "      <td>Tinto</td>\n",
              "      <td>2013</td>\n",
              "      <td>4.9</td>\n",
              "      <td>58</td>\n",
              "      <td>Toro</td>\n",
              "      <td>995.00</td>\n",
              "      <td>Toro Red</td>\n",
              "      <td>5.0</td>\n",
              "      <td>3.0</td>\n",
              "    </tr>\n",
              "    <tr>\n",
              "      <th>1</th>\n",
              "      <td>Artadi</td>\n",
              "      <td>Vina El Pison</td>\n",
              "      <td>2018</td>\n",
              "      <td>4.9</td>\n",
              "      <td>31</td>\n",
              "      <td>Vino de Espana</td>\n",
              "      <td>313.50</td>\n",
              "      <td>Tempranillo</td>\n",
              "      <td>4.0</td>\n",
              "      <td>2.0</td>\n",
              "    </tr>\n",
              "    <tr>\n",
              "      <th>2</th>\n",
              "      <td>Vega Sicilia</td>\n",
              "      <td>Unico</td>\n",
              "      <td>2009</td>\n",
              "      <td>4.8</td>\n",
              "      <td>1793</td>\n",
              "      <td>Ribera del Duero</td>\n",
              "      <td>324.95</td>\n",
              "      <td>Ribera Del Duero Red</td>\n",
              "      <td>5.0</td>\n",
              "      <td>3.0</td>\n",
              "    </tr>\n",
              "    <tr>\n",
              "      <th>3</th>\n",
              "      <td>Vega Sicilia</td>\n",
              "      <td>Unico</td>\n",
              "      <td>1999</td>\n",
              "      <td>4.8</td>\n",
              "      <td>1705</td>\n",
              "      <td>Ribera del Duero</td>\n",
              "      <td>692.96</td>\n",
              "      <td>Ribera Del Duero Red</td>\n",
              "      <td>5.0</td>\n",
              "      <td>3.0</td>\n",
              "    </tr>\n",
              "    <tr>\n",
              "      <th>4</th>\n",
              "      <td>Vega Sicilia</td>\n",
              "      <td>Unico</td>\n",
              "      <td>1996</td>\n",
              "      <td>4.8</td>\n",
              "      <td>1309</td>\n",
              "      <td>Ribera del Duero</td>\n",
              "      <td>778.06</td>\n",
              "      <td>Ribera Del Duero Red</td>\n",
              "      <td>5.0</td>\n",
              "      <td>3.0</td>\n",
              "    </tr>\n",
              "  </tbody>\n",
              "</table>\n",
              "</div>\n",
              "      <button class=\"colab-df-convert\" onclick=\"convertToInteractive('df-cdc3c2e6-2943-4b04-9b7c-fcc9f9308938')\"\n",
              "              title=\"Convert this dataframe to an interactive table.\"\n",
              "              style=\"display:none;\">\n",
              "        \n",
              "  <svg xmlns=\"http://www.w3.org/2000/svg\" height=\"24px\"viewBox=\"0 0 24 24\"\n",
              "       width=\"24px\">\n",
              "    <path d=\"M0 0h24v24H0V0z\" fill=\"none\"/>\n",
              "    <path d=\"M18.56 5.44l.94 2.06.94-2.06 2.06-.94-2.06-.94-.94-2.06-.94 2.06-2.06.94zm-11 1L8.5 8.5l.94-2.06 2.06-.94-2.06-.94L8.5 2.5l-.94 2.06-2.06.94zm10 10l.94 2.06.94-2.06 2.06-.94-2.06-.94-.94-2.06-.94 2.06-2.06.94z\"/><path d=\"M17.41 7.96l-1.37-1.37c-.4-.4-.92-.59-1.43-.59-.52 0-1.04.2-1.43.59L10.3 9.45l-7.72 7.72c-.78.78-.78 2.05 0 2.83L4 21.41c.39.39.9.59 1.41.59.51 0 1.02-.2 1.41-.59l7.78-7.78 2.81-2.81c.8-.78.8-2.07 0-2.86zM5.41 20L4 18.59l7.72-7.72 1.47 1.35L5.41 20z\"/>\n",
              "  </svg>\n",
              "      </button>\n",
              "      \n",
              "  <style>\n",
              "    .colab-df-container {\n",
              "      display:flex;\n",
              "      flex-wrap:wrap;\n",
              "      gap: 12px;\n",
              "    }\n",
              "\n",
              "    .colab-df-convert {\n",
              "      background-color: #E8F0FE;\n",
              "      border: none;\n",
              "      border-radius: 50%;\n",
              "      cursor: pointer;\n",
              "      display: none;\n",
              "      fill: #1967D2;\n",
              "      height: 32px;\n",
              "      padding: 0 0 0 0;\n",
              "      width: 32px;\n",
              "    }\n",
              "\n",
              "    .colab-df-convert:hover {\n",
              "      background-color: #E2EBFA;\n",
              "      box-shadow: 0px 1px 2px rgba(60, 64, 67, 0.3), 0px 1px 3px 1px rgba(60, 64, 67, 0.15);\n",
              "      fill: #174EA6;\n",
              "    }\n",
              "\n",
              "    [theme=dark] .colab-df-convert {\n",
              "      background-color: #3B4455;\n",
              "      fill: #D2E3FC;\n",
              "    }\n",
              "\n",
              "    [theme=dark] .colab-df-convert:hover {\n",
              "      background-color: #434B5C;\n",
              "      box-shadow: 0px 1px 3px 1px rgba(0, 0, 0, 0.15);\n",
              "      filter: drop-shadow(0px 1px 2px rgba(0, 0, 0, 0.3));\n",
              "      fill: #FFFFFF;\n",
              "    }\n",
              "  </style>\n",
              "\n",
              "      <script>\n",
              "        const buttonEl =\n",
              "          document.querySelector('#df-cdc3c2e6-2943-4b04-9b7c-fcc9f9308938 button.colab-df-convert');\n",
              "        buttonEl.style.display =\n",
              "          google.colab.kernel.accessAllowed ? 'block' : 'none';\n",
              "\n",
              "        async function convertToInteractive(key) {\n",
              "          const element = document.querySelector('#df-cdc3c2e6-2943-4b04-9b7c-fcc9f9308938');\n",
              "          const dataTable =\n",
              "            await google.colab.kernel.invokeFunction('convertToInteractive',\n",
              "                                                     [key], {});\n",
              "          if (!dataTable) return;\n",
              "\n",
              "          const docLinkHtml = 'Like what you see? Visit the ' +\n",
              "            '<a target=\"_blank\" href=https://colab.research.google.com/notebooks/data_table.ipynb>data table notebook</a>'\n",
              "            + ' to learn more about interactive tables.';\n",
              "          element.innerHTML = '';\n",
              "          dataTable['output_type'] = 'display_data';\n",
              "          await google.colab.output.renderOutput(dataTable, element);\n",
              "          const docLink = document.createElement('div');\n",
              "          docLink.innerHTML = docLinkHtml;\n",
              "          element.appendChild(docLink);\n",
              "        }\n",
              "      </script>\n",
              "    </div>\n",
              "  </div>\n",
              "  "
            ]
          },
          "metadata": {},
          "execution_count": 37
        }
      ]
    },
    {
      "cell_type": "markdown",
      "source": [
        "###Duplicate Columns"
      ],
      "metadata": {
        "id": "qCHSg1z3qrCx"
      }
    },
    {
      "cell_type": "markdown",
      "source": [
        "I will now check for any duplicate rows."
      ],
      "metadata": {
        "id": "JIQGGD-FmHJ-"
      }
    },
    {
      "cell_type": "code",
      "source": [
        "#check for duplicates\n",
        "eda_df.duplicated().sum()"
      ],
      "metadata": {
        "colab": {
          "base_uri": "https://localhost:8080/"
        },
        "id": "_HMRSQQN-8ro",
        "outputId": "aa087d8d-1fcc-446a-e001-18d0ff358ecb"
      },
      "execution_count": 38,
      "outputs": [
        {
          "output_type": "execute_result",
          "data": {
            "text/plain": [
              "5452"
            ]
          },
          "metadata": {},
          "execution_count": 38
        }
      ]
    },
    {
      "cell_type": "markdown",
      "source": [
        "There are 5452 duplicate rows"
      ],
      "metadata": {
        "id": "rkLICoj3mLZD"
      }
    },
    {
      "cell_type": "code",
      "source": [
        "eda_df.shape"
      ],
      "metadata": {
        "colab": {
          "base_uri": "https://localhost:8080/"
        },
        "id": "rh1FEmZA_jJ_",
        "outputId": "6b3b840e-668f-454d-d57a-197ce1f7d1b6"
      },
      "execution_count": 39,
      "outputs": [
        {
          "output_type": "execute_result",
          "data": {
            "text/plain": [
              "(7500, 10)"
            ]
          },
          "metadata": {},
          "execution_count": 39
        }
      ]
    },
    {
      "cell_type": "code",
      "source": [
        "#drop duplicates\n",
        "eda_df.drop_duplicates(inplace = True)"
      ],
      "metadata": {
        "id": "L-TZt_2m_Cg6"
      },
      "execution_count": 40,
      "outputs": []
    },
    {
      "cell_type": "code",
      "source": [
        "eda_df.shape"
      ],
      "metadata": {
        "colab": {
          "base_uri": "https://localhost:8080/"
        },
        "id": "ZCbz1E53_cYk",
        "outputId": "6a4041f3-ccf9-4c94-f078-a61922716bef"
      },
      "execution_count": 41,
      "outputs": [
        {
          "output_type": "execute_result",
          "data": {
            "text/plain": [
              "(2048, 10)"
            ]
          },
          "metadata": {},
          "execution_count": 41
        }
      ]
    },
    {
      "cell_type": "markdown",
      "source": [
        "All duplicates have been dropped and there are now 2048 rows."
      ],
      "metadata": {
        "id": "TL5zNDYMmSfq"
      }
    },
    {
      "cell_type": "markdown",
      "source": [
        "###Missing Values"
      ],
      "metadata": {
        "id": "Yd75UJ7Yquha"
      }
    },
    {
      "cell_type": "markdown",
      "source": [
        "Now I will check for missing values."
      ],
      "metadata": {
        "id": "2VIAYepHmYje"
      }
    },
    {
      "cell_type": "code",
      "source": [
        "#check for missing values\n",
        "eda_df.isna().sum()"
      ],
      "metadata": {
        "colab": {
          "base_uri": "https://localhost:8080/"
        },
        "id": "gw_iiRoT_-bj",
        "outputId": "c6d225d9-ebc3-4643-e56e-6d2a1742a572"
      },
      "execution_count": 42,
      "outputs": [
        {
          "output_type": "execute_result",
          "data": {
            "text/plain": [
              "winery           0\n",
              "wine             0\n",
              "year             2\n",
              "rating           0\n",
              "num_reviews      0\n",
              "region           0\n",
              "price            0\n",
              "type           106\n",
              "body           271\n",
              "acidity        271\n",
              "dtype: int64"
            ]
          },
          "metadata": {},
          "execution_count": 42
        }
      ]
    },
    {
      "cell_type": "markdown",
      "source": [
        "Because there were over 5000 duplicate rows dropped, I will not drop any missing values to keep as much data as possible."
      ],
      "metadata": {
        "id": "cNbfsyR1mwtl"
      }
    },
    {
      "cell_type": "markdown",
      "source": [
        "I will create a loop to get the value counts of all of the columns so that I can find the most common values for each column, and check for any inconsistencies."
      ],
      "metadata": {
        "id": "JCR2H1crmcWp"
      }
    },
    {
      "cell_type": "code",
      "source": [
        "#loop to get all value counts\n",
        "cols = eda_df.dtypes.index\n",
        "\n",
        "for col in cols:\n",
        "  print(f'- {col}:')\n",
        "  print(df[col].value_counts(dropna=False))\n",
        "  print(\"\\n\\n\")"
      ],
      "metadata": {
        "colab": {
          "base_uri": "https://localhost:8080/"
        },
        "id": "YUJ-6oTCBYgp",
        "outputId": "f3f05702-b7dd-46b8-ba1d-861a4af416d2"
      },
      "execution_count": 43,
      "outputs": [
        {
          "output_type": "stream",
          "name": "stdout",
          "text": [
            "- winery:\n",
            "Contino                                 457\n",
            "Artadi                                  261\n",
            "La Rioja Alta                           254\n",
            "Sierra Cantabria                        237\n",
            "Matarromera                             232\n",
            "                                       ... \n",
            "Briego                                    1\n",
            "Guillem Carol - Cellers Carol Valles      1\n",
            "Particular                                1\n",
            "Bodegas Asenjo & Manso                    1\n",
            "Joan Simo                                 1\n",
            "Name: winery, Length: 480, dtype: int64\n",
            "\n",
            "\n",
            "\n",
            "- wine:\n",
            "Reserva                         467\n",
            "Gran Reserva                    458\n",
            "Rioja Reserva                   240\n",
            "El Viejo                        224\n",
            "Corimbo I                       223\n",
            "                               ... \n",
            "4 Varietales Coleccion Rioja      1\n",
            "Noble                             1\n",
            "Primordium                        1\n",
            "Finca Helena                      1\n",
            "Capricho Crianza                  1\n",
            "Name: wine, Length: 847, dtype: int64\n",
            "\n",
            "\n",
            "\n",
            "- year:\n",
            "2011    1190\n",
            "2016     897\n",
            "2015     860\n",
            "2018     850\n",
            "2017     731\n",
            "        ... \n",
            "1953       1\n",
            "1972       1\n",
            "1974       1\n",
            "1931       1\n",
            "1925       1\n",
            "Name: year, Length: 72, dtype: int64\n",
            "\n",
            "\n",
            "\n",
            "- rating:\n",
            "4.2    5679\n",
            "4.3     707\n",
            "4.4     484\n",
            "4.5     281\n",
            "4.6     191\n",
            "4.7     112\n",
            "4.8      44\n",
            "4.9       2\n",
            "Name: rating, dtype: int64\n",
            "\n",
            "\n",
            "\n",
            "- num_reviews:\n",
            "420     881\n",
            "410     662\n",
            "404     441\n",
            "390     440\n",
            "405     222\n",
            "       ... \n",
            "966       1\n",
            "1018      1\n",
            "1039      1\n",
            "1047      1\n",
            "746       1\n",
            "Name: num_reviews, Length: 817, dtype: int64\n",
            "\n",
            "\n",
            "\n",
            "- region:\n",
            "Rioja                              2440\n",
            "Ribera del Duero                   1413\n",
            "Priorato                            686\n",
            "Toro                                300\n",
            "Vino de Espana                      263\n",
            "                                   ... \n",
            "Ribera del Gallego-Cinco Villas       1\n",
            "Monterrei                             1\n",
            "Jerez Cream                           1\n",
            "Condado de Huelva                     1\n",
            "Abona                                 1\n",
            "Name: region, Length: 76, dtype: int64\n",
            "\n",
            "\n",
            "\n",
            "- price:\n",
            "37.90     228\n",
            "18.90     226\n",
            "45.00     225\n",
            "19.90     224\n",
            "17.90     223\n",
            "         ... \n",
            "47.52       1\n",
            "919.60      1\n",
            "94.20       1\n",
            "39.35       1\n",
            "995.00      1\n",
            "Name: price, Length: 1292, dtype: int64\n",
            "\n",
            "\n",
            "\n",
            "- type:\n",
            "Rioja Red               2357\n",
            "Ribera Del Duero Red    1407\n",
            "Red                      864\n",
            "Priorat Red              674\n",
            "NaN                      545\n",
            "Toro Red                 296\n",
            "Tempranillo              291\n",
            "Sherry                   274\n",
            "Albarino                 252\n",
            "Mencia                   235\n",
            "Rioja White               92\n",
            "Pedro Ximenez             35\n",
            "Grenache                  35\n",
            "Cava                      33\n",
            "Verdejo                   27\n",
            "Monastrell                18\n",
            "Montsant Red              17\n",
            "Syrah                     15\n",
            "Chardonnay                13\n",
            "Cabernet Sauvignon        11\n",
            "Sparkling                  5\n",
            "Sauvignon Blanc            4\n",
            "Name: type, dtype: int64\n",
            "\n",
            "\n",
            "\n",
            "- body:\n",
            "4.0    4120\n",
            "5.0    1624\n",
            "NaN    1169\n",
            "3.0     553\n",
            "2.0      34\n",
            "Name: body, dtype: int64\n",
            "\n",
            "\n",
            "\n",
            "- acidity:\n",
            "3.0    6028\n",
            "NaN    1169\n",
            "2.0     268\n",
            "1.0      35\n",
            "Name: acidity, dtype: int64\n",
            "\n",
            "\n",
            "\n"
          ]
        }
      ]
    },
    {
      "cell_type": "markdown",
      "source": [
        "The most common values seem to be much more common than the other values, so I will fill in the missing values with the most common in their column."
      ],
      "metadata": {
        "id": "vOHJTYz3nVPt"
      }
    },
    {
      "cell_type": "code",
      "source": [
        "#fill missing values\n",
        "eda_df.fillna({\"year\":2011, \"type\": 'Rioja Red', \"body\": 4.0, \"acidity\":3.0}, inplace = True)"
      ],
      "metadata": {
        "id": "EAgAyw3cKqjX"
      },
      "execution_count": 44,
      "outputs": []
    },
    {
      "cell_type": "code",
      "source": [
        "eda_df.isna().sum()"
      ],
      "metadata": {
        "colab": {
          "base_uri": "https://localhost:8080/"
        },
        "id": "BatkklhaL_fr",
        "outputId": "8b270a8a-3406-42a6-b64e-b7cf079bccaa"
      },
      "execution_count": 45,
      "outputs": [
        {
          "output_type": "execute_result",
          "data": {
            "text/plain": [
              "winery         0\n",
              "wine           0\n",
              "year           0\n",
              "rating         0\n",
              "num_reviews    0\n",
              "region         0\n",
              "price          0\n",
              "type           0\n",
              "body           0\n",
              "acidity        0\n",
              "dtype: int64"
            ]
          },
          "metadata": {},
          "execution_count": 45
        }
      ]
    },
    {
      "cell_type": "markdown",
      "source": [
        "There are no more missing values."
      ],
      "metadata": {
        "id": "L8DuWC_GnoAi"
      }
    },
    {
      "cell_type": "markdown",
      "source": [
        "The loop also showed that there are no inconsistncies in the dataset."
      ],
      "metadata": {
        "id": "0pMgWGfcnuh7"
      }
    },
    {
      "cell_type": "markdown",
      "source": [
        "##Exploring the Data"
      ],
      "metadata": {
        "id": "HmB-TkkCjLZF"
      }
    },
    {
      "cell_type": "markdown",
      "source": [
        "I will now get the data types of the values and try to find useful information in the numerical columns."
      ],
      "metadata": {
        "id": "-uWgii3Jn5QU"
      }
    },
    {
      "cell_type": "code",
      "source": [
        "#get data types\n",
        "eda_df.dtypes"
      ],
      "metadata": {
        "colab": {
          "base_uri": "https://localhost:8080/"
        },
        "id": "z-oF21Fwa-Rl",
        "outputId": "65f104aa-6e43-4e82-8323-38109781a6f1"
      },
      "execution_count": 46,
      "outputs": [
        {
          "output_type": "execute_result",
          "data": {
            "text/plain": [
              "winery          object\n",
              "wine            object\n",
              "year            object\n",
              "rating         float64\n",
              "num_reviews      int64\n",
              "region          object\n",
              "price          float64\n",
              "type            object\n",
              "body           float64\n",
              "acidity        float64\n",
              "dtype: object"
            ]
          },
          "metadata": {},
          "execution_count": 46
        }
      ]
    },
    {
      "cell_type": "markdown",
      "source": [
        "###Histplots"
      ],
      "metadata": {
        "id": "B3gLaZ_DraPp"
      }
    },
    {
      "cell_type": "code",
      "source": [
        "sns.histplot(data = eda_df['rating'])"
      ],
      "metadata": {
        "colab": {
          "base_uri": "https://localhost:8080/",
          "height": 318
        },
        "id": "mQhIGzhvaN3o",
        "outputId": "fa3c7db6-3eda-4df6-b222-e3b217a846a9"
      },
      "execution_count": 47,
      "outputs": [
        {
          "output_type": "execute_result",
          "data": {
            "text/plain": [
              "<matplotlib.axes._subplots.AxesSubplot at 0x7f8a8521e880>"
            ]
          },
          "metadata": {},
          "execution_count": 47
        },
        {
          "output_type": "display_data",
          "data": {
            "text/plain": [
              "<Figure size 432x288 with 1 Axes>"
            ],
            "image/png": "[encoded data removed]"
          },
          "metadata": {
            "needs_background": "light"
          }
        }
      ]
    },
    {
      "cell_type": "markdown",
      "source": [
        "It seems that the highest rating by far is 4.3, and counts seem to go down as rating goes up."
      ],
      "metadata": {
        "id": "uTvzneiBoOQK"
      }
    },
    {
      "cell_type": "code",
      "source": [
        "sns.histplot(data = eda_df['num_reviews'])"
      ],
      "metadata": {
        "colab": {
          "base_uri": "https://localhost:8080/",
          "height": 318
        },
        "id": "nQo7D8Uyc7Oe",
        "outputId": "7741caf3-8ad4-4f64-f24a-ba63f212d348"
      },
      "execution_count": 48,
      "outputs": [
        {
          "output_type": "execute_result",
          "data": {
            "text/plain": [
              "<matplotlib.axes._subplots.AxesSubplot at 0x7f8a87f44ac0>"
            ]
          },
          "metadata": {},
          "execution_count": 48
        },
        {
          "output_type": "display_data",
          "data": {
            "text/plain": [
              "<Figure size 432x288 with 1 Axes>"
            ],
            "image/png": "[encoded data removed]"
          },
          "metadata": {
            "needs_background": "light"
          }
        }
      ]
    },
    {
      "cell_type": "markdown",
      "source": [
        "The majority of wines have under 1000 reviews, with most being under 800. There are a few large outliers with the largest being 30,000"
      ],
      "metadata": {
        "id": "QDh3jsdPo1AA"
      }
    },
    {
      "cell_type": "code",
      "source": [
        "sns.histplot(data = eda_df['price'])"
      ],
      "metadata": {
        "colab": {
          "base_uri": "https://localhost:8080/",
          "height": 318
        },
        "id": "O2XRrPa7c76D",
        "outputId": "5f0c5d90-7a0b-47de-c877-53603ddd546d"
      },
      "execution_count": 49,
      "outputs": [
        {
          "output_type": "execute_result",
          "data": {
            "text/plain": [
              "<matplotlib.axes._subplots.AxesSubplot at 0x7f8a8e47b430>"
            ]
          },
          "metadata": {},
          "execution_count": 49
        },
        {
          "output_type": "display_data",
          "data": {
            "text/plain": [
              "<Figure size 432x288 with 1 Axes>"
            ],
            "image/png": "[encoded data removed]"
          },
          "metadata": {
            "needs_background": "light"
          }
        }
      ]
    },
    {
      "cell_type": "markdown",
      "source": [
        "Most of the wines cost under 50 dollars, but there are some outliers, the largest being around 3000 dollars."
      ],
      "metadata": {
        "id": "LAlaVPJapEhF"
      }
    },
    {
      "cell_type": "code",
      "source": [
        "sns.histplot(data = eda_df['body'])"
      ],
      "metadata": {
        "colab": {
          "base_uri": "https://localhost:8080/",
          "height": 318
        },
        "id": "VVBxQUZ3c8Z8",
        "outputId": "883ca76c-44b2-43c3-c8f6-c08c697ef84b"
      },
      "execution_count": 50,
      "outputs": [
        {
          "output_type": "execute_result",
          "data": {
            "text/plain": [
              "<matplotlib.axes._subplots.AxesSubplot at 0x7f8a898ed3d0>"
            ]
          },
          "metadata": {},
          "execution_count": 50
        },
        {
          "output_type": "display_data",
          "data": {
            "text/plain": [
              "<Figure size 432x288 with 1 Axes>"
            ],
            "image/png": "[encoded data removed]"
          },
          "metadata": {
            "needs_background": "light"
          }
        }
      ]
    },
    {
      "cell_type": "markdown",
      "source": [
        "It seems most wines have a body of 4.0, with 5.0 wines being roughly half the amount. Very few wines have a body of 2.0 and 3.0."
      ],
      "metadata": {
        "id": "oRL-GQyKpYIs"
      }
    },
    {
      "cell_type": "code",
      "source": [
        "sns.histplot(data = eda_df['acidity'])"
      ],
      "metadata": {
        "colab": {
          "base_uri": "https://localhost:8080/",
          "height": 321
        },
        "id": "VMaifVL5c8yc",
        "outputId": "b4524d71-e248-4850-f533-1bd8f622b055"
      },
      "execution_count": 51,
      "outputs": [
        {
          "output_type": "execute_result",
          "data": {
            "text/plain": [
              "<matplotlib.axes._subplots.AxesSubplot at 0x7f8a856db7c0>"
            ]
          },
          "metadata": {},
          "execution_count": 51
        },
        {
          "output_type": "display_data",
          "data": {
            "text/plain": [
              "<Figure size 432x288 with 1 Axes>"
            ],
            "image/png": "[encoded data removed]"
          },
          "metadata": {
            "needs_background": "light"
          }
        }
      ]
    },
    {
      "cell_type": "markdown",
      "source": [
        "Almost all wines have an acidity around 3.00. The other numbers are almost negligible."
      ],
      "metadata": {
        "id": "jiegSZ8Hpzm-"
      }
    },
    {
      "cell_type": "markdown",
      "source": [
        "###Heatmap"
      ],
      "metadata": {
        "id": "Rbw2WN_nrdlB"
      }
    },
    {
      "cell_type": "code",
      "source": [
        "corr = df.corr()\n",
        "sns.heatmap(corr, cmap='coolwarm', annot=True, fmt='.2f')"
      ],
      "metadata": {
        "colab": {
          "base_uri": "https://localhost:8080/",
          "height": 393
        },
        "id": "sTwLnS5Ni09T",
        "outputId": "c4070252-7f75-4d36-a721-20c4f461962d"
      },
      "execution_count": 52,
      "outputs": [
        {
          "output_type": "execute_result",
          "data": {
            "text/plain": [
              "<matplotlib.axes._subplots.AxesSubplot at 0x7f8a843b6b80>"
            ]
          },
          "metadata": {},
          "execution_count": 52
        },
        {
          "output_type": "display_data",
          "data": {
            "text/plain": [
              "<Figure size 432x288 with 2 Axes>"
            ],
            "image/png": "[encoded data removed]"
          },
          "metadata": {
            "needs_background": "light"
          }
        }
      ]
    },
    {
      "cell_type": "markdown",
      "source": [
        "This heat map shows that price seems to have the most affect on a wines rating."
      ],
      "metadata": {
        "id": "f9Ss2TDJqGIL"
      }
    },
    {
      "cell_type": "markdown",
      "source": [
        "##Explaining the Data"
      ],
      "metadata": {
        "id": "mrtwPTaVtHHc"
      }
    },
    {
      "cell_type": "code",
      "source": [
        "#create scatterplot and title\n",
        "fig, ax = plt.subplots(figsize = (10,5))\n",
        "sns.barplot(data = eda_df, x = 'rating', y = 'price')\n",
        "sns.set_context('talk')\n",
        "ax.set_title('Price VS. Rating',\n",
        "             fontfamily = 'serif',\n",
        "             fontsize = 'large', \n",
        "             fontweight = 'semibold');\n",
        "plt.xticks(rotation = 90)\n",
        "\n",
        "#change x and y axis font\n",
        "ax.set_xlabel(ax.xaxis.get_label().get_text(),\n",
        "    fontsize='medium')\n",
        "ax.set_ylabel(ax.yaxis.get_label().get_text(),\n",
        "    fontsize='medium')\n"
      ],
      "metadata": {
        "colab": {
          "base_uri": "https://localhost:8080/",
          "height": 403
        },
        "id": "MlHBz4fstN47",
        "outputId": "e24e716b-4c39-45a2-d6e7-407ff7ed93cb"
      },
      "execution_count": 53,
      "outputs": [
        {
          "output_type": "execute_result",
          "data": {
            "text/plain": [
              "Text(0, 0.5, 'price')"
            ]
          },
          "metadata": {},
          "execution_count": 53
        },
        {
          "output_type": "display_data",
          "data": {
            "text/plain": [
              "<Figure size 720x360 with 1 Axes>"
            ],
            "image/png": "[encoded data removed]"
          },
          "metadata": {
            "needs_background": "light"
          }
        }
      ]
    },
    {
      "cell_type": "markdown",
      "source": [
        "According to this bargraph, there is a clear postive correlation between rating and price. As the price goes up, so does the rating."
      ],
      "metadata": {
        "id": "vpU-QsuPzGQ9"
      }
    },
    {
      "cell_type": "code",
      "source": [
        "#create scatterplot and title\n",
        "fig, ax = plt.subplots(figsize = (10,5))\n",
        "sns.barplot(data = eda_df, x = 'body', y = 'price')\n",
        "sns.set_context('talk')\n",
        "ax.set_title('Price VS. Body',\n",
        "             fontfamily = 'serif',\n",
        "             fontsize = 'large', \n",
        "             fontweight = 'semibold');\n",
        "plt.xticks(rotation = 90)\n",
        "\n",
        "#change x and y axis font\n",
        "ax.set_xlabel(ax.xaxis.get_label().get_text(),\n",
        "    fontsize='medium')\n",
        "ax.set_ylabel(ax.yaxis.get_label().get_text(),\n",
        "    fontsize='medium')\n"
      ],
      "metadata": {
        "colab": {
          "base_uri": "https://localhost:8080/",
          "height": 403
        },
        "id": "ZXVJ8HWMy2dM",
        "outputId": "5f87a60c-dede-4790-c9c5-b6f1420d44a8"
      },
      "execution_count": 54,
      "outputs": [
        {
          "output_type": "execute_result",
          "data": {
            "text/plain": [
              "Text(0, 0.5, 'price')"
            ]
          },
          "metadata": {},
          "execution_count": 54
        },
        {
          "output_type": "display_data",
          "data": {
            "text/plain": [
              "<Figure size 720x360 with 1 Axes>"
            ],
            "image/png": "[encoded data removed]"
          },
          "metadata": {
            "needs_background": "light"
          }
        }
      ]
    },
    {
      "cell_type": "markdown",
      "source": [
        "A higher price also seems to indicate a higher body number, indicating that a higher body number likely equals better quality wine."
      ],
      "metadata": {
        "id": "peKshIPgzrWM"
      }
    },
    {
      "cell_type": "markdown",
      "source": [
        "I seems that price has a decent  effect on the quality of the wine, which likely causes expensive wine to get better reviews."
      ],
      "metadata": {
        "id": "leKccYFV01ZP"
      }
    }
  ]
}