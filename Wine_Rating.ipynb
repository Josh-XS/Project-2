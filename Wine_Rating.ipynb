{
  "nbformat": 4,
  "nbformat_minor": 0,
  "metadata": {
    "colab": {
      "provenance": [],
      "authorship_tag": "ABX9TyMQNe7QlS+m8qlhrK1b+FVP",
      "include_colab_link": true
    },
    "kernelspec": {
      "name": "python3",
      "display_name": "Python 3"
    },
    "language_info": {
      "name": "python"
    }
  },
  "cells": [
    {
      "cell_type": "markdown",
      "metadata": {
        "id": "view-in-github",
        "colab_type": "text"
      },
      "source": [
        "<a href=\"https://colab.research.google.com/github/Josh-XS/Wine-Rating/blob/main/Wine_Rating.ipynb\" target=\"_parent\"><img src=\"https://colab.research.google.com/assets/colab-badge.svg\" alt=\"Open In Colab\"/></a>"
      ]
    },
    {
      "cell_type": "markdown",
      "source": [
        "#Wine Rating"
      ],
      "metadata": {
        "id": "lfW0qIQed3Oq"
      }
    },
    {
      "cell_type": "markdown",
      "source": [
        "Joshua Nickell"
      ],
      "metadata": {
        "id": "_D-RAySsi8Fq"
      }
    },
    {
      "cell_type": "markdown",
      "source": [
        "Spanish Wine Quality Dataset\n",
        "\n",
        "1. fedesoriano. (April 2022). Spanish Wine Quality Dataset. Retrieved [Date Retrieved] from https://www.kaggle.com/datasets/fedesoriano/spanish-wine-quality-dataset\n",
        "\n",
        "2. This is a set of over 7000 different types of wine and their various features.\n",
        "\n",
        "3. The rating of the wine is the target.\n",
        "\n",
        "4. One row represents a type of wine.\n",
        "\n",
        "5. This is a classification problem.\n",
        "\n",
        "6. There are 11 features.\n",
        "\n",
        "7. There are 7500 rows.\n",
        "\n",
        "8. I do not forsee any particular challenges working with this dataset."
      ],
      "metadata": {
        "id": "VApuWDJWmTD3"
      }
    },
    {
      "cell_type": "markdown",
      "source": [
        "##Loading Data"
      ],
      "metadata": {
        "id": "wElGN-cAi-zv"
      }
    },
    {
      "cell_type": "code",
      "source": [
        "#import libraries\n",
        "import pandas as pd\n",
        "import numpy as np\n",
        "import matplotlib.pyplot as plt\n",
        "import seaborn as sns\n",
        "from sklearn.model_selection import train_test_split\n",
        "from sklearn.preprocessing import StandardScaler, OneHotEncoder, LabelEncoder\n",
        "from sklearn.impute import SimpleImputer\n",
        "from sklearn.compose import make_column_transformer, make_column_selector\n",
        "from sklearn.pipeline import make_pipeline\n",
        "from sklearn.linear_model import LogisticRegression\n",
        "from sklearn.metrics import classification_report\n",
        "from sklearn.neighbors import KNeighborsClassifier\n",
        "from sklearn.decomposition import PCA\n",
        "\n",
        "from sklearn import set_config\n",
        "set_config(display='diagram')"
      ],
      "metadata": {
        "id": "cfHd4R_5zNaZ"
      },
      "execution_count": 179,
      "outputs": []
    },
    {
      "cell_type": "code",
      "source": [
        "#create and view dataframe\n",
        "df = pd.read_csv('https://docs.google.com/spreadsheets/d/e/2PACX-1vRa6lJH575jdYrbRzM7BW8DvaY8hfID6AVfML_1RhmrBwkIXKuXn-yrm9ascN0QuOg4NObA4TnIIyQc/pub?gid=2015400164&single=true&output=csv')\n",
        "df.head()"
      ],
      "metadata": {
        "id": "J1bnjKt8y-0z",
        "colab": {
          "base_uri": "https://localhost:8080/",
          "height": 206
        },
        "outputId": "a020cca3-ead5-4ec1-dc23-42766e387046"
      },
      "execution_count": 180,
      "outputs": [
        {
          "output_type": "execute_result",
          "data": {
            "text/plain": [
              "          winery           wine  year  rating  num_reviews country  \\\n",
              "0  Teso La Monja          Tinto  2013     4.9           58  Espana   \n",
              "1         Artadi  Vina El Pison  2018     4.9           31  Espana   \n",
              "2   Vega Sicilia          Unico  2009     4.8         1793  Espana   \n",
              "3   Vega Sicilia          Unico  1999     4.8         1705  Espana   \n",
              "4   Vega Sicilia          Unico  1996     4.8         1309  Espana   \n",
              "\n",
              "             region   price                  type  body  acidity  \n",
              "0              Toro  995.00              Toro Red   5.0      3.0  \n",
              "1    Vino de Espana  313.50           Tempranillo   4.0      2.0  \n",
              "2  Ribera del Duero  324.95  Ribera Del Duero Red   5.0      3.0  \n",
              "3  Ribera del Duero  692.96  Ribera Del Duero Red   5.0      3.0  \n",
              "4  Ribera del Duero  778.06  Ribera Del Duero Red   5.0      3.0  "
            ],
            "text/html": [
              "\n",
              "  <div id=\"df-dd9b1d7d-8d82-49d1-860a-6931f4e02e77\">\n",
              "    <div class=\"colab-df-container\">\n",
              "      <div>\n",
              "<style scoped>\n",
              "    .dataframe tbody tr th:only-of-type {\n",
              "        vertical-align: middle;\n",
              "    }\n",
              "\n",
              "    .dataframe tbody tr th {\n",
              "        vertical-align: top;\n",
              "    }\n",
              "\n",
              "    .dataframe thead th {\n",
              "        text-align: right;\n",
              "    }\n",
              "</style>\n",
              "<table border=\"1\" class=\"dataframe\">\n",
              "  <thead>\n",
              "    <tr style=\"text-align: right;\">\n",
              "      <th></th>\n",
              "      <th>winery</th>\n",
              "      <th>wine</th>\n",
              "      <th>year</th>\n",
              "      <th>rating</th>\n",
              "      <th>num_reviews</th>\n",
              "      <th>country</th>\n",
              "      <th>region</th>\n",
              "      <th>price</th>\n",
              "      <th>type</th>\n",
              "      <th>body</th>\n",
              "      <th>acidity</th>\n",
              "    </tr>\n",
              "  </thead>\n",
              "  <tbody>\n",
              "    <tr>\n",
              "      <th>0</th>\n",
              "      <td>Teso La Monja</td>\n",
              "      <td>Tinto</td>\n",
              "      <td>2013</td>\n",
              "      <td>4.9</td>\n",
              "      <td>58</td>\n",
              "      <td>Espana</td>\n",
              "      <td>Toro</td>\n",
              "      <td>995.00</td>\n",
              "      <td>Toro Red</td>\n",
              "      <td>5.0</td>\n",
              "      <td>3.0</td>\n",
              "    </tr>\n",
              "    <tr>\n",
              "      <th>1</th>\n",
              "      <td>Artadi</td>\n",
              "      <td>Vina El Pison</td>\n",
              "      <td>2018</td>\n",
              "      <td>4.9</td>\n",
              "      <td>31</td>\n",
              "      <td>Espana</td>\n",
              "      <td>Vino de Espana</td>\n",
              "      <td>313.50</td>\n",
              "      <td>Tempranillo</td>\n",
              "      <td>4.0</td>\n",
              "      <td>2.0</td>\n",
              "    </tr>\n",
              "    <tr>\n",
              "      <th>2</th>\n",
              "      <td>Vega Sicilia</td>\n",
              "      <td>Unico</td>\n",
              "      <td>2009</td>\n",
              "      <td>4.8</td>\n",
              "      <td>1793</td>\n",
              "      <td>Espana</td>\n",
              "      <td>Ribera del Duero</td>\n",
              "      <td>324.95</td>\n",
              "      <td>Ribera Del Duero Red</td>\n",
              "      <td>5.0</td>\n",
              "      <td>3.0</td>\n",
              "    </tr>\n",
              "    <tr>\n",
              "      <th>3</th>\n",
              "      <td>Vega Sicilia</td>\n",
              "      <td>Unico</td>\n",
              "      <td>1999</td>\n",
              "      <td>4.8</td>\n",
              "      <td>1705</td>\n",
              "      <td>Espana</td>\n",
              "      <td>Ribera del Duero</td>\n",
              "      <td>692.96</td>\n",
              "      <td>Ribera Del Duero Red</td>\n",
              "      <td>5.0</td>\n",
              "      <td>3.0</td>\n",
              "    </tr>\n",
              "    <tr>\n",
              "      <th>4</th>\n",
              "      <td>Vega Sicilia</td>\n",
              "      <td>Unico</td>\n",
              "      <td>1996</td>\n",
              "      <td>4.8</td>\n",
              "      <td>1309</td>\n",
              "      <td>Espana</td>\n",
              "      <td>Ribera del Duero</td>\n",
              "      <td>778.06</td>\n",
              "      <td>Ribera Del Duero Red</td>\n",
              "      <td>5.0</td>\n",
              "      <td>3.0</td>\n",
              "    </tr>\n",
              "  </tbody>\n",
              "</table>\n",
              "</div>\n",
              "      <button class=\"colab-df-convert\" onclick=\"convertToInteractive('df-dd9b1d7d-8d82-49d1-860a-6931f4e02e77')\"\n",
              "              title=\"Convert this dataframe to an interactive table.\"\n",
              "              style=\"display:none;\">\n",
              "        \n",
              "  <svg xmlns=\"http://www.w3.org/2000/svg\" height=\"24px\"viewBox=\"0 0 24 24\"\n",
              "       width=\"24px\">\n",
              "    <path d=\"M0 0h24v24H0V0z\" fill=\"none\"/>\n",
              "    <path d=\"M18.56 5.44l.94 2.06.94-2.06 2.06-.94-2.06-.94-.94-2.06-.94 2.06-2.06.94zm-11 1L8.5 8.5l.94-2.06 2.06-.94-2.06-.94L8.5 2.5l-.94 2.06-2.06.94zm10 10l.94 2.06.94-2.06 2.06-.94-2.06-.94-.94-2.06-.94 2.06-2.06.94z\"/><path d=\"M17.41 7.96l-1.37-1.37c-.4-.4-.92-.59-1.43-.59-.52 0-1.04.2-1.43.59L10.3 9.45l-7.72 7.72c-.78.78-.78 2.05 0 2.83L4 21.41c.39.39.9.59 1.41.59.51 0 1.02-.2 1.41-.59l7.78-7.78 2.81-2.81c.8-.78.8-2.07 0-2.86zM5.41 20L4 18.59l7.72-7.72 1.47 1.35L5.41 20z\"/>\n",
              "  </svg>\n",
              "      </button>\n",
              "      \n",
              "  <style>\n",
              "    .colab-df-container {\n",
              "      display:flex;\n",
              "      flex-wrap:wrap;\n",
              "      gap: 12px;\n",
              "    }\n",
              "\n",
              "    .colab-df-convert {\n",
              "      background-color: #E8F0FE;\n",
              "      border: none;\n",
              "      border-radius: 50%;\n",
              "      cursor: pointer;\n",
              "      display: none;\n",
              "      fill: #1967D2;\n",
              "      height: 32px;\n",
              "      padding: 0 0 0 0;\n",
              "      width: 32px;\n",
              "    }\n",
              "\n",
              "    .colab-df-convert:hover {\n",
              "      background-color: #E2EBFA;\n",
              "      box-shadow: 0px 1px 2px rgba(60, 64, 67, 0.3), 0px 1px 3px 1px rgba(60, 64, 67, 0.15);\n",
              "      fill: #174EA6;\n",
              "    }\n",
              "\n",
              "    [theme=dark] .colab-df-convert {\n",
              "      background-color: #3B4455;\n",
              "      fill: #D2E3FC;\n",
              "    }\n",
              "\n",
              "    [theme=dark] .colab-df-convert:hover {\n",
              "      background-color: #434B5C;\n",
              "      box-shadow: 0px 1px 3px 1px rgba(0, 0, 0, 0.15);\n",
              "      filter: drop-shadow(0px 1px 2px rgba(0, 0, 0, 0.3));\n",
              "      fill: #FFFFFF;\n",
              "    }\n",
              "  </style>\n",
              "\n",
              "      <script>\n",
              "        const buttonEl =\n",
              "          document.querySelector('#df-dd9b1d7d-8d82-49d1-860a-6931f4e02e77 button.colab-df-convert');\n",
              "        buttonEl.style.display =\n",
              "          google.colab.kernel.accessAllowed ? 'block' : 'none';\n",
              "\n",
              "        async function convertToInteractive(key) {\n",
              "          const element = document.querySelector('#df-dd9b1d7d-8d82-49d1-860a-6931f4e02e77');\n",
              "          const dataTable =\n",
              "            await google.colab.kernel.invokeFunction('convertToInteractive',\n",
              "                                                     [key], {});\n",
              "          if (!dataTable) return;\n",
              "\n",
              "          const docLinkHtml = 'Like what you see? Visit the ' +\n",
              "            '<a target=\"_blank\" href=https://colab.research.google.com/notebooks/data_table.ipynb>data table notebook</a>'\n",
              "            + ' to learn more about interactive tables.';\n",
              "          element.innerHTML = '';\n",
              "          dataTable['output_type'] = 'display_data';\n",
              "          await google.colab.output.renderOutput(dataTable, element);\n",
              "          const docLink = document.createElement('div');\n",
              "          docLink.innerHTML = docLinkHtml;\n",
              "          element.appendChild(docLink);\n",
              "        }\n",
              "      </script>\n",
              "    </div>\n",
              "  </div>\n",
              "  "
            ]
          },
          "metadata": {},
          "execution_count": 180
        }
      ]
    },
    {
      "cell_type": "code",
      "source": [
        "df.describe()"
      ],
      "metadata": {
        "colab": {
          "base_uri": "https://localhost:8080/",
          "height": 300
        },
        "id": "9wwy8C_bl6hJ",
        "outputId": "f9ce8903-9cf0-42f5-f34b-816a3e636b63"
      },
      "execution_count": 181,
      "outputs": [
        {
          "output_type": "execute_result",
          "data": {
            "text/plain": [
              "            rating   num_reviews        price         body      acidity\n",
              "count  7500.000000   7500.000000  7500.000000  6331.000000  6331.000000\n",
              "mean      4.254933    451.109067    60.095822     4.158427     2.946612\n",
              "std       0.118029    723.001856   150.356676     0.583352     0.248202\n",
              "min       4.200000     25.000000     4.990000     2.000000     1.000000\n",
              "25%       4.200000    389.000000    18.900000     4.000000     3.000000\n",
              "50%       4.200000    404.000000    28.530000     4.000000     3.000000\n",
              "75%       4.200000    415.000000    51.350000     5.000000     3.000000\n",
              "max       4.900000  32624.000000  3119.080000     5.000000     3.000000"
            ],
            "text/html": [
              "\n",
              "  <div id=\"df-9517c839-2a82-4b03-ad7f-6b1b1b72e4a4\">\n",
              "    <div class=\"colab-df-container\">\n",
              "      <div>\n",
              "<style scoped>\n",
              "    .dataframe tbody tr th:only-of-type {\n",
              "        vertical-align: middle;\n",
              "    }\n",
              "\n",
              "    .dataframe tbody tr th {\n",
              "        vertical-align: top;\n",
              "    }\n",
              "\n",
              "    .dataframe thead th {\n",
              "        text-align: right;\n",
              "    }\n",
              "</style>\n",
              "<table border=\"1\" class=\"dataframe\">\n",
              "  <thead>\n",
              "    <tr style=\"text-align: right;\">\n",
              "      <th></th>\n",
              "      <th>rating</th>\n",
              "      <th>num_reviews</th>\n",
              "      <th>price</th>\n",
              "      <th>body</th>\n",
              "      <th>acidity</th>\n",
              "    </tr>\n",
              "  </thead>\n",
              "  <tbody>\n",
              "    <tr>\n",
              "      <th>count</th>\n",
              "      <td>7500.000000</td>\n",
              "      <td>7500.000000</td>\n",
              "      <td>7500.000000</td>\n",
              "      <td>6331.000000</td>\n",
              "      <td>6331.000000</td>\n",
              "    </tr>\n",
              "    <tr>\n",
              "      <th>mean</th>\n",
              "      <td>4.254933</td>\n",
              "      <td>451.109067</td>\n",
              "      <td>60.095822</td>\n",
              "      <td>4.158427</td>\n",
              "      <td>2.946612</td>\n",
              "    </tr>\n",
              "    <tr>\n",
              "      <th>std</th>\n",
              "      <td>0.118029</td>\n",
              "      <td>723.001856</td>\n",
              "      <td>150.356676</td>\n",
              "      <td>0.583352</td>\n",
              "      <td>0.248202</td>\n",
              "    </tr>\n",
              "    <tr>\n",
              "      <th>min</th>\n",
              "      <td>4.200000</td>\n",
              "      <td>25.000000</td>\n",
              "      <td>4.990000</td>\n",
              "      <td>2.000000</td>\n",
              "      <td>1.000000</td>\n",
              "    </tr>\n",
              "    <tr>\n",
              "      <th>25%</th>\n",
              "      <td>4.200000</td>\n",
              "      <td>389.000000</td>\n",
              "      <td>18.900000</td>\n",
              "      <td>4.000000</td>\n",
              "      <td>3.000000</td>\n",
              "    </tr>\n",
              "    <tr>\n",
              "      <th>50%</th>\n",
              "      <td>4.200000</td>\n",
              "      <td>404.000000</td>\n",
              "      <td>28.530000</td>\n",
              "      <td>4.000000</td>\n",
              "      <td>3.000000</td>\n",
              "    </tr>\n",
              "    <tr>\n",
              "      <th>75%</th>\n",
              "      <td>4.200000</td>\n",
              "      <td>415.000000</td>\n",
              "      <td>51.350000</td>\n",
              "      <td>5.000000</td>\n",
              "      <td>3.000000</td>\n",
              "    </tr>\n",
              "    <tr>\n",
              "      <th>max</th>\n",
              "      <td>4.900000</td>\n",
              "      <td>32624.000000</td>\n",
              "      <td>3119.080000</td>\n",
              "      <td>5.000000</td>\n",
              "      <td>3.000000</td>\n",
              "    </tr>\n",
              "  </tbody>\n",
              "</table>\n",
              "</div>\n",
              "      <button class=\"colab-df-convert\" onclick=\"convertToInteractive('df-9517c839-2a82-4b03-ad7f-6b1b1b72e4a4')\"\n",
              "              title=\"Convert this dataframe to an interactive table.\"\n",
              "              style=\"display:none;\">\n",
              "        \n",
              "  <svg xmlns=\"http://www.w3.org/2000/svg\" height=\"24px\"viewBox=\"0 0 24 24\"\n",
              "       width=\"24px\">\n",
              "    <path d=\"M0 0h24v24H0V0z\" fill=\"none\"/>\n",
              "    <path d=\"M18.56 5.44l.94 2.06.94-2.06 2.06-.94-2.06-.94-.94-2.06-.94 2.06-2.06.94zm-11 1L8.5 8.5l.94-2.06 2.06-.94-2.06-.94L8.5 2.5l-.94 2.06-2.06.94zm10 10l.94 2.06.94-2.06 2.06-.94-2.06-.94-.94-2.06-.94 2.06-2.06.94z\"/><path d=\"M17.41 7.96l-1.37-1.37c-.4-.4-.92-.59-1.43-.59-.52 0-1.04.2-1.43.59L10.3 9.45l-7.72 7.72c-.78.78-.78 2.05 0 2.83L4 21.41c.39.39.9.59 1.41.59.51 0 1.02-.2 1.41-.59l7.78-7.78 2.81-2.81c.8-.78.8-2.07 0-2.86zM5.41 20L4 18.59l7.72-7.72 1.47 1.35L5.41 20z\"/>\n",
              "  </svg>\n",
              "      </button>\n",
              "      \n",
              "  <style>\n",
              "    .colab-df-container {\n",
              "      display:flex;\n",
              "      flex-wrap:wrap;\n",
              "      gap: 12px;\n",
              "    }\n",
              "\n",
              "    .colab-df-convert {\n",
              "      background-color: #E8F0FE;\n",
              "      border: none;\n",
              "      border-radius: 50%;\n",
              "      cursor: pointer;\n",
              "      display: none;\n",
              "      fill: #1967D2;\n",
              "      height: 32px;\n",
              "      padding: 0 0 0 0;\n",
              "      width: 32px;\n",
              "    }\n",
              "\n",
              "    .colab-df-convert:hover {\n",
              "      background-color: #E2EBFA;\n",
              "      box-shadow: 0px 1px 2px rgba(60, 64, 67, 0.3), 0px 1px 3px 1px rgba(60, 64, 67, 0.15);\n",
              "      fill: #174EA6;\n",
              "    }\n",
              "\n",
              "    [theme=dark] .colab-df-convert {\n",
              "      background-color: #3B4455;\n",
              "      fill: #D2E3FC;\n",
              "    }\n",
              "\n",
              "    [theme=dark] .colab-df-convert:hover {\n",
              "      background-color: #434B5C;\n",
              "      box-shadow: 0px 1px 3px 1px rgba(0, 0, 0, 0.15);\n",
              "      filter: drop-shadow(0px 1px 2px rgba(0, 0, 0, 0.3));\n",
              "      fill: #FFFFFF;\n",
              "    }\n",
              "  </style>\n",
              "\n",
              "      <script>\n",
              "        const buttonEl =\n",
              "          document.querySelector('#df-9517c839-2a82-4b03-ad7f-6b1b1b72e4a4 button.colab-df-convert');\n",
              "        buttonEl.style.display =\n",
              "          google.colab.kernel.accessAllowed ? 'block' : 'none';\n",
              "\n",
              "        async function convertToInteractive(key) {\n",
              "          const element = document.querySelector('#df-9517c839-2a82-4b03-ad7f-6b1b1b72e4a4');\n",
              "          const dataTable =\n",
              "            await google.colab.kernel.invokeFunction('convertToInteractive',\n",
              "                                                     [key], {});\n",
              "          if (!dataTable) return;\n",
              "\n",
              "          const docLinkHtml = 'Like what you see? Visit the ' +\n",
              "            '<a target=\"_blank\" href=https://colab.research.google.com/notebooks/data_table.ipynb>data table notebook</a>'\n",
              "            + ' to learn more about interactive tables.';\n",
              "          element.innerHTML = '';\n",
              "          dataTable['output_type'] = 'display_data';\n",
              "          await google.colab.output.renderOutput(dataTable, element);\n",
              "          const docLink = document.createElement('div');\n",
              "          docLink.innerHTML = docLinkHtml;\n",
              "          element.appendChild(docLink);\n",
              "        }\n",
              "      </script>\n",
              "    </div>\n",
              "  </div>\n",
              "  "
            ]
          },
          "metadata": {},
          "execution_count": 181
        }
      ]
    },
    {
      "cell_type": "markdown",
      "source": [
        "##Cleaning the Data"
      ],
      "metadata": {
        "id": "ohVMNOfCjD7D"
      }
    },
    {
      "cell_type": "markdown",
      "source": [
        "First I will copy the data for exploration, so that I don't overwrite the original."
      ],
      "metadata": {
        "id": "H9c0pm7sk20R"
      }
    },
    {
      "cell_type": "code",
      "source": [
        "#copy the data for exploration\n",
        "eda_df = df.copy()"
      ],
      "metadata": {
        "id": "I2OFc-eL9dWy"
      },
      "execution_count": 182,
      "outputs": []
    },
    {
      "cell_type": "markdown",
      "source": [
        "###Unnessecary Columns"
      ],
      "metadata": {
        "id": "2cf4nEPoqnSV"
      }
    },
    {
      "cell_type": "markdown",
      "source": [
        "Then I will drop the 'country' column becasue all of the wines are from Spain, and this will not affect the data."
      ],
      "metadata": {
        "id": "wYGQZaQ7lYLV"
      }
    },
    {
      "cell_type": "code",
      "source": [
        "#drop unnessecary columns\n",
        "eda_df.drop(columns = 'country', inplace = True)"
      ],
      "metadata": {
        "id": "GPJYUmiF9vty"
      },
      "execution_count": 183,
      "outputs": []
    },
    {
      "cell_type": "code",
      "source": [
        "eda_df.head()"
      ],
      "metadata": {
        "colab": {
          "base_uri": "https://localhost:8080/",
          "height": 206
        },
        "id": "9NA_gRhj-tuz",
        "outputId": "7c216ae5-1a79-4c44-bb7f-4787d5c25752"
      },
      "execution_count": 184,
      "outputs": [
        {
          "output_type": "execute_result",
          "data": {
            "text/plain": [
              "          winery           wine  year  rating  num_reviews            region  \\\n",
              "0  Teso La Monja          Tinto  2013     4.9           58              Toro   \n",
              "1         Artadi  Vina El Pison  2018     4.9           31    Vino de Espana   \n",
              "2   Vega Sicilia          Unico  2009     4.8         1793  Ribera del Duero   \n",
              "3   Vega Sicilia          Unico  1999     4.8         1705  Ribera del Duero   \n",
              "4   Vega Sicilia          Unico  1996     4.8         1309  Ribera del Duero   \n",
              "\n",
              "    price                  type  body  acidity  \n",
              "0  995.00              Toro Red   5.0      3.0  \n",
              "1  313.50           Tempranillo   4.0      2.0  \n",
              "2  324.95  Ribera Del Duero Red   5.0      3.0  \n",
              "3  692.96  Ribera Del Duero Red   5.0      3.0  \n",
              "4  778.06  Ribera Del Duero Red   5.0      3.0  "
            ],
            "text/html": [
              "\n",
              "  <div id=\"df-8c94f501-096e-49b1-9b43-9d2058c086fa\">\n",
              "    <div class=\"colab-df-container\">\n",
              "      <div>\n",
              "<style scoped>\n",
              "    .dataframe tbody tr th:only-of-type {\n",
              "        vertical-align: middle;\n",
              "    }\n",
              "\n",
              "    .dataframe tbody tr th {\n",
              "        vertical-align: top;\n",
              "    }\n",
              "\n",
              "    .dataframe thead th {\n",
              "        text-align: right;\n",
              "    }\n",
              "</style>\n",
              "<table border=\"1\" class=\"dataframe\">\n",
              "  <thead>\n",
              "    <tr style=\"text-align: right;\">\n",
              "      <th></th>\n",
              "      <th>winery</th>\n",
              "      <th>wine</th>\n",
              "      <th>year</th>\n",
              "      <th>rating</th>\n",
              "      <th>num_reviews</th>\n",
              "      <th>region</th>\n",
              "      <th>price</th>\n",
              "      <th>type</th>\n",
              "      <th>body</th>\n",
              "      <th>acidity</th>\n",
              "    </tr>\n",
              "  </thead>\n",
              "  <tbody>\n",
              "    <tr>\n",
              "      <th>0</th>\n",
              "      <td>Teso La Monja</td>\n",
              "      <td>Tinto</td>\n",
              "      <td>2013</td>\n",
              "      <td>4.9</td>\n",
              "      <td>58</td>\n",
              "      <td>Toro</td>\n",
              "      <td>995.00</td>\n",
              "      <td>Toro Red</td>\n",
              "      <td>5.0</td>\n",
              "      <td>3.0</td>\n",
              "    </tr>\n",
              "    <tr>\n",
              "      <th>1</th>\n",
              "      <td>Artadi</td>\n",
              "      <td>Vina El Pison</td>\n",
              "      <td>2018</td>\n",
              "      <td>4.9</td>\n",
              "      <td>31</td>\n",
              "      <td>Vino de Espana</td>\n",
              "      <td>313.50</td>\n",
              "      <td>Tempranillo</td>\n",
              "      <td>4.0</td>\n",
              "      <td>2.0</td>\n",
              "    </tr>\n",
              "    <tr>\n",
              "      <th>2</th>\n",
              "      <td>Vega Sicilia</td>\n",
              "      <td>Unico</td>\n",
              "      <td>2009</td>\n",
              "      <td>4.8</td>\n",
              "      <td>1793</td>\n",
              "      <td>Ribera del Duero</td>\n",
              "      <td>324.95</td>\n",
              "      <td>Ribera Del Duero Red</td>\n",
              "      <td>5.0</td>\n",
              "      <td>3.0</td>\n",
              "    </tr>\n",
              "    <tr>\n",
              "      <th>3</th>\n",
              "      <td>Vega Sicilia</td>\n",
              "      <td>Unico</td>\n",
              "      <td>1999</td>\n",
              "      <td>4.8</td>\n",
              "      <td>1705</td>\n",
              "      <td>Ribera del Duero</td>\n",
              "      <td>692.96</td>\n",
              "      <td>Ribera Del Duero Red</td>\n",
              "      <td>5.0</td>\n",
              "      <td>3.0</td>\n",
              "    </tr>\n",
              "    <tr>\n",
              "      <th>4</th>\n",
              "      <td>Vega Sicilia</td>\n",
              "      <td>Unico</td>\n",
              "      <td>1996</td>\n",
              "      <td>4.8</td>\n",
              "      <td>1309</td>\n",
              "      <td>Ribera del Duero</td>\n",
              "      <td>778.06</td>\n",
              "      <td>Ribera Del Duero Red</td>\n",
              "      <td>5.0</td>\n",
              "      <td>3.0</td>\n",
              "    </tr>\n",
              "  </tbody>\n",
              "</table>\n",
              "</div>\n",
              "      <button class=\"colab-df-convert\" onclick=\"convertToInteractive('df-8c94f501-096e-49b1-9b43-9d2058c086fa')\"\n",
              "              title=\"Convert this dataframe to an interactive table.\"\n",
              "              style=\"display:none;\">\n",
              "        \n",
              "  <svg xmlns=\"http://www.w3.org/2000/svg\" height=\"24px\"viewBox=\"0 0 24 24\"\n",
              "       width=\"24px\">\n",
              "    <path d=\"M0 0h24v24H0V0z\" fill=\"none\"/>\n",
              "    <path d=\"M18.56 5.44l.94 2.06.94-2.06 2.06-.94-2.06-.94-.94-2.06-.94 2.06-2.06.94zm-11 1L8.5 8.5l.94-2.06 2.06-.94-2.06-.94L8.5 2.5l-.94 2.06-2.06.94zm10 10l.94 2.06.94-2.06 2.06-.94-2.06-.94-.94-2.06-.94 2.06-2.06.94z\"/><path d=\"M17.41 7.96l-1.37-1.37c-.4-.4-.92-.59-1.43-.59-.52 0-1.04.2-1.43.59L10.3 9.45l-7.72 7.72c-.78.78-.78 2.05 0 2.83L4 21.41c.39.39.9.59 1.41.59.51 0 1.02-.2 1.41-.59l7.78-7.78 2.81-2.81c.8-.78.8-2.07 0-2.86zM5.41 20L4 18.59l7.72-7.72 1.47 1.35L5.41 20z\"/>\n",
              "  </svg>\n",
              "      </button>\n",
              "      \n",
              "  <style>\n",
              "    .colab-df-container {\n",
              "      display:flex;\n",
              "      flex-wrap:wrap;\n",
              "      gap: 12px;\n",
              "    }\n",
              "\n",
              "    .colab-df-convert {\n",
              "      background-color: #E8F0FE;\n",
              "      border: none;\n",
              "      border-radius: 50%;\n",
              "      cursor: pointer;\n",
              "      display: none;\n",
              "      fill: #1967D2;\n",
              "      height: 32px;\n",
              "      padding: 0 0 0 0;\n",
              "      width: 32px;\n",
              "    }\n",
              "\n",
              "    .colab-df-convert:hover {\n",
              "      background-color: #E2EBFA;\n",
              "      box-shadow: 0px 1px 2px rgba(60, 64, 67, 0.3), 0px 1px 3px 1px rgba(60, 64, 67, 0.15);\n",
              "      fill: #174EA6;\n",
              "    }\n",
              "\n",
              "    [theme=dark] .colab-df-convert {\n",
              "      background-color: #3B4455;\n",
              "      fill: #D2E3FC;\n",
              "    }\n",
              "\n",
              "    [theme=dark] .colab-df-convert:hover {\n",
              "      background-color: #434B5C;\n",
              "      box-shadow: 0px 1px 3px 1px rgba(0, 0, 0, 0.15);\n",
              "      filter: drop-shadow(0px 1px 2px rgba(0, 0, 0, 0.3));\n",
              "      fill: #FFFFFF;\n",
              "    }\n",
              "  </style>\n",
              "\n",
              "      <script>\n",
              "        const buttonEl =\n",
              "          document.querySelector('#df-8c94f501-096e-49b1-9b43-9d2058c086fa button.colab-df-convert');\n",
              "        buttonEl.style.display =\n",
              "          google.colab.kernel.accessAllowed ? 'block' : 'none';\n",
              "\n",
              "        async function convertToInteractive(key) {\n",
              "          const element = document.querySelector('#df-8c94f501-096e-49b1-9b43-9d2058c086fa');\n",
              "          const dataTable =\n",
              "            await google.colab.kernel.invokeFunction('convertToInteractive',\n",
              "                                                     [key], {});\n",
              "          if (!dataTable) return;\n",
              "\n",
              "          const docLinkHtml = 'Like what you see? Visit the ' +\n",
              "            '<a target=\"_blank\" href=https://colab.research.google.com/notebooks/data_table.ipynb>data table notebook</a>'\n",
              "            + ' to learn more about interactive tables.';\n",
              "          element.innerHTML = '';\n",
              "          dataTable['output_type'] = 'display_data';\n",
              "          await google.colab.output.renderOutput(dataTable, element);\n",
              "          const docLink = document.createElement('div');\n",
              "          docLink.innerHTML = docLinkHtml;\n",
              "          element.appendChild(docLink);\n",
              "        }\n",
              "      </script>\n",
              "    </div>\n",
              "  </div>\n",
              "  "
            ]
          },
          "metadata": {},
          "execution_count": 184
        }
      ]
    },
    {
      "cell_type": "markdown",
      "source": [
        "###Duplicate Columns"
      ],
      "metadata": {
        "id": "qCHSg1z3qrCx"
      }
    },
    {
      "cell_type": "markdown",
      "source": [
        "I will now check for any duplicate rows."
      ],
      "metadata": {
        "id": "JIQGGD-FmHJ-"
      }
    },
    {
      "cell_type": "code",
      "source": [
        "#check for duplicates\n",
        "eda_df.duplicated().sum()"
      ],
      "metadata": {
        "colab": {
          "base_uri": "https://localhost:8080/"
        },
        "id": "_HMRSQQN-8ro",
        "outputId": "db6b095c-7e09-4951-d203-df434ad5c2f1"
      },
      "execution_count": 185,
      "outputs": [
        {
          "output_type": "execute_result",
          "data": {
            "text/plain": [
              "5452"
            ]
          },
          "metadata": {},
          "execution_count": 185
        }
      ]
    },
    {
      "cell_type": "markdown",
      "source": [
        "There are 5452 duplicate rows"
      ],
      "metadata": {
        "id": "rkLICoj3mLZD"
      }
    },
    {
      "cell_type": "code",
      "source": [
        "eda_df.shape"
      ],
      "metadata": {
        "colab": {
          "base_uri": "https://localhost:8080/"
        },
        "id": "rh1FEmZA_jJ_",
        "outputId": "d7051807-7491-4f2d-c926-92bd403cb804"
      },
      "execution_count": 186,
      "outputs": [
        {
          "output_type": "execute_result",
          "data": {
            "text/plain": [
              "(7500, 10)"
            ]
          },
          "metadata": {},
          "execution_count": 186
        }
      ]
    },
    {
      "cell_type": "code",
      "source": [
        "#drop duplicates\n",
        "eda_df.drop_duplicates(inplace = True)"
      ],
      "metadata": {
        "id": "L-TZt_2m_Cg6"
      },
      "execution_count": 187,
      "outputs": []
    },
    {
      "cell_type": "code",
      "source": [
        "eda_df.shape"
      ],
      "metadata": {
        "colab": {
          "base_uri": "https://localhost:8080/"
        },
        "id": "ZCbz1E53_cYk",
        "outputId": "f518569e-f7d8-4648-a63c-7f7f8529b481"
      },
      "execution_count": 188,
      "outputs": [
        {
          "output_type": "execute_result",
          "data": {
            "text/plain": [
              "(2048, 10)"
            ]
          },
          "metadata": {},
          "execution_count": 188
        }
      ]
    },
    {
      "cell_type": "markdown",
      "source": [
        "All duplicates have been dropped and there are now 2048 rows."
      ],
      "metadata": {
        "id": "TL5zNDYMmSfq"
      }
    },
    {
      "cell_type": "markdown",
      "source": [
        "###Missing Values"
      ],
      "metadata": {
        "id": "Yd75UJ7Yquha"
      }
    },
    {
      "cell_type": "markdown",
      "source": [
        "Now I will check for missing values."
      ],
      "metadata": {
        "id": "2VIAYepHmYje"
      }
    },
    {
      "cell_type": "code",
      "source": [
        "#check for missing values\n",
        "eda_df.isna().sum()"
      ],
      "metadata": {
        "colab": {
          "base_uri": "https://localhost:8080/"
        },
        "id": "gw_iiRoT_-bj",
        "outputId": "f70b8997-967d-4a41-8a11-d3194367e5be"
      },
      "execution_count": 189,
      "outputs": [
        {
          "output_type": "execute_result",
          "data": {
            "text/plain": [
              "winery           0\n",
              "wine             0\n",
              "year             2\n",
              "rating           0\n",
              "num_reviews      0\n",
              "region           0\n",
              "price            0\n",
              "type           106\n",
              "body           271\n",
              "acidity        271\n",
              "dtype: int64"
            ]
          },
          "metadata": {},
          "execution_count": 189
        }
      ]
    },
    {
      "cell_type": "markdown",
      "source": [
        "Because there were over 5000 duplicate rows dropped, I will not drop any missing values to keep as much data as possible."
      ],
      "metadata": {
        "id": "cNbfsyR1mwtl"
      }
    },
    {
      "cell_type": "markdown",
      "source": [
        "I will create a loop to get the value counts of all of the columns so that I can find the most common values for each column, and check for any inconsistencies."
      ],
      "metadata": {
        "id": "JCR2H1crmcWp"
      }
    },
    {
      "cell_type": "code",
      "source": [
        "#loop to get all value counts\n",
        "cols = eda_df.dtypes.index\n",
        "\n",
        "for col in cols:\n",
        "  print(f'- {col}:')\n",
        "  print(df[col].value_counts(dropna=False))\n",
        "  print(\"\\n\\n\")"
      ],
      "metadata": {
        "colab": {
          "base_uri": "https://localhost:8080/"
        },
        "id": "YUJ-6oTCBYgp",
        "outputId": "1f428367-ee0c-424f-b593-76b67c39840e"
      },
      "execution_count": 190,
      "outputs": [
        {
          "output_type": "stream",
          "name": "stdout",
          "text": [
            "- winery:\n",
            "Contino                                 457\n",
            "Artadi                                  261\n",
            "La Rioja Alta                           254\n",
            "Sierra Cantabria                        237\n",
            "Matarromera                             232\n",
            "                                       ... \n",
            "Briego                                    1\n",
            "Guillem Carol - Cellers Carol Valles      1\n",
            "Particular                                1\n",
            "Bodegas Asenjo & Manso                    1\n",
            "Joan Simo                                 1\n",
            "Name: winery, Length: 480, dtype: int64\n",
            "\n",
            "\n",
            "\n",
            "- wine:\n",
            "Reserva                         467\n",
            "Gran Reserva                    458\n",
            "Rioja Reserva                   240\n",
            "El Viejo                        224\n",
            "Corimbo I                       223\n",
            "                               ... \n",
            "4 Varietales Coleccion Rioja      1\n",
            "Noble                             1\n",
            "Primordium                        1\n",
            "Finca Helena                      1\n",
            "Capricho Crianza                  1\n",
            "Name: wine, Length: 847, dtype: int64\n",
            "\n",
            "\n",
            "\n",
            "- year:\n",
            "2011    1190\n",
            "2016     897\n",
            "2015     860\n",
            "2018     850\n",
            "2017     731\n",
            "        ... \n",
            "1953       1\n",
            "1972       1\n",
            "1974       1\n",
            "1931       1\n",
            "1925       1\n",
            "Name: year, Length: 72, dtype: int64\n",
            "\n",
            "\n",
            "\n",
            "- rating:\n",
            "4.2    5679\n",
            "4.3     707\n",
            "4.4     484\n",
            "4.5     281\n",
            "4.6     191\n",
            "4.7     112\n",
            "4.8      44\n",
            "4.9       2\n",
            "Name: rating, dtype: int64\n",
            "\n",
            "\n",
            "\n",
            "- num_reviews:\n",
            "420     881\n",
            "410     662\n",
            "404     441\n",
            "390     440\n",
            "405     222\n",
            "       ... \n",
            "966       1\n",
            "1018      1\n",
            "1039      1\n",
            "1047      1\n",
            "746       1\n",
            "Name: num_reviews, Length: 817, dtype: int64\n",
            "\n",
            "\n",
            "\n",
            "- region:\n",
            "Rioja                              2440\n",
            "Ribera del Duero                   1413\n",
            "Priorato                            686\n",
            "Toro                                300\n",
            "Vino de Espana                      263\n",
            "                                   ... \n",
            "Ribera del Gallego-Cinco Villas       1\n",
            "Monterrei                             1\n",
            "Jerez Cream                           1\n",
            "Condado de Huelva                     1\n",
            "Abona                                 1\n",
            "Name: region, Length: 76, dtype: int64\n",
            "\n",
            "\n",
            "\n",
            "- price:\n",
            "37.90     228\n",
            "18.90     226\n",
            "45.00     225\n",
            "19.90     224\n",
            "17.90     223\n",
            "         ... \n",
            "47.52       1\n",
            "919.60      1\n",
            "94.20       1\n",
            "39.35       1\n",
            "995.00      1\n",
            "Name: price, Length: 1292, dtype: int64\n",
            "\n",
            "\n",
            "\n",
            "- type:\n",
            "Rioja Red               2357\n",
            "Ribera Del Duero Red    1407\n",
            "Red                      864\n",
            "Priorat Red              674\n",
            "NaN                      545\n",
            "Toro Red                 296\n",
            "Tempranillo              291\n",
            "Sherry                   274\n",
            "Albarino                 252\n",
            "Mencia                   235\n",
            "Rioja White               92\n",
            "Pedro Ximenez             35\n",
            "Grenache                  35\n",
            "Cava                      33\n",
            "Verdejo                   27\n",
            "Monastrell                18\n",
            "Montsant Red              17\n",
            "Syrah                     15\n",
            "Chardonnay                13\n",
            "Cabernet Sauvignon        11\n",
            "Sparkling                  5\n",
            "Sauvignon Blanc            4\n",
            "Name: type, dtype: int64\n",
            "\n",
            "\n",
            "\n",
            "- body:\n",
            "4.0    4120\n",
            "5.0    1624\n",
            "NaN    1169\n",
            "3.0     553\n",
            "2.0      34\n",
            "Name: body, dtype: int64\n",
            "\n",
            "\n",
            "\n",
            "- acidity:\n",
            "3.0    6028\n",
            "NaN    1169\n",
            "2.0     268\n",
            "1.0      35\n",
            "Name: acidity, dtype: int64\n",
            "\n",
            "\n",
            "\n"
          ]
        }
      ]
    },
    {
      "cell_type": "markdown",
      "source": [
        "The most common values seem to be much more common than the other values, so I will fill in the missing values with the most common in their column."
      ],
      "metadata": {
        "id": "vOHJTYz3nVPt"
      }
    },
    {
      "cell_type": "code",
      "source": [
        "#fill missing values\n",
        "eda_df.fillna({\"year\":2011, \"type\": 'Rioja Red', \"body\": 4.0, \"acidity\":3.0}, inplace = True)"
      ],
      "metadata": {
        "id": "EAgAyw3cKqjX"
      },
      "execution_count": 191,
      "outputs": []
    },
    {
      "cell_type": "code",
      "source": [
        "eda_df.isna().sum()"
      ],
      "metadata": {
        "colab": {
          "base_uri": "https://localhost:8080/"
        },
        "id": "BatkklhaL_fr",
        "outputId": "7f1b494a-0a5b-4511-de97-b1aad0765a9f"
      },
      "execution_count": 192,
      "outputs": [
        {
          "output_type": "execute_result",
          "data": {
            "text/plain": [
              "winery         0\n",
              "wine           0\n",
              "year           0\n",
              "rating         0\n",
              "num_reviews    0\n",
              "region         0\n",
              "price          0\n",
              "type           0\n",
              "body           0\n",
              "acidity        0\n",
              "dtype: int64"
            ]
          },
          "metadata": {},
          "execution_count": 192
        }
      ]
    },
    {
      "cell_type": "markdown",
      "source": [
        "There are no more missing values."
      ],
      "metadata": {
        "id": "L8DuWC_GnoAi"
      }
    },
    {
      "cell_type": "markdown",
      "source": [
        "The loop also showed that there are no inconsistncies in the dataset."
      ],
      "metadata": {
        "id": "0pMgWGfcnuh7"
      }
    },
    {
      "cell_type": "markdown",
      "source": [
        "##Exploring the Data"
      ],
      "metadata": {
        "id": "HmB-TkkCjLZF"
      }
    },
    {
      "cell_type": "markdown",
      "source": [
        "I will now get the data types of the values and try to find useful information in the numerical columns."
      ],
      "metadata": {
        "id": "-uWgii3Jn5QU"
      }
    },
    {
      "cell_type": "code",
      "source": [
        "#get data types\n",
        "eda_df.dtypes"
      ],
      "metadata": {
        "colab": {
          "base_uri": "https://localhost:8080/"
        },
        "id": "z-oF21Fwa-Rl",
        "outputId": "9079475f-70ae-4397-a1ce-0b2acf5509fa"
      },
      "execution_count": 193,
      "outputs": [
        {
          "output_type": "execute_result",
          "data": {
            "text/plain": [
              "winery          object\n",
              "wine            object\n",
              "year            object\n",
              "rating         float64\n",
              "num_reviews      int64\n",
              "region          object\n",
              "price          float64\n",
              "type            object\n",
              "body           float64\n",
              "acidity        float64\n",
              "dtype: object"
            ]
          },
          "metadata": {},
          "execution_count": 193
        }
      ]
    },
    {
      "cell_type": "markdown",
      "source": [
        "###Histplots"
      ],
      "metadata": {
        "id": "B3gLaZ_DraPp"
      }
    },
    {
      "cell_type": "code",
      "source": [
        "sns.histplot(data = eda_df['rating'])"
      ],
      "metadata": {
        "colab": {
          "base_uri": "https://localhost:8080/",
          "height": 372
        },
        "id": "mQhIGzhvaN3o",
        "outputId": "4a17abe8-d3f0-4512-9105-45f3542ea4f1"
      },
      "execution_count": 194,
      "outputs": [
        {
          "output_type": "execute_result",
          "data": {
            "text/plain": [
              "<matplotlib.axes._subplots.AxesSubplot at 0x7fe986653d30>"
            ]
          },
          "metadata": {},
          "execution_count": 194
        },
        {
          "output_type": "display_data",
          "data": {
            "text/plain": [
              "<Figure size 720x360 with 1 Axes>"
            ],
            "image/png": "[encoded data removed]"
          },
          "metadata": {
            "needs_background": "light"
          }
        }
      ]
    },
    {
      "cell_type": "markdown",
      "source": [
        "It seems that the highest rating by far is 4.3, and counts seem to go down as rating goes up."
      ],
      "metadata": {
        "id": "uTvzneiBoOQK"
      }
    },
    {
      "cell_type": "code",
      "source": [
        "plt.rcParams[\"figure.figsize\"] = (10, 5)\n",
        "sns.histplot(data = eda_df.groupby(by='num_reviews')['type'], bins='auto', legend=False)\n",
        "plt.xlabel('Number of Reviews')"
      ],
      "metadata": {
        "colab": {
          "base_uri": "https://localhost:8080/",
          "height": 372
        },
        "id": "nQo7D8Uyc7Oe",
        "outputId": "a7e11009-8f57-4ce8-a3bd-1e7b3ad420d9"
      },
      "execution_count": 195,
      "outputs": [
        {
          "output_type": "execute_result",
          "data": {
            "text/plain": [
              "Text(0.5, 0, 'Number of Reviews')"
            ]
          },
          "metadata": {},
          "execution_count": 195
        },
        {
          "output_type": "display_data",
          "data": {
            "text/plain": [
              "<Figure size 720x360 with 1 Axes>"
            ],
            "image/png": "[encoded data removed]"
          },
          "metadata": {
            "needs_background": "light"
          }
        }
      ]
    },
    {
      "cell_type": "markdown",
      "source": [
        "The majority of wines have under 5000 reviews, with most being under 1000. There are a few large outliers with the largest being 30,000"
      ],
      "metadata": {
        "id": "QDh3jsdPo1AA"
      }
    },
    {
      "cell_type": "code",
      "source": [
        "plt.rcParams[\"figure.figsize\"] = (10, 5)\n",
        "sns.histplot(data = eda_df.groupby(by='price')['type'], bins='auto', legend=False)"
      ],
      "metadata": {
        "colab": {
          "base_uri": "https://localhost:8080/",
          "height": 350
        },
        "id": "O2XRrPa7c76D",
        "outputId": "07bc412a-d516-4787-c146-d13accc872e2"
      },
      "execution_count": 196,
      "outputs": [
        {
          "output_type": "execute_result",
          "data": {
            "text/plain": [
              "<matplotlib.axes._subplots.AxesSubplot at 0x7fe9853e4580>"
            ]
          },
          "metadata": {},
          "execution_count": 196
        },
        {
          "output_type": "display_data",
          "data": {
            "text/plain": [
              "<Figure size 720x360 with 1 Axes>"
            ],
            "image/png": "[encoded data removed]"
          },
          "metadata": {
            "needs_background": "light"
          }
        }
      ]
    },
    {
      "cell_type": "markdown",
      "source": [
        "Most of the wines cost under 100 dollars, but there are some outliers, the largest being around 3000 dollars."
      ],
      "metadata": {
        "id": "LAlaVPJapEhF"
      }
    },
    {
      "cell_type": "code",
      "source": [
        "sns.histplot(data = eda_df['body'])"
      ],
      "metadata": {
        "colab": {
          "base_uri": "https://localhost:8080/",
          "height": 372
        },
        "id": "VVBxQUZ3c8Z8",
        "outputId": "420aec9d-7da0-47d1-c58e-e3cb7413986b"
      },
      "execution_count": 197,
      "outputs": [
        {
          "output_type": "execute_result",
          "data": {
            "text/plain": [
              "<matplotlib.axes._subplots.AxesSubplot at 0x7fe9851ad520>"
            ]
          },
          "metadata": {},
          "execution_count": 197
        },
        {
          "output_type": "display_data",
          "data": {
            "text/plain": [
              "<Figure size 720x360 with 1 Axes>"
            ],
            "image/png": "[encoded data removed]"
          },
          "metadata": {
            "needs_background": "light"
          }
        }
      ]
    },
    {
      "cell_type": "markdown",
      "source": [
        "It seems most wines have a body of 4.0, with 5.0 wines being roughly half the amount. Very few wines have a body of 2.0 and 3.0."
      ],
      "metadata": {
        "id": "oRL-GQyKpYIs"
      }
    },
    {
      "cell_type": "code",
      "source": [
        "sns.histplot(data = eda_df['acidity'])"
      ],
      "metadata": {
        "colab": {
          "base_uri": "https://localhost:8080/",
          "height": 374
        },
        "id": "VMaifVL5c8yc",
        "outputId": "67350571-7ed4-4d0b-c384-bfbf07640a97"
      },
      "execution_count": 198,
      "outputs": [
        {
          "output_type": "execute_result",
          "data": {
            "text/plain": [
              "<matplotlib.axes._subplots.AxesSubplot at 0x7fe987783c40>"
            ]
          },
          "metadata": {},
          "execution_count": 198
        },
        {
          "output_type": "display_data",
          "data": {
            "text/plain": [
              "<Figure size 720x360 with 1 Axes>"
            ],
            "image/png": "[encoded data removed]"
          },
          "metadata": {
            "needs_background": "light"
          }
        }
      ]
    },
    {
      "cell_type": "markdown",
      "source": [
        "Almost all wines have an acidity around 3.00. The other numbers are almost negligible."
      ],
      "metadata": {
        "id": "jiegSZ8Hpzm-"
      }
    },
    {
      "cell_type": "markdown",
      "source": [
        "###Heatmap"
      ],
      "metadata": {
        "id": "Rbw2WN_nrdlB"
      }
    },
    {
      "cell_type": "code",
      "source": [
        "corr = df.corr()\n",
        "sns.heatmap(corr, cmap='coolwarm', annot=True, fmt='.2f')"
      ],
      "metadata": {
        "colab": {
          "base_uri": "https://localhost:8080/",
          "height": 357
        },
        "id": "sTwLnS5Ni09T",
        "outputId": "1a970b3b-68b1-40f3-c8c7-b20a2f8c60b8"
      },
      "execution_count": 199,
      "outputs": [
        {
          "output_type": "execute_result",
          "data": {
            "text/plain": [
              "<matplotlib.axes._subplots.AxesSubplot at 0x7fe985d89a00>"
            ]
          },
          "metadata": {},
          "execution_count": 199
        },
        {
          "output_type": "display_data",
          "data": {
            "text/plain": [
              "<Figure size 720x360 with 2 Axes>"
            ],
            "image/png": "[encoded data removed]"
          },
          "metadata": {
            "needs_background": "light"
          }
        }
      ]
    },
    {
      "cell_type": "markdown",
      "source": [
        "This heat map shows that price seems to have the most affect on a wines rating."
      ],
      "metadata": {
        "id": "f9Ss2TDJqGIL"
      }
    },
    {
      "cell_type": "markdown",
      "source": [
        "##Explaining the Data"
      ],
      "metadata": {
        "id": "mrtwPTaVtHHc"
      }
    },
    {
      "cell_type": "code",
      "source": [
        "#create scatterplot and title\n",
        "fig, ax = plt.subplots(figsize = (10,5))\n",
        "sns.barplot(data = eda_df, x = 'rating', y = 'price')\n",
        "sns.set_context('talk')\n",
        "ax.set_title('Price VS. Rating',\n",
        "             fontfamily = 'serif',\n",
        "             fontsize = 'large', \n",
        "             fontweight = 'semibold');\n",
        "plt.xticks(rotation = 90)\n",
        "\n",
        "#change x and y axis font\n",
        "ax.set_xlabel(ax.xaxis.get_label().get_text(),\n",
        "    fontsize='medium')\n",
        "ax.set_ylabel(ax.yaxis.get_label().get_text(),\n",
        "    fontsize='medium')\n",
        "\n",
        "plt.savefig('Price_vs_Rating.png')"
      ],
      "metadata": {
        "colab": {
          "base_uri": "https://localhost:8080/",
          "height": 386
        },
        "id": "MlHBz4fstN47",
        "outputId": "9232e750-e1dc-4056-fa0d-7bdc72962e4e"
      },
      "execution_count": 200,
      "outputs": [
        {
          "output_type": "display_data",
          "data": {
            "text/plain": [
              "<Figure size 720x360 with 1 Axes>"
            ],
            "image/png": "[encoded data removed]"
          },
          "metadata": {
            "needs_background": "light"
          }
        }
      ]
    },
    {
      "cell_type": "markdown",
      "source": [
        "According to this bargraph, there is a clear postive correlation between rating and price. As the price goes up, so does the rating."
      ],
      "metadata": {
        "id": "vpU-QsuPzGQ9"
      }
    },
    {
      "cell_type": "code",
      "source": [
        "#create scatterplot and title\n",
        "fig, ax = plt.subplots(figsize = (10,5))\n",
        "sns.barplot(data = eda_df, x = 'body', y = 'price')\n",
        "sns.set_context('talk')\n",
        "ax.set_title('Price VS. Body',\n",
        "             fontfamily = 'serif',\n",
        "             fontsize = 'large', \n",
        "             fontweight = 'semibold');\n",
        "plt.xticks(rotation = 90)\n",
        "\n",
        "#change x and y axis font\n",
        "ax.set_xlabel(ax.xaxis.get_label().get_text(),\n",
        "    fontsize='medium')\n",
        "ax.set_ylabel(ax.yaxis.get_label().get_text(),\n",
        "    fontsize='medium')\n",
        "\n",
        "plt.savefig('Price_vs_Body.png')"
      ],
      "metadata": {
        "colab": {
          "base_uri": "https://localhost:8080/",
          "height": 386
        },
        "id": "ZXVJ8HWMy2dM",
        "outputId": "7df84234-d568-470c-89f6-e7b232ebeb0d"
      },
      "execution_count": 201,
      "outputs": [
        {
          "output_type": "display_data",
          "data": {
            "text/plain": [
              "<Figure size 720x360 with 1 Axes>"
            ],
            "image/png": "[encoded data removed]"
          },
          "metadata": {
            "needs_background": "light"
          }
        }
      ]
    },
    {
      "cell_type": "markdown",
      "source": [
        "A higher price also seems to indicate a higher body number, indicating that a higher body number likely equals better quality wine."
      ],
      "metadata": {
        "id": "peKshIPgzrWM"
      }
    },
    {
      "cell_type": "markdown",
      "source": [
        "I seems that price has a decent  effect on the quality of the wine, which likely causes expensive wine to get better reviews."
      ],
      "metadata": {
        "id": "leKccYFV01ZP"
      }
    },
    {
      "cell_type": "markdown",
      "source": [
        "##Preprocessing"
      ],
      "metadata": {
        "id": "kCevu8Tejebm"
      }
    },
    {
      "cell_type": "markdown",
      "source": [
        "I now need to make a new copy of the data for modeling."
      ],
      "metadata": {
        "id": "rfjNHsb0jmqX"
      }
    },
    {
      "cell_type": "code",
      "source": [
        "#create a copy of the data for modeling\n",
        "model_df = df.copy()"
      ],
      "metadata": {
        "id": "1w9GMz7eicc3"
      },
      "execution_count": 202,
      "outputs": []
    },
    {
      "cell_type": "markdown",
      "source": [
        "I will clean up the data the same as before, by dropping duplicates, and unnessecary columns. I will drop the unnessecary columns while splitting the data"
      ],
      "metadata": {
        "id": "1F4Rbw5Hju2J"
      }
    },
    {
      "cell_type": "code",
      "source": [
        "#drop duplicates\n",
        "model_df.drop_duplicates(inplace = True)"
      ],
      "metadata": {
        "id": "3YFA_kCQjBcl"
      },
      "execution_count": 203,
      "outputs": []
    },
    {
      "cell_type": "markdown",
      "source": [
        "Now I need to split the data, encode the target, and create a preprocesser."
      ],
      "metadata": {
        "id": "jjKoj4KapXH0"
      }
    },
    {
      "cell_type": "code",
      "source": [
        "#assign target and features\n",
        "X = model_df.drop(columns=['rating', 'country'])\n",
        "#encode the target\n",
        "le = LabelEncoder()\n",
        "y = le.fit_transform(model_df['rating'])\n",
        "#split data\n",
        "X_train, X_test, y_train, y_test = train_test_split(X, y, random_state=42)"
      ],
      "metadata": {
        "id": "xB4VA61cliIX"
      },
      "execution_count": 204,
      "outputs": []
    },
    {
      "cell_type": "code",
      "source": [
        "#create selectors\n",
        "cat_selector = make_column_selector(dtype_include='object')\n",
        "num_selector = make_column_selector(dtype_include='number')"
      ],
      "metadata": {
        "id": "Fw3J-b6cmxLz"
      },
      "execution_count": 205,
      "outputs": []
    },
    {
      "cell_type": "code",
      "source": [
        "#create imputers\n",
        "freq_imputer = SimpleImputer(strategy='most_frequent')\n",
        "mean_imputer = SimpleImputer(strategy='mean')\n",
        "#create scaler\n",
        "scaler = StandardScaler()\n",
        "#create one hot encoder\n",
        "ohe = OneHotEncoder(handle_unknown='ignore', sparse=False)"
      ],
      "metadata": {
        "id": "GtLPhal6nrcf"
      },
      "execution_count": 206,
      "outputs": []
    },
    {
      "cell_type": "code",
      "source": [
        "#numeric pipeline\n",
        "numeric_pipe = make_pipeline(mean_imputer, scaler)"
      ],
      "metadata": {
        "id": "1l30STFcoQV5"
      },
      "execution_count": 207,
      "outputs": []
    },
    {
      "cell_type": "code",
      "source": [
        "#categorical pipeline\n",
        "categorical_pipe = make_pipeline(freq_imputer, ohe)"
      ],
      "metadata": {
        "id": "mrKk6kpKoaCH"
      },
      "execution_count": 208,
      "outputs": []
    },
    {
      "cell_type": "code",
      "source": [
        "#tuples for column transformer\n",
        "number_tuple = (numeric_pipe, num_selector)\n",
        "category_tuple = (categorical_pipe, cat_selector)\n",
        "#columnTransformer\n",
        "preprocessor = make_column_transformer(number_tuple, category_tuple)"
      ],
      "metadata": {
        "id": "qb77IXOIoiJX"
      },
      "execution_count": 209,
      "outputs": []
    },
    {
      "cell_type": "markdown",
      "source": [
        "##Models"
      ],
      "metadata": {
        "id": "oOJUmuw0qI-D"
      }
    },
    {
      "cell_type": "markdown",
      "source": [
        "Now, I am going to create a logistic regression model and a KNN model."
      ],
      "metadata": {
        "id": "mhIh_X-BqLCF"
      }
    },
    {
      "cell_type": "markdown",
      "source": [
        "###Logistic Regression"
      ],
      "metadata": {
        "id": "HO-AMoFLqYc-"
      }
    },
    {
      "cell_type": "code",
      "source": [
        "#create logistic regeression model\n",
        "logreg = LogisticRegression(C = 1000)\n",
        "#create pipeline\n",
        "logreg_pipe = make_pipeline(preprocessor, logreg)\n",
        "#fit the data and get scores\n",
        "logreg_pipe.fit(X_train,y_train)\n",
        "print(logreg_pipe.score(X_train, y_train))\n",
        "print(logreg_pipe.score(X_test, y_test))"
      ],
      "metadata": {
        "colab": {
          "base_uri": "https://localhost:8080/"
        },
        "id": "z8zE9Y0YqIXt",
        "outputId": "2f7f3e5b-1e6e-43ab-9756-3ee94a1527d0"
      },
      "execution_count": 210,
      "outputs": [
        {
          "output_type": "stream",
          "name": "stdout",
          "text": [
            "0.7493489583333334\n",
            "0.40234375\n"
          ]
        },
        {
          "output_type": "stream",
          "name": "stderr",
          "text": [
            "/usr/local/lib/python3.8/dist-packages/sklearn/linear_model/_logistic.py:814: ConvergenceWarning: lbfgs failed to converge (status=1):\n",
            "STOP: TOTAL NO. of ITERATIONS REACHED LIMIT.\n",
            "\n",
            "Increase the number of iterations (max_iter) or scale the data as shown in:\n",
            "    https://scikit-learn.org/stable/modules/preprocessing.html\n",
            "Please also refer to the documentation for alternative solver options:\n",
            "    https://scikit-learn.org/stable/modules/linear_model.html#logistic-regression\n",
            "  n_iter_i = _check_optimize_result(\n"
          ]
        }
      ]
    },
    {
      "cell_type": "markdown",
      "source": [
        "The teting data is not very good, so we will see if some hypertuning can help."
      ],
      "metadata": {
        "id": "iOPARGyWMDMb"
      }
    },
    {
      "cell_type": "markdown",
      "source": [
        "####L1 Hypertuning"
      ],
      "metadata": {
        "id": "xxHQfaTyH37R"
      }
    },
    {
      "cell_type": "code",
      "source": [
        "#create a list of c values and empty lists for scores\n",
        "c_values = [0.0001, 0.001, 0.01, 0.1, 1, 10, 100, 1000]\n",
        "train_scores = []\n",
        "test_scores = []\n",
        "#iterate over the c values\n",
        "for c in c_values:\n",
        " \n",
        "  #instantiate a model with each value of c and fit it on the data\n",
        "  logreg = LogisticRegression(C=c, max_iter=1000, solver='liblinear', penalty='l1')\n",
        "  logreg_pipe = make_pipeline(preprocessor, logreg)\n",
        "  logreg_pipe.fit(X_train, y_train)\n",
        " \n",
        "  #add the training and testing scores to our scores lists\n",
        "  train_scores.append(logreg_pipe.score(X_train, y_train))\n",
        "  test_scores.append(logreg_pipe.score(X_test, y_test))\n",
        "\n",
        "#plot the change in accuracy as we change the value of C\n",
        "fig, ax = plt.subplots(1,1)\n",
        "ax.plot(c_values, train_scores, label='Training Accuracy')\n",
        "ax.plot(c_values, test_scores, label='Testing Accuracy')\n",
        "ax.set_xticks(c_values)\n",
        "ax.set_title('Change in accuracy over C values for l1 regularization')\n",
        "ax.legend()\n",
        "ax.set_xscale('log')\n",
        "\n",
        "#print a dictionary of values of C and accuracy scores\n",
        "{c:score for c, score in zip(c_values, test_scores)}"
      ],
      "metadata": {
        "id": "a1g3KX7awMDr",
        "colab": {
          "base_uri": "https://localhost:8080/",
          "height": 494
        },
        "outputId": "d15f1187-a1c1-4f10-a79a-cbd60f4b9a99"
      },
      "execution_count": 211,
      "outputs": [
        {
          "output_type": "execute_result",
          "data": {
            "text/plain": [
              "{0.0001: 0.09765625,\n",
              " 0.001: 0.09765625,\n",
              " 0.01: 0.34765625,\n",
              " 0.1: 0.3671875,\n",
              " 1: 0.39453125,\n",
              " 10: 0.380859375,\n",
              " 100: 0.3984375,\n",
              " 1000: 0.41015625}"
            ]
          },
          "metadata": {},
          "execution_count": 211
        },
        {
          "output_type": "display_data",
          "data": {
            "text/plain": [
              "<Figure size 720x360 with 1 Axes>"
            ],
            "image/png": "[encoded data removed]"
          },
          "metadata": {
            "needs_background": "light"
          }
        }
      ]
    },
    {
      "cell_type": "markdown",
      "source": [
        "#### L2 Hypertuning"
      ],
      "metadata": {
        "id": "1YuXKsGEJsoT"
      }
    },
    {
      "cell_type": "code",
      "source": [
        "#create a list of c values and empty lists for scores\n",
        "c_values = [0.0001, 0.001, 0.01, 0.1, 1, 10, 100, 1000]\n",
        "train_scores = []\n",
        "test_scores = []\n",
        "#iterate over the c values\n",
        "for c in c_values:\n",
        " \n",
        "  #instantiate a model with each value of c and fit it on the data\n",
        "  logreg = LogisticRegression(C=c, max_iter=1000, solver='liblinear', penalty='l2')\n",
        "  logreg_pipe = make_pipeline(preprocessor, logreg)\n",
        "  logreg_pipe.fit(X_train, y_train)\n",
        " \n",
        "  #add the training and testing scores to our scores lists\n",
        "  train_scores.append(logreg_pipe.score(X_train, y_train))\n",
        "  test_scores.append(logreg_pipe.score(X_test, y_test))\n",
        "\n",
        "#plot the change in accuracy as we change the value of C\n",
        "fig, ax = plt.subplots(1,1)\n",
        "ax.plot(c_values, train_scores, label='Training Accuracy')\n",
        "ax.plot(c_values, test_scores, label='Testing Accuracy')\n",
        "ax.set_xticks(c_values)\n",
        "ax.set_title('Change in accuracy over C values for l2 regularization')\n",
        "ax.legend()\n",
        "ax.set_xscale('log')\n",
        "\n",
        "#print a dictionary of values of C and accuracy scores\n",
        "{c:score for c, score in zip(c_values, test_scores)}"
      ],
      "metadata": {
        "id": "5h-_FFLVzZWR",
        "colab": {
          "base_uri": "https://localhost:8080/",
          "height": 494
        },
        "outputId": "e936ccbe-e52e-415d-c8ee-92016131b9e4"
      },
      "execution_count": 212,
      "outputs": [
        {
          "output_type": "execute_result",
          "data": {
            "text/plain": [
              "{0.0001: 0.365234375,\n",
              " 0.001: 0.3671875,\n",
              " 0.01: 0.3671875,\n",
              " 0.1: 0.3828125,\n",
              " 1: 0.380859375,\n",
              " 10: 0.396484375,\n",
              " 100: 0.38671875,\n",
              " 1000: 0.40234375}"
            ]
          },
          "metadata": {},
          "execution_count": 212
        },
        {
          "output_type": "display_data",
          "data": {
            "text/plain": [
              "<Figure size 720x360 with 1 Axes>"
            ],
            "image/png": "[encoded data removed]"
          },
          "metadata": {
            "needs_background": "light"
          }
        }
      ]
    },
    {
      "cell_type": "markdown",
      "source": [
        "Hypertuning seemed to help only slightly. Let's try a KNN model now."
      ],
      "metadata": {
        "id": "SOrMKzhhMWrn"
      }
    },
    {
      "cell_type": "markdown",
      "source": [
        "####KNN"
      ],
      "metadata": {
        "id": "GdibA8JKJxxY"
      }
    },
    {
      "cell_type": "code",
      "source": [
        "NN = [1,2,3,4,5]\n",
        "train_scores = []\n",
        "test_scores = []\n",
        "#create pipeline and fit data\n",
        "for n in NN:\n",
        "  #instantiate a model with each value of c and fit it on the data\n",
        "  knn = KNeighborsClassifier(n_neighbors=n)\n",
        "  knn_pipe = make_pipeline(preprocessor, knn)\n",
        "  knn_pipe.fit(X_train, y_train)\n",
        " \n",
        "  #add the training and testing scores to our scores lists\n",
        "  train_scores.append(knn_pipe.score(X_train, y_train))\n",
        "  test_scores.append(knn_pipe.score(X_test, y_test))\n",
        "\n",
        "# print a dictionary of values of C and accuracy scores\n",
        "{n:score for n, score in zip(NN, test_scores)}"
      ],
      "metadata": {
        "id": "YfKMOVtV1yDk",
        "colab": {
          "base_uri": "https://localhost:8080/"
        },
        "outputId": "66843cc4-71be-4424-939d-465ab951f1cd"
      },
      "execution_count": 213,
      "outputs": [
        {
          "output_type": "execute_result",
          "data": {
            "text/plain": [
              "{1: 0.361328125, 2: 0.392578125, 3: 0.375, 4: 0.37109375, 5: 0.365234375}"
            ]
          },
          "metadata": {},
          "execution_count": 213
        }
      ]
    },
    {
      "cell_type": "markdown",
      "source": [
        "####Best Model"
      ],
      "metadata": {
        "id": "zuFz0ujYJ22m"
      }
    },
    {
      "cell_type": "code",
      "source": [
        "knn = KNeighborsClassifier(n_neighbors=2)\n",
        "knn_pipe = make_pipeline(preprocessor, knn)\n",
        "knn_pipe.fit(X_train, y_train)\n",
        "predictions = knn_pipe.predict(X_test)\n",
        "#get metrics\n",
        "print(classification_report(y_test, predictions))"
      ],
      "metadata": {
        "id": "zpxJPKAh63ey",
        "colab": {
          "base_uri": "https://localhost:8080/"
        },
        "outputId": "ef4aaa95-2425-4402-82ad-1a677cff5d1b"
      },
      "execution_count": 214,
      "outputs": [
        {
          "output_type": "stream",
          "name": "stdout",
          "text": [
            "              precision    recall  f1-score   support\n",
            "\n",
            "           0       0.35      0.70      0.47        50\n",
            "           1       0.45      0.54      0.49       178\n",
            "           2       0.30      0.32      0.31       111\n",
            "           3       0.42      0.21      0.28        85\n",
            "           4       0.32      0.15      0.20        55\n",
            "           5       0.50      0.29      0.37        24\n",
            "           6       1.00      0.11      0.20         9\n",
            "\n",
            "    accuracy                           0.39       512\n",
            "   macro avg       0.48      0.33      0.33       512\n",
            "weighted avg       0.40      0.39      0.37       512\n",
            "\n"
          ]
        }
      ]
    },
    {
      "cell_type": "markdown",
      "source": [
        "The best model only has an overall accuracy of 43%. This is very bad, so we will try a PCA"
      ],
      "metadata": {
        "id": "-xfpHgK1MxIy"
      }
    },
    {
      "cell_type": "markdown",
      "source": [
        "####PCA"
      ],
      "metadata": {
        "id": "94pA6XBXJ6GC"
      }
    },
    {
      "cell_type": "code",
      "source": [
        "pca = PCA(n_components=0.95)\n",
        "\n",
        "knn_pca_pipe = make_pipeline(preprocessor, pca, knn)\n",
        "knn_pca_pipe.fit(X_train, y_train)\n",
        "predictions = knn_pca_pipe.predict(X_test)\n",
        "#get metrics\n",
        "print(classification_report(y_test, predictions))"
      ],
      "metadata": {
        "id": "t-uA3Ne38TNP",
        "colab": {
          "base_uri": "https://localhost:8080/"
        },
        "outputId": "fc012278-5a52-49cf-d386-bd7b946cd1ac"
      },
      "execution_count": 215,
      "outputs": [
        {
          "output_type": "stream",
          "name": "stdout",
          "text": [
            "              precision    recall  f1-score   support\n",
            "\n",
            "           0       0.41      0.60      0.49        50\n",
            "           1       0.46      0.65      0.54       178\n",
            "           2       0.27      0.28      0.28       111\n",
            "           3       0.47      0.19      0.27        85\n",
            "           4       0.33      0.15      0.20        55\n",
            "           5       0.50      0.29      0.37        24\n",
            "           6       1.00      0.11      0.20         9\n",
            "\n",
            "    accuracy                           0.41       512\n",
            "   macro avg       0.49      0.32      0.33       512\n",
            "weighted avg       0.41      0.41      0.38       512\n",
            "\n"
          ]
        }
      ]
    },
    {
      "cell_type": "markdown",
      "source": [
        "The PCA seems to make the model worse. I can imagine that the features will need alot of tweaking to make the model more accurate. There were also a large amount of duplicates removed, causing the model to have much less data than I previously thought."
      ],
      "metadata": {
        "id": "HL7FK03TM8NN"
      }
    }
  ]
}