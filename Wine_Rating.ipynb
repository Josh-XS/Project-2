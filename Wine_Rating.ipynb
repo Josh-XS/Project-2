{
  "cells": [
    {
      "cell_type": "markdown",
      "metadata": {
        "id": "view-in-github",
        "colab_type": "text"
      },
      "source": [
        "<a href=\"https://colab.research.google.com/github/Josh-XS/Wine-Rating/blob/main/Wine_Rating.ipynb\" target=\"_parent\"><img src=\"https://colab.research.google.com/assets/colab-badge.svg\" alt=\"Open In Colab\"/></a>"
      ]
    },
    {
      "cell_type": "markdown",
      "metadata": {
        "id": "lfW0qIQed3Oq"
      },
      "source": [
        "#Wine Rating"
      ]
    },
    {
      "cell_type": "markdown",
      "metadata": {
        "id": "_D-RAySsi8Fq"
      },
      "source": [
        "Joshua Nickell"
      ]
    },
    {
      "cell_type": "markdown",
      "metadata": {
        "id": "VApuWDJWmTD3"
      },
      "source": [
        "Spanish Wine Quality Dataset\n",
        "\n",
        "1. fedesoriano. (April 2022). Spanish Wine Quality Dataset. Retrieved [Date Retrieved] from https://www.kaggle.com/datasets/fedesoriano/spanish-wine-quality-dataset\n",
        "\n",
        "2. This is a set of over 7000 different types of wine and their various features.\n",
        "\n",
        "3. The rating of the wine is the target.\n",
        "\n",
        "4. One row represents a type of wine.\n",
        "\n",
        "5. This is a classification problem.\n",
        "\n",
        "6. There are 11 features.\n",
        "\n",
        "7. There are 7500 rows.\n",
        "\n",
        "8. I do not forsee any particular challenges working with this dataset."
      ]
    },
    {
      "cell_type": "markdown",
      "metadata": {
        "id": "wElGN-cAi-zv"
      },
      "source": [
        "##Loading Data"
      ]
    },
    {
      "cell_type": "code",
      "execution_count": 80,
      "metadata": {
        "id": "cfHd4R_5zNaZ"
      },
      "outputs": [],
      "source": [
        "#import libraries\n",
        "import pandas as pd\n",
        "import numpy as np\n",
        "import matplotlib.pyplot as plt\n",
        "import seaborn as sns\n",
        "\n",
        "from sklearn.model_selection import train_test_split\n",
        "from sklearn.preprocessing import StandardScaler, OneHotEncoder, LabelEncoder\n",
        "from sklearn.impute import SimpleImputer\n",
        "from sklearn.compose import make_column_transformer, make_column_selector\n",
        "from sklearn.pipeline import make_pipeline\n",
        "from sklearn.linear_model import LogisticRegression\n",
        "from sklearn.metrics import classification_report, accuracy_score\n",
        "from sklearn.neighbors import KNeighborsClassifier\n",
        "from sklearn.decomposition import PCA\n",
        "from sklearn.ensemble import RandomForestClassifier\n",
        "\n",
        "from imblearn.over_sampling import SMOTE\n",
        "from imblearn.pipeline import make_pipeline\n",
        "\n",
        "from sklearn import set_config\n",
        "set_config(display='diagram')"
      ]
    },
    {
      "cell_type": "code",
      "execution_count": 81,
      "metadata": {
        "colab": {
          "base_uri": "https://localhost:8080/",
          "height": 206
        },
        "id": "J1bnjKt8y-0z",
        "outputId": "fbbe6895-0e80-41d7-caf4-d5fcd1a96ca1"
      },
      "outputs": [
        {
          "output_type": "execute_result",
          "data": {
            "text/plain": [
              "          winery           wine  year  rating  num_reviews country  \\\n",
              "0  Teso La Monja          Tinto  2013     4.9           58  Espana   \n",
              "1         Artadi  Vina El Pison  2018     4.9           31  Espana   \n",
              "2   Vega Sicilia          Unico  2009     4.8         1793  Espana   \n",
              "3   Vega Sicilia          Unico  1999     4.8         1705  Espana   \n",
              "4   Vega Sicilia          Unico  1996     4.8         1309  Espana   \n",
              "\n",
              "             region   price                  type  body  acidity  \n",
              "0              Toro  995.00              Toro Red   5.0      3.0  \n",
              "1    Vino de Espana  313.50           Tempranillo   4.0      2.0  \n",
              "2  Ribera del Duero  324.95  Ribera Del Duero Red   5.0      3.0  \n",
              "3  Ribera del Duero  692.96  Ribera Del Duero Red   5.0      3.0  \n",
              "4  Ribera del Duero  778.06  Ribera Del Duero Red   5.0      3.0  "
            ],
            "text/html": [
              "\n",
              "  <div id=\"df-1b059408-b793-4cdb-9b68-f2bd587ed0b6\">\n",
              "    <div class=\"colab-df-container\">\n",
              "      <div>\n",
              "<style scoped>\n",
              "    .dataframe tbody tr th:only-of-type {\n",
              "        vertical-align: middle;\n",
              "    }\n",
              "\n",
              "    .dataframe tbody tr th {\n",
              "        vertical-align: top;\n",
              "    }\n",
              "\n",
              "    .dataframe thead th {\n",
              "        text-align: right;\n",
              "    }\n",
              "</style>\n",
              "<table border=\"1\" class=\"dataframe\">\n",
              "  <thead>\n",
              "    <tr style=\"text-align: right;\">\n",
              "      <th></th>\n",
              "      <th>winery</th>\n",
              "      <th>wine</th>\n",
              "      <th>year</th>\n",
              "      <th>rating</th>\n",
              "      <th>num_reviews</th>\n",
              "      <th>country</th>\n",
              "      <th>region</th>\n",
              "      <th>price</th>\n",
              "      <th>type</th>\n",
              "      <th>body</th>\n",
              "      <th>acidity</th>\n",
              "    </tr>\n",
              "  </thead>\n",
              "  <tbody>\n",
              "    <tr>\n",
              "      <th>0</th>\n",
              "      <td>Teso La Monja</td>\n",
              "      <td>Tinto</td>\n",
              "      <td>2013</td>\n",
              "      <td>4.9</td>\n",
              "      <td>58</td>\n",
              "      <td>Espana</td>\n",
              "      <td>Toro</td>\n",
              "      <td>995.00</td>\n",
              "      <td>Toro Red</td>\n",
              "      <td>5.0</td>\n",
              "      <td>3.0</td>\n",
              "    </tr>\n",
              "    <tr>\n",
              "      <th>1</th>\n",
              "      <td>Artadi</td>\n",
              "      <td>Vina El Pison</td>\n",
              "      <td>2018</td>\n",
              "      <td>4.9</td>\n",
              "      <td>31</td>\n",
              "      <td>Espana</td>\n",
              "      <td>Vino de Espana</td>\n",
              "      <td>313.50</td>\n",
              "      <td>Tempranillo</td>\n",
              "      <td>4.0</td>\n",
              "      <td>2.0</td>\n",
              "    </tr>\n",
              "    <tr>\n",
              "      <th>2</th>\n",
              "      <td>Vega Sicilia</td>\n",
              "      <td>Unico</td>\n",
              "      <td>2009</td>\n",
              "      <td>4.8</td>\n",
              "      <td>1793</td>\n",
              "      <td>Espana</td>\n",
              "      <td>Ribera del Duero</td>\n",
              "      <td>324.95</td>\n",
              "      <td>Ribera Del Duero Red</td>\n",
              "      <td>5.0</td>\n",
              "      <td>3.0</td>\n",
              "    </tr>\n",
              "    <tr>\n",
              "      <th>3</th>\n",
              "      <td>Vega Sicilia</td>\n",
              "      <td>Unico</td>\n",
              "      <td>1999</td>\n",
              "      <td>4.8</td>\n",
              "      <td>1705</td>\n",
              "      <td>Espana</td>\n",
              "      <td>Ribera del Duero</td>\n",
              "      <td>692.96</td>\n",
              "      <td>Ribera Del Duero Red</td>\n",
              "      <td>5.0</td>\n",
              "      <td>3.0</td>\n",
              "    </tr>\n",
              "    <tr>\n",
              "      <th>4</th>\n",
              "      <td>Vega Sicilia</td>\n",
              "      <td>Unico</td>\n",
              "      <td>1996</td>\n",
              "      <td>4.8</td>\n",
              "      <td>1309</td>\n",
              "      <td>Espana</td>\n",
              "      <td>Ribera del Duero</td>\n",
              "      <td>778.06</td>\n",
              "      <td>Ribera Del Duero Red</td>\n",
              "      <td>5.0</td>\n",
              "      <td>3.0</td>\n",
              "    </tr>\n",
              "  </tbody>\n",
              "</table>\n",
              "</div>\n",
              "      <button class=\"colab-df-convert\" onclick=\"convertToInteractive('df-1b059408-b793-4cdb-9b68-f2bd587ed0b6')\"\n",
              "              title=\"Convert this dataframe to an interactive table.\"\n",
              "              style=\"display:none;\">\n",
              "        \n",
              "  <svg xmlns=\"http://www.w3.org/2000/svg\" height=\"24px\"viewBox=\"0 0 24 24\"\n",
              "       width=\"24px\">\n",
              "    <path d=\"M0 0h24v24H0V0z\" fill=\"none\"/>\n",
              "    <path d=\"M18.56 5.44l.94 2.06.94-2.06 2.06-.94-2.06-.94-.94-2.06-.94 2.06-2.06.94zm-11 1L8.5 8.5l.94-2.06 2.06-.94-2.06-.94L8.5 2.5l-.94 2.06-2.06.94zm10 10l.94 2.06.94-2.06 2.06-.94-2.06-.94-.94-2.06-.94 2.06-2.06.94z\"/><path d=\"M17.41 7.96l-1.37-1.37c-.4-.4-.92-.59-1.43-.59-.52 0-1.04.2-1.43.59L10.3 9.45l-7.72 7.72c-.78.78-.78 2.05 0 2.83L4 21.41c.39.39.9.59 1.41.59.51 0 1.02-.2 1.41-.59l7.78-7.78 2.81-2.81c.8-.78.8-2.07 0-2.86zM5.41 20L4 18.59l7.72-7.72 1.47 1.35L5.41 20z\"/>\n",
              "  </svg>\n",
              "      </button>\n",
              "      \n",
              "  <style>\n",
              "    .colab-df-container {\n",
              "      display:flex;\n",
              "      flex-wrap:wrap;\n",
              "      gap: 12px;\n",
              "    }\n",
              "\n",
              "    .colab-df-convert {\n",
              "      background-color: #E8F0FE;\n",
              "      border: none;\n",
              "      border-radius: 50%;\n",
              "      cursor: pointer;\n",
              "      display: none;\n",
              "      fill: #1967D2;\n",
              "      height: 32px;\n",
              "      padding: 0 0 0 0;\n",
              "      width: 32px;\n",
              "    }\n",
              "\n",
              "    .colab-df-convert:hover {\n",
              "      background-color: #E2EBFA;\n",
              "      box-shadow: 0px 1px 2px rgba(60, 64, 67, 0.3), 0px 1px 3px 1px rgba(60, 64, 67, 0.15);\n",
              "      fill: #174EA6;\n",
              "    }\n",
              "\n",
              "    [theme=dark] .colab-df-convert {\n",
              "      background-color: #3B4455;\n",
              "      fill: #D2E3FC;\n",
              "    }\n",
              "\n",
              "    [theme=dark] .colab-df-convert:hover {\n",
              "      background-color: #434B5C;\n",
              "      box-shadow: 0px 1px 3px 1px rgba(0, 0, 0, 0.15);\n",
              "      filter: drop-shadow(0px 1px 2px rgba(0, 0, 0, 0.3));\n",
              "      fill: #FFFFFF;\n",
              "    }\n",
              "  </style>\n",
              "\n",
              "      <script>\n",
              "        const buttonEl =\n",
              "          document.querySelector('#df-1b059408-b793-4cdb-9b68-f2bd587ed0b6 button.colab-df-convert');\n",
              "        buttonEl.style.display =\n",
              "          google.colab.kernel.accessAllowed ? 'block' : 'none';\n",
              "\n",
              "        async function convertToInteractive(key) {\n",
              "          const element = document.querySelector('#df-1b059408-b793-4cdb-9b68-f2bd587ed0b6');\n",
              "          const dataTable =\n",
              "            await google.colab.kernel.invokeFunction('convertToInteractive',\n",
              "                                                     [key], {});\n",
              "          if (!dataTable) return;\n",
              "\n",
              "          const docLinkHtml = 'Like what you see? Visit the ' +\n",
              "            '<a target=\"_blank\" href=https://colab.research.google.com/notebooks/data_table.ipynb>data table notebook</a>'\n",
              "            + ' to learn more about interactive tables.';\n",
              "          element.innerHTML = '';\n",
              "          dataTable['output_type'] = 'display_data';\n",
              "          await google.colab.output.renderOutput(dataTable, element);\n",
              "          const docLink = document.createElement('div');\n",
              "          docLink.innerHTML = docLinkHtml;\n",
              "          element.appendChild(docLink);\n",
              "        }\n",
              "      </script>\n",
              "    </div>\n",
              "  </div>\n",
              "  "
            ]
          },
          "metadata": {},
          "execution_count": 81
        }
      ],
      "source": [
        "#create and view dataframe\n",
        "df = pd.read_csv('https://docs.google.com/spreadsheets/d/e/2PACX-1vRa6lJH575jdYrbRzM7BW8DvaY8hfID6AVfML_1RhmrBwkIXKuXn-yrm9ascN0QuOg4NObA4TnIIyQc/pub?gid=2015400164&single=true&output=csv')\n",
        "df.head()"
      ]
    },
    {
      "cell_type": "code",
      "execution_count": 82,
      "metadata": {
        "colab": {
          "base_uri": "https://localhost:8080/",
          "height": 300
        },
        "id": "9wwy8C_bl6hJ",
        "outputId": "626e216f-ea70-451e-c354-e57be5dfad14"
      },
      "outputs": [
        {
          "output_type": "execute_result",
          "data": {
            "text/plain": [
              "            rating   num_reviews        price         body      acidity\n",
              "count  7500.000000   7500.000000  7500.000000  6331.000000  6331.000000\n",
              "mean      4.254933    451.109067    60.095822     4.158427     2.946612\n",
              "std       0.118029    723.001856   150.356676     0.583352     0.248202\n",
              "min       4.200000     25.000000     4.990000     2.000000     1.000000\n",
              "25%       4.200000    389.000000    18.900000     4.000000     3.000000\n",
              "50%       4.200000    404.000000    28.530000     4.000000     3.000000\n",
              "75%       4.200000    415.000000    51.350000     5.000000     3.000000\n",
              "max       4.900000  32624.000000  3119.080000     5.000000     3.000000"
            ],
            "text/html": [
              "\n",
              "  <div id=\"df-442cadec-471a-42f8-9b6a-0e8c5b56504a\">\n",
              "    <div class=\"colab-df-container\">\n",
              "      <div>\n",
              "<style scoped>\n",
              "    .dataframe tbody tr th:only-of-type {\n",
              "        vertical-align: middle;\n",
              "    }\n",
              "\n",
              "    .dataframe tbody tr th {\n",
              "        vertical-align: top;\n",
              "    }\n",
              "\n",
              "    .dataframe thead th {\n",
              "        text-align: right;\n",
              "    }\n",
              "</style>\n",
              "<table border=\"1\" class=\"dataframe\">\n",
              "  <thead>\n",
              "    <tr style=\"text-align: right;\">\n",
              "      <th></th>\n",
              "      <th>rating</th>\n",
              "      <th>num_reviews</th>\n",
              "      <th>price</th>\n",
              "      <th>body</th>\n",
              "      <th>acidity</th>\n",
              "    </tr>\n",
              "  </thead>\n",
              "  <tbody>\n",
              "    <tr>\n",
              "      <th>count</th>\n",
              "      <td>7500.000000</td>\n",
              "      <td>7500.000000</td>\n",
              "      <td>7500.000000</td>\n",
              "      <td>6331.000000</td>\n",
              "      <td>6331.000000</td>\n",
              "    </tr>\n",
              "    <tr>\n",
              "      <th>mean</th>\n",
              "      <td>4.254933</td>\n",
              "      <td>451.109067</td>\n",
              "      <td>60.095822</td>\n",
              "      <td>4.158427</td>\n",
              "      <td>2.946612</td>\n",
              "    </tr>\n",
              "    <tr>\n",
              "      <th>std</th>\n",
              "      <td>0.118029</td>\n",
              "      <td>723.001856</td>\n",
              "      <td>150.356676</td>\n",
              "      <td>0.583352</td>\n",
              "      <td>0.248202</td>\n",
              "    </tr>\n",
              "    <tr>\n",
              "      <th>min</th>\n",
              "      <td>4.200000</td>\n",
              "      <td>25.000000</td>\n",
              "      <td>4.990000</td>\n",
              "      <td>2.000000</td>\n",
              "      <td>1.000000</td>\n",
              "    </tr>\n",
              "    <tr>\n",
              "      <th>25%</th>\n",
              "      <td>4.200000</td>\n",
              "      <td>389.000000</td>\n",
              "      <td>18.900000</td>\n",
              "      <td>4.000000</td>\n",
              "      <td>3.000000</td>\n",
              "    </tr>\n",
              "    <tr>\n",
              "      <th>50%</th>\n",
              "      <td>4.200000</td>\n",
              "      <td>404.000000</td>\n",
              "      <td>28.530000</td>\n",
              "      <td>4.000000</td>\n",
              "      <td>3.000000</td>\n",
              "    </tr>\n",
              "    <tr>\n",
              "      <th>75%</th>\n",
              "      <td>4.200000</td>\n",
              "      <td>415.000000</td>\n",
              "      <td>51.350000</td>\n",
              "      <td>5.000000</td>\n",
              "      <td>3.000000</td>\n",
              "    </tr>\n",
              "    <tr>\n",
              "      <th>max</th>\n",
              "      <td>4.900000</td>\n",
              "      <td>32624.000000</td>\n",
              "      <td>3119.080000</td>\n",
              "      <td>5.000000</td>\n",
              "      <td>3.000000</td>\n",
              "    </tr>\n",
              "  </tbody>\n",
              "</table>\n",
              "</div>\n",
              "      <button class=\"colab-df-convert\" onclick=\"convertToInteractive('df-442cadec-471a-42f8-9b6a-0e8c5b56504a')\"\n",
              "              title=\"Convert this dataframe to an interactive table.\"\n",
              "              style=\"display:none;\">\n",
              "        \n",
              "  <svg xmlns=\"http://www.w3.org/2000/svg\" height=\"24px\"viewBox=\"0 0 24 24\"\n",
              "       width=\"24px\">\n",
              "    <path d=\"M0 0h24v24H0V0z\" fill=\"none\"/>\n",
              "    <path d=\"M18.56 5.44l.94 2.06.94-2.06 2.06-.94-2.06-.94-.94-2.06-.94 2.06-2.06.94zm-11 1L8.5 8.5l.94-2.06 2.06-.94-2.06-.94L8.5 2.5l-.94 2.06-2.06.94zm10 10l.94 2.06.94-2.06 2.06-.94-2.06-.94-.94-2.06-.94 2.06-2.06.94z\"/><path d=\"M17.41 7.96l-1.37-1.37c-.4-.4-.92-.59-1.43-.59-.52 0-1.04.2-1.43.59L10.3 9.45l-7.72 7.72c-.78.78-.78 2.05 0 2.83L4 21.41c.39.39.9.59 1.41.59.51 0 1.02-.2 1.41-.59l7.78-7.78 2.81-2.81c.8-.78.8-2.07 0-2.86zM5.41 20L4 18.59l7.72-7.72 1.47 1.35L5.41 20z\"/>\n",
              "  </svg>\n",
              "      </button>\n",
              "      \n",
              "  <style>\n",
              "    .colab-df-container {\n",
              "      display:flex;\n",
              "      flex-wrap:wrap;\n",
              "      gap: 12px;\n",
              "    }\n",
              "\n",
              "    .colab-df-convert {\n",
              "      background-color: #E8F0FE;\n",
              "      border: none;\n",
              "      border-radius: 50%;\n",
              "      cursor: pointer;\n",
              "      display: none;\n",
              "      fill: #1967D2;\n",
              "      height: 32px;\n",
              "      padding: 0 0 0 0;\n",
              "      width: 32px;\n",
              "    }\n",
              "\n",
              "    .colab-df-convert:hover {\n",
              "      background-color: #E2EBFA;\n",
              "      box-shadow: 0px 1px 2px rgba(60, 64, 67, 0.3), 0px 1px 3px 1px rgba(60, 64, 67, 0.15);\n",
              "      fill: #174EA6;\n",
              "    }\n",
              "\n",
              "    [theme=dark] .colab-df-convert {\n",
              "      background-color: #3B4455;\n",
              "      fill: #D2E3FC;\n",
              "    }\n",
              "\n",
              "    [theme=dark] .colab-df-convert:hover {\n",
              "      background-color: #434B5C;\n",
              "      box-shadow: 0px 1px 3px 1px rgba(0, 0, 0, 0.15);\n",
              "      filter: drop-shadow(0px 1px 2px rgba(0, 0, 0, 0.3));\n",
              "      fill: #FFFFFF;\n",
              "    }\n",
              "  </style>\n",
              "\n",
              "      <script>\n",
              "        const buttonEl =\n",
              "          document.querySelector('#df-442cadec-471a-42f8-9b6a-0e8c5b56504a button.colab-df-convert');\n",
              "        buttonEl.style.display =\n",
              "          google.colab.kernel.accessAllowed ? 'block' : 'none';\n",
              "\n",
              "        async function convertToInteractive(key) {\n",
              "          const element = document.querySelector('#df-442cadec-471a-42f8-9b6a-0e8c5b56504a');\n",
              "          const dataTable =\n",
              "            await google.colab.kernel.invokeFunction('convertToInteractive',\n",
              "                                                     [key], {});\n",
              "          if (!dataTable) return;\n",
              "\n",
              "          const docLinkHtml = 'Like what you see? Visit the ' +\n",
              "            '<a target=\"_blank\" href=https://colab.research.google.com/notebooks/data_table.ipynb>data table notebook</a>'\n",
              "            + ' to learn more about interactive tables.';\n",
              "          element.innerHTML = '';\n",
              "          dataTable['output_type'] = 'display_data';\n",
              "          await google.colab.output.renderOutput(dataTable, element);\n",
              "          const docLink = document.createElement('div');\n",
              "          docLink.innerHTML = docLinkHtml;\n",
              "          element.appendChild(docLink);\n",
              "        }\n",
              "      </script>\n",
              "    </div>\n",
              "  </div>\n",
              "  "
            ]
          },
          "metadata": {},
          "execution_count": 82
        }
      ],
      "source": [
        "df.describe()"
      ]
    },
    {
      "cell_type": "markdown",
      "metadata": {
        "id": "ohVMNOfCjD7D"
      },
      "source": [
        "##Cleaning the Data"
      ]
    },
    {
      "cell_type": "markdown",
      "metadata": {
        "id": "H9c0pm7sk20R"
      },
      "source": [
        "First I will copy the data for exploration, so that I don't overwrite the original."
      ]
    },
    {
      "cell_type": "code",
      "execution_count": 83,
      "metadata": {
        "id": "I2OFc-eL9dWy"
      },
      "outputs": [],
      "source": [
        "#copy the data for exploration\n",
        "eda_df = df.copy()"
      ]
    },
    {
      "cell_type": "markdown",
      "metadata": {
        "id": "2cf4nEPoqnSV"
      },
      "source": [
        "###Unnessecary Columns"
      ]
    },
    {
      "cell_type": "markdown",
      "metadata": {
        "id": "wYGQZaQ7lYLV"
      },
      "source": [
        "Then I will drop the 'country' column becasue all of the wines are from Spain, and this will not affect the data."
      ]
    },
    {
      "cell_type": "code",
      "execution_count": 84,
      "metadata": {
        "id": "GPJYUmiF9vty"
      },
      "outputs": [],
      "source": [
        "#drop unnessecary columns\n",
        "eda_df.drop(columns = 'country', inplace = True)"
      ]
    },
    {
      "cell_type": "code",
      "execution_count": 85,
      "metadata": {
        "colab": {
          "base_uri": "https://localhost:8080/",
          "height": 206
        },
        "id": "9NA_gRhj-tuz",
        "outputId": "2285cf9f-7f98-46ed-bcaa-bfd3cdb48631"
      },
      "outputs": [
        {
          "output_type": "execute_result",
          "data": {
            "text/plain": [
              "          winery           wine  year  rating  num_reviews            region  \\\n",
              "0  Teso La Monja          Tinto  2013     4.9           58              Toro   \n",
              "1         Artadi  Vina El Pison  2018     4.9           31    Vino de Espana   \n",
              "2   Vega Sicilia          Unico  2009     4.8         1793  Ribera del Duero   \n",
              "3   Vega Sicilia          Unico  1999     4.8         1705  Ribera del Duero   \n",
              "4   Vega Sicilia          Unico  1996     4.8         1309  Ribera del Duero   \n",
              "\n",
              "    price                  type  body  acidity  \n",
              "0  995.00              Toro Red   5.0      3.0  \n",
              "1  313.50           Tempranillo   4.0      2.0  \n",
              "2  324.95  Ribera Del Duero Red   5.0      3.0  \n",
              "3  692.96  Ribera Del Duero Red   5.0      3.0  \n",
              "4  778.06  Ribera Del Duero Red   5.0      3.0  "
            ],
            "text/html": [
              "\n",
              "  <div id=\"df-28f6ba2b-9f71-444e-80fa-af7a44f91630\">\n",
              "    <div class=\"colab-df-container\">\n",
              "      <div>\n",
              "<style scoped>\n",
              "    .dataframe tbody tr th:only-of-type {\n",
              "        vertical-align: middle;\n",
              "    }\n",
              "\n",
              "    .dataframe tbody tr th {\n",
              "        vertical-align: top;\n",
              "    }\n",
              "\n",
              "    .dataframe thead th {\n",
              "        text-align: right;\n",
              "    }\n",
              "</style>\n",
              "<table border=\"1\" class=\"dataframe\">\n",
              "  <thead>\n",
              "    <tr style=\"text-align: right;\">\n",
              "      <th></th>\n",
              "      <th>winery</th>\n",
              "      <th>wine</th>\n",
              "      <th>year</th>\n",
              "      <th>rating</th>\n",
              "      <th>num_reviews</th>\n",
              "      <th>region</th>\n",
              "      <th>price</th>\n",
              "      <th>type</th>\n",
              "      <th>body</th>\n",
              "      <th>acidity</th>\n",
              "    </tr>\n",
              "  </thead>\n",
              "  <tbody>\n",
              "    <tr>\n",
              "      <th>0</th>\n",
              "      <td>Teso La Monja</td>\n",
              "      <td>Tinto</td>\n",
              "      <td>2013</td>\n",
              "      <td>4.9</td>\n",
              "      <td>58</td>\n",
              "      <td>Toro</td>\n",
              "      <td>995.00</td>\n",
              "      <td>Toro Red</td>\n",
              "      <td>5.0</td>\n",
              "      <td>3.0</td>\n",
              "    </tr>\n",
              "    <tr>\n",
              "      <th>1</th>\n",
              "      <td>Artadi</td>\n",
              "      <td>Vina El Pison</td>\n",
              "      <td>2018</td>\n",
              "      <td>4.9</td>\n",
              "      <td>31</td>\n",
              "      <td>Vino de Espana</td>\n",
              "      <td>313.50</td>\n",
              "      <td>Tempranillo</td>\n",
              "      <td>4.0</td>\n",
              "      <td>2.0</td>\n",
              "    </tr>\n",
              "    <tr>\n",
              "      <th>2</th>\n",
              "      <td>Vega Sicilia</td>\n",
              "      <td>Unico</td>\n",
              "      <td>2009</td>\n",
              "      <td>4.8</td>\n",
              "      <td>1793</td>\n",
              "      <td>Ribera del Duero</td>\n",
              "      <td>324.95</td>\n",
              "      <td>Ribera Del Duero Red</td>\n",
              "      <td>5.0</td>\n",
              "      <td>3.0</td>\n",
              "    </tr>\n",
              "    <tr>\n",
              "      <th>3</th>\n",
              "      <td>Vega Sicilia</td>\n",
              "      <td>Unico</td>\n",
              "      <td>1999</td>\n",
              "      <td>4.8</td>\n",
              "      <td>1705</td>\n",
              "      <td>Ribera del Duero</td>\n",
              "      <td>692.96</td>\n",
              "      <td>Ribera Del Duero Red</td>\n",
              "      <td>5.0</td>\n",
              "      <td>3.0</td>\n",
              "    </tr>\n",
              "    <tr>\n",
              "      <th>4</th>\n",
              "      <td>Vega Sicilia</td>\n",
              "      <td>Unico</td>\n",
              "      <td>1996</td>\n",
              "      <td>4.8</td>\n",
              "      <td>1309</td>\n",
              "      <td>Ribera del Duero</td>\n",
              "      <td>778.06</td>\n",
              "      <td>Ribera Del Duero Red</td>\n",
              "      <td>5.0</td>\n",
              "      <td>3.0</td>\n",
              "    </tr>\n",
              "  </tbody>\n",
              "</table>\n",
              "</div>\n",
              "      <button class=\"colab-df-convert\" onclick=\"convertToInteractive('df-28f6ba2b-9f71-444e-80fa-af7a44f91630')\"\n",
              "              title=\"Convert this dataframe to an interactive table.\"\n",
              "              style=\"display:none;\">\n",
              "        \n",
              "  <svg xmlns=\"http://www.w3.org/2000/svg\" height=\"24px\"viewBox=\"0 0 24 24\"\n",
              "       width=\"24px\">\n",
              "    <path d=\"M0 0h24v24H0V0z\" fill=\"none\"/>\n",
              "    <path d=\"M18.56 5.44l.94 2.06.94-2.06 2.06-.94-2.06-.94-.94-2.06-.94 2.06-2.06.94zm-11 1L8.5 8.5l.94-2.06 2.06-.94-2.06-.94L8.5 2.5l-.94 2.06-2.06.94zm10 10l.94 2.06.94-2.06 2.06-.94-2.06-.94-.94-2.06-.94 2.06-2.06.94z\"/><path d=\"M17.41 7.96l-1.37-1.37c-.4-.4-.92-.59-1.43-.59-.52 0-1.04.2-1.43.59L10.3 9.45l-7.72 7.72c-.78.78-.78 2.05 0 2.83L4 21.41c.39.39.9.59 1.41.59.51 0 1.02-.2 1.41-.59l7.78-7.78 2.81-2.81c.8-.78.8-2.07 0-2.86zM5.41 20L4 18.59l7.72-7.72 1.47 1.35L5.41 20z\"/>\n",
              "  </svg>\n",
              "      </button>\n",
              "      \n",
              "  <style>\n",
              "    .colab-df-container {\n",
              "      display:flex;\n",
              "      flex-wrap:wrap;\n",
              "      gap: 12px;\n",
              "    }\n",
              "\n",
              "    .colab-df-convert {\n",
              "      background-color: #E8F0FE;\n",
              "      border: none;\n",
              "      border-radius: 50%;\n",
              "      cursor: pointer;\n",
              "      display: none;\n",
              "      fill: #1967D2;\n",
              "      height: 32px;\n",
              "      padding: 0 0 0 0;\n",
              "      width: 32px;\n",
              "    }\n",
              "\n",
              "    .colab-df-convert:hover {\n",
              "      background-color: #E2EBFA;\n",
              "      box-shadow: 0px 1px 2px rgba(60, 64, 67, 0.3), 0px 1px 3px 1px rgba(60, 64, 67, 0.15);\n",
              "      fill: #174EA6;\n",
              "    }\n",
              "\n",
              "    [theme=dark] .colab-df-convert {\n",
              "      background-color: #3B4455;\n",
              "      fill: #D2E3FC;\n",
              "    }\n",
              "\n",
              "    [theme=dark] .colab-df-convert:hover {\n",
              "      background-color: #434B5C;\n",
              "      box-shadow: 0px 1px 3px 1px rgba(0, 0, 0, 0.15);\n",
              "      filter: drop-shadow(0px 1px 2px rgba(0, 0, 0, 0.3));\n",
              "      fill: #FFFFFF;\n",
              "    }\n",
              "  </style>\n",
              "\n",
              "      <script>\n",
              "        const buttonEl =\n",
              "          document.querySelector('#df-28f6ba2b-9f71-444e-80fa-af7a44f91630 button.colab-df-convert');\n",
              "        buttonEl.style.display =\n",
              "          google.colab.kernel.accessAllowed ? 'block' : 'none';\n",
              "\n",
              "        async function convertToInteractive(key) {\n",
              "          const element = document.querySelector('#df-28f6ba2b-9f71-444e-80fa-af7a44f91630');\n",
              "          const dataTable =\n",
              "            await google.colab.kernel.invokeFunction('convertToInteractive',\n",
              "                                                     [key], {});\n",
              "          if (!dataTable) return;\n",
              "\n",
              "          const docLinkHtml = 'Like what you see? Visit the ' +\n",
              "            '<a target=\"_blank\" href=https://colab.research.google.com/notebooks/data_table.ipynb>data table notebook</a>'\n",
              "            + ' to learn more about interactive tables.';\n",
              "          element.innerHTML = '';\n",
              "          dataTable['output_type'] = 'display_data';\n",
              "          await google.colab.output.renderOutput(dataTable, element);\n",
              "          const docLink = document.createElement('div');\n",
              "          docLink.innerHTML = docLinkHtml;\n",
              "          element.appendChild(docLink);\n",
              "        }\n",
              "      </script>\n",
              "    </div>\n",
              "  </div>\n",
              "  "
            ]
          },
          "metadata": {},
          "execution_count": 85
        }
      ],
      "source": [
        "eda_df.head()"
      ]
    },
    {
      "cell_type": "markdown",
      "metadata": {
        "id": "qCHSg1z3qrCx"
      },
      "source": [
        "###Duplicate Columns"
      ]
    },
    {
      "cell_type": "markdown",
      "metadata": {
        "id": "JIQGGD-FmHJ-"
      },
      "source": [
        "I will now check for any duplicate rows."
      ]
    },
    {
      "cell_type": "code",
      "execution_count": 86,
      "metadata": {
        "colab": {
          "base_uri": "https://localhost:8080/"
        },
        "id": "_HMRSQQN-8ro",
        "outputId": "d348537d-17ec-4e66-a463-851f6f902780"
      },
      "outputs": [
        {
          "output_type": "execute_result",
          "data": {
            "text/plain": [
              "5452"
            ]
          },
          "metadata": {},
          "execution_count": 86
        }
      ],
      "source": [
        "#check for duplicates\n",
        "eda_df.duplicated().sum()"
      ]
    },
    {
      "cell_type": "markdown",
      "metadata": {
        "id": "rkLICoj3mLZD"
      },
      "source": [
        "There are 5452 duplicate rows"
      ]
    },
    {
      "cell_type": "code",
      "execution_count": 87,
      "metadata": {
        "colab": {
          "base_uri": "https://localhost:8080/"
        },
        "id": "rh1FEmZA_jJ_",
        "outputId": "f033dfb4-e1e2-4b65-9180-cab9a67060dd"
      },
      "outputs": [
        {
          "output_type": "execute_result",
          "data": {
            "text/plain": [
              "(7500, 10)"
            ]
          },
          "metadata": {},
          "execution_count": 87
        }
      ],
      "source": [
        "eda_df.shape"
      ]
    },
    {
      "cell_type": "code",
      "execution_count": 88,
      "metadata": {
        "id": "L-TZt_2m_Cg6"
      },
      "outputs": [],
      "source": [
        "#drop duplicates\n",
        "eda_df.drop_duplicates(inplace = True)"
      ]
    },
    {
      "cell_type": "code",
      "execution_count": 89,
      "metadata": {
        "colab": {
          "base_uri": "https://localhost:8080/"
        },
        "id": "ZCbz1E53_cYk",
        "outputId": "741367b7-b89b-4bff-ea70-658c93f029c9"
      },
      "outputs": [
        {
          "output_type": "execute_result",
          "data": {
            "text/plain": [
              "(2048, 10)"
            ]
          },
          "metadata": {},
          "execution_count": 89
        }
      ],
      "source": [
        "eda_df.shape"
      ]
    },
    {
      "cell_type": "markdown",
      "metadata": {
        "id": "TL5zNDYMmSfq"
      },
      "source": [
        "All duplicates have been dropped and there are now 2048 rows."
      ]
    },
    {
      "cell_type": "markdown",
      "metadata": {
        "id": "Yd75UJ7Yquha"
      },
      "source": [
        "###Missing Values"
      ]
    },
    {
      "cell_type": "markdown",
      "metadata": {
        "id": "2VIAYepHmYje"
      },
      "source": [
        "Now I will check for missing values."
      ]
    },
    {
      "cell_type": "code",
      "execution_count": 90,
      "metadata": {
        "colab": {
          "base_uri": "https://localhost:8080/"
        },
        "id": "gw_iiRoT_-bj",
        "outputId": "4a9f36ad-6f27-4545-d659-9613a2c4dbac"
      },
      "outputs": [
        {
          "output_type": "execute_result",
          "data": {
            "text/plain": [
              "winery           0\n",
              "wine             0\n",
              "year             2\n",
              "rating           0\n",
              "num_reviews      0\n",
              "region           0\n",
              "price            0\n",
              "type           106\n",
              "body           271\n",
              "acidity        271\n",
              "dtype: int64"
            ]
          },
          "metadata": {},
          "execution_count": 90
        }
      ],
      "source": [
        "#check for missing values\n",
        "eda_df.isna().sum()"
      ]
    },
    {
      "cell_type": "markdown",
      "metadata": {
        "id": "cNbfsyR1mwtl"
      },
      "source": [
        "Because there were over 5000 duplicate rows dropped, I will not drop any missing values to keep as much data as possible."
      ]
    },
    {
      "cell_type": "markdown",
      "metadata": {
        "id": "JCR2H1crmcWp"
      },
      "source": [
        "I will create a loop to get the value counts of all of the columns so that I can find the most common values for each column, and check for any inconsistencies."
      ]
    },
    {
      "cell_type": "code",
      "execution_count": 91,
      "metadata": {
        "colab": {
          "base_uri": "https://localhost:8080/"
        },
        "id": "YUJ-6oTCBYgp",
        "outputId": "b632ca98-a5e7-411c-e127-ebb9ef78cf52"
      },
      "outputs": [
        {
          "output_type": "stream",
          "name": "stdout",
          "text": [
            "- winery:\n",
            "Contino                                 457\n",
            "Artadi                                  261\n",
            "La Rioja Alta                           254\n",
            "Sierra Cantabria                        237\n",
            "Matarromera                             232\n",
            "                                       ... \n",
            "Briego                                    1\n",
            "Guillem Carol - Cellers Carol Valles      1\n",
            "Particular                                1\n",
            "Bodegas Asenjo & Manso                    1\n",
            "Joan Simo                                 1\n",
            "Name: winery, Length: 480, dtype: int64\n",
            "\n",
            "\n",
            "\n",
            "- wine:\n",
            "Reserva                         467\n",
            "Gran Reserva                    458\n",
            "Rioja Reserva                   240\n",
            "El Viejo                        224\n",
            "Corimbo I                       223\n",
            "                               ... \n",
            "4 Varietales Coleccion Rioja      1\n",
            "Noble                             1\n",
            "Primordium                        1\n",
            "Finca Helena                      1\n",
            "Capricho Crianza                  1\n",
            "Name: wine, Length: 847, dtype: int64\n",
            "\n",
            "\n",
            "\n",
            "- year:\n",
            "2011    1190\n",
            "2016     897\n",
            "2015     860\n",
            "2018     850\n",
            "2017     731\n",
            "        ... \n",
            "1953       1\n",
            "1972       1\n",
            "1974       1\n",
            "1931       1\n",
            "1925       1\n",
            "Name: year, Length: 72, dtype: int64\n",
            "\n",
            "\n",
            "\n",
            "- rating:\n",
            "4.2    5679\n",
            "4.3     707\n",
            "4.4     484\n",
            "4.5     281\n",
            "4.6     191\n",
            "4.7     112\n",
            "4.8      44\n",
            "4.9       2\n",
            "Name: rating, dtype: int64\n",
            "\n",
            "\n",
            "\n",
            "- num_reviews:\n",
            "420     881\n",
            "410     662\n",
            "404     441\n",
            "390     440\n",
            "405     222\n",
            "       ... \n",
            "966       1\n",
            "1018      1\n",
            "1039      1\n",
            "1047      1\n",
            "746       1\n",
            "Name: num_reviews, Length: 817, dtype: int64\n",
            "\n",
            "\n",
            "\n",
            "- region:\n",
            "Rioja                              2440\n",
            "Ribera del Duero                   1413\n",
            "Priorato                            686\n",
            "Toro                                300\n",
            "Vino de Espana                      263\n",
            "                                   ... \n",
            "Ribera del Gallego-Cinco Villas       1\n",
            "Monterrei                             1\n",
            "Jerez Cream                           1\n",
            "Condado de Huelva                     1\n",
            "Abona                                 1\n",
            "Name: region, Length: 76, dtype: int64\n",
            "\n",
            "\n",
            "\n",
            "- price:\n",
            "37.90     228\n",
            "18.90     226\n",
            "45.00     225\n",
            "19.90     224\n",
            "17.90     223\n",
            "         ... \n",
            "47.52       1\n",
            "919.60      1\n",
            "94.20       1\n",
            "39.35       1\n",
            "995.00      1\n",
            "Name: price, Length: 1292, dtype: int64\n",
            "\n",
            "\n",
            "\n",
            "- type:\n",
            "Rioja Red               2357\n",
            "Ribera Del Duero Red    1407\n",
            "Red                      864\n",
            "Priorat Red              674\n",
            "NaN                      545\n",
            "Toro Red                 296\n",
            "Tempranillo              291\n",
            "Sherry                   274\n",
            "Albarino                 252\n",
            "Mencia                   235\n",
            "Rioja White               92\n",
            "Pedro Ximenez             35\n",
            "Grenache                  35\n",
            "Cava                      33\n",
            "Verdejo                   27\n",
            "Monastrell                18\n",
            "Montsant Red              17\n",
            "Syrah                     15\n",
            "Chardonnay                13\n",
            "Cabernet Sauvignon        11\n",
            "Sparkling                  5\n",
            "Sauvignon Blanc            4\n",
            "Name: type, dtype: int64\n",
            "\n",
            "\n",
            "\n",
            "- body:\n",
            "4.0    4120\n",
            "5.0    1624\n",
            "NaN    1169\n",
            "3.0     553\n",
            "2.0      34\n",
            "Name: body, dtype: int64\n",
            "\n",
            "\n",
            "\n",
            "- acidity:\n",
            "3.0    6028\n",
            "NaN    1169\n",
            "2.0     268\n",
            "1.0      35\n",
            "Name: acidity, dtype: int64\n",
            "\n",
            "\n",
            "\n"
          ]
        }
      ],
      "source": [
        "#loop to get all value counts\n",
        "cols = eda_df.dtypes.index\n",
        "\n",
        "for col in cols:\n",
        "  print(f'- {col}:')\n",
        "  print(df[col].value_counts(dropna=False))\n",
        "  print(\"\\n\\n\")"
      ]
    },
    {
      "cell_type": "markdown",
      "metadata": {
        "id": "vOHJTYz3nVPt"
      },
      "source": [
        "The most common values seem to be much more common than the other values, so I will fill in the missing values with the most common in their column."
      ]
    },
    {
      "cell_type": "code",
      "execution_count": 92,
      "metadata": {
        "id": "EAgAyw3cKqjX"
      },
      "outputs": [],
      "source": [
        "#fill missing values\n",
        "eda_df.fillna({\"year\":2011, \"type\": 'Rioja Red', \"body\": 4.0, \"acidity\":3.0}, inplace = True)"
      ]
    },
    {
      "cell_type": "code",
      "execution_count": 93,
      "metadata": {
        "colab": {
          "base_uri": "https://localhost:8080/"
        },
        "id": "BatkklhaL_fr",
        "outputId": "1be0998e-b0e0-4d06-de2f-361e653c6307"
      },
      "outputs": [
        {
          "output_type": "execute_result",
          "data": {
            "text/plain": [
              "winery         0\n",
              "wine           0\n",
              "year           0\n",
              "rating         0\n",
              "num_reviews    0\n",
              "region         0\n",
              "price          0\n",
              "type           0\n",
              "body           0\n",
              "acidity        0\n",
              "dtype: int64"
            ]
          },
          "metadata": {},
          "execution_count": 93
        }
      ],
      "source": [
        "eda_df.isna().sum()"
      ]
    },
    {
      "cell_type": "markdown",
      "metadata": {
        "id": "L8DuWC_GnoAi"
      },
      "source": [
        "There are no more missing values."
      ]
    },
    {
      "cell_type": "markdown",
      "metadata": {
        "id": "0pMgWGfcnuh7"
      },
      "source": [
        "The loop also showed that there are no inconsistncies in the dataset."
      ]
    },
    {
      "cell_type": "markdown",
      "metadata": {
        "id": "HmB-TkkCjLZF"
      },
      "source": [
        "##Exploring the Data"
      ]
    },
    {
      "cell_type": "markdown",
      "metadata": {
        "id": "-uWgii3Jn5QU"
      },
      "source": [
        "I will now get the data types of the values and try to find useful information in the numerical columns."
      ]
    },
    {
      "cell_type": "code",
      "execution_count": 94,
      "metadata": {
        "colab": {
          "base_uri": "https://localhost:8080/"
        },
        "id": "z-oF21Fwa-Rl",
        "outputId": "9e80d7a7-61d6-4b69-ab6d-1e045fda8d9c"
      },
      "outputs": [
        {
          "output_type": "execute_result",
          "data": {
            "text/plain": [
              "winery          object\n",
              "wine            object\n",
              "year            object\n",
              "rating         float64\n",
              "num_reviews      int64\n",
              "region          object\n",
              "price          float64\n",
              "type            object\n",
              "body           float64\n",
              "acidity        float64\n",
              "dtype: object"
            ]
          },
          "metadata": {},
          "execution_count": 94
        }
      ],
      "source": [
        "#get data types\n",
        "eda_df.dtypes"
      ]
    },
    {
      "cell_type": "markdown",
      "metadata": {
        "id": "B3gLaZ_DraPp"
      },
      "source": [
        "###Histplots"
      ]
    },
    {
      "cell_type": "code",
      "execution_count": 95,
      "metadata": {
        "colab": {
          "base_uri": "https://localhost:8080/",
          "height": 372
        },
        "id": "mQhIGzhvaN3o",
        "outputId": "89b0ffd5-2b90-4524-d197-98c15da14ddb"
      },
      "outputs": [
        {
          "output_type": "execute_result",
          "data": {
            "text/plain": [
              "<matplotlib.axes._subplots.AxesSubplot at 0x7f2d8129e730>"
            ]
          },
          "metadata": {},
          "execution_count": 95
        },
        {
          "output_type": "display_data",
          "data": {
            "text/plain": [
              "<Figure size 720x360 with 1 Axes>"
            ],
            "image/png": "[encoded data removed]"
          },
          "metadata": {
            "needs_background": "light"
          }
        }
      ],
      "source": [
        "sns.histplot(data = eda_df['rating'])"
      ]
    },
    {
      "cell_type": "markdown",
      "metadata": {
        "id": "uTvzneiBoOQK"
      },
      "source": [
        "It seems that the highest rating by far is 4.3, and counts seem to go down as rating goes up."
      ]
    },
    {
      "cell_type": "code",
      "execution_count": 96,
      "metadata": {
        "colab": {
          "base_uri": "https://localhost:8080/",
          "height": 372
        },
        "id": "nQo7D8Uyc7Oe",
        "outputId": "247d2118-8927-49a8-f9c7-2505e8146343"
      },
      "outputs": [
        {
          "output_type": "execute_result",
          "data": {
            "text/plain": [
              "Text(0.5, 0, 'Number of Reviews')"
            ]
          },
          "metadata": {},
          "execution_count": 96
        },
        {
          "output_type": "display_data",
          "data": {
            "text/plain": [
              "<Figure size 720x360 with 1 Axes>"
            ],
            "image/png": "[encoded data removed]"
          },
          "metadata": {
            "needs_background": "light"
          }
        }
      ],
      "source": [
        "plt.rcParams[\"figure.figsize\"] = (10, 5)\n",
        "sns.histplot(data = eda_df.groupby(by='num_reviews')['type'], bins='auto', legend=False)\n",
        "plt.xlabel('Number of Reviews')"
      ]
    },
    {
      "cell_type": "markdown",
      "metadata": {
        "id": "QDh3jsdPo1AA"
      },
      "source": [
        "The majority of wines have under 5000 reviews, with most being under 1000. There are a few large outliers with the largest being 30,000"
      ]
    },
    {
      "cell_type": "code",
      "execution_count": 97,
      "metadata": {
        "colab": {
          "base_uri": "https://localhost:8080/",
          "height": 350
        },
        "id": "O2XRrPa7c76D",
        "outputId": "821b335d-d2e4-476f-b7dd-7f4e0f6a6843"
      },
      "outputs": [
        {
          "output_type": "execute_result",
          "data": {
            "text/plain": [
              "<matplotlib.axes._subplots.AxesSubplot at 0x7f2d811d83a0>"
            ]
          },
          "metadata": {},
          "execution_count": 97
        },
        {
          "output_type": "display_data",
          "data": {
            "text/plain": [
              "<Figure size 720x360 with 1 Axes>"
            ],
            "image/png": "[encoded data removed]"
          },
          "metadata": {
            "needs_background": "light"
          }
        }
      ],
      "source": [
        "plt.rcParams[\"figure.figsize\"] = (10, 5)\n",
        "sns.histplot(data = eda_df.groupby(by='price')['type'], bins='auto', legend=False)"
      ]
    },
    {
      "cell_type": "markdown",
      "metadata": {
        "id": "LAlaVPJapEhF"
      },
      "source": [
        "Most of the wines cost under 100 dollars, but there are some outliers, the largest being around 3000 dollars."
      ]
    },
    {
      "cell_type": "code",
      "execution_count": 98,
      "metadata": {
        "colab": {
          "base_uri": "https://localhost:8080/",
          "height": 372
        },
        "id": "VVBxQUZ3c8Z8",
        "outputId": "f2f022f1-4334-4ebb-b4b6-d51cf6e8c20f"
      },
      "outputs": [
        {
          "output_type": "execute_result",
          "data": {
            "text/plain": [
              "<matplotlib.axes._subplots.AxesSubplot at 0x7f2d808f3be0>"
            ]
          },
          "metadata": {},
          "execution_count": 98
        },
        {
          "output_type": "display_data",
          "data": {
            "text/plain": [
              "<Figure size 720x360 with 1 Axes>"
            ],
            "image/png": "[encoded data removed]"
          },
          "metadata": {
            "needs_background": "light"
          }
        }
      ],
      "source": [
        "sns.histplot(data = eda_df['body'])"
      ]
    },
    {
      "cell_type": "markdown",
      "metadata": {
        "id": "oRL-GQyKpYIs"
      },
      "source": [
        "It seems most wines have a body of 4.0, with 5.0 wines being roughly half the amount. Very few wines have a body of 2.0 and 3.0."
      ]
    },
    {
      "cell_type": "code",
      "execution_count": 99,
      "metadata": {
        "colab": {
          "base_uri": "https://localhost:8080/",
          "height": 374
        },
        "id": "VMaifVL5c8yc",
        "outputId": "772875fd-efb5-4a4b-8a04-ef7996c889ee"
      },
      "outputs": [
        {
          "output_type": "execute_result",
          "data": {
            "text/plain": [
              "<matplotlib.axes._subplots.AxesSubplot at 0x7f2d80674880>"
            ]
          },
          "metadata": {},
          "execution_count": 99
        },
        {
          "output_type": "display_data",
          "data": {
            "text/plain": [
              "<Figure size 720x360 with 1 Axes>"
            ],
            "image/png": "[encoded data removed]"
          },
          "metadata": {
            "needs_background": "light"
          }
        }
      ],
      "source": [
        "sns.histplot(data = eda_df['acidity'])"
      ]
    },
    {
      "cell_type": "markdown",
      "metadata": {
        "id": "jiegSZ8Hpzm-"
      },
      "source": [
        "Almost all wines have an acidity around 3.00. The other numbers are almost negligible."
      ]
    },
    {
      "cell_type": "markdown",
      "metadata": {
        "id": "Rbw2WN_nrdlB"
      },
      "source": [
        "###Heatmap"
      ]
    },
    {
      "cell_type": "code",
      "execution_count": 100,
      "metadata": {
        "colab": {
          "base_uri": "https://localhost:8080/",
          "height": 357
        },
        "id": "sTwLnS5Ni09T",
        "outputId": "7dfa0850-68cb-4717-d76c-0f151b8e41d6"
      },
      "outputs": [
        {
          "output_type": "execute_result",
          "data": {
            "text/plain": [
              "<matplotlib.axes._subplots.AxesSubplot at 0x7f2d806b7760>"
            ]
          },
          "metadata": {},
          "execution_count": 100
        },
        {
          "output_type": "display_data",
          "data": {
            "text/plain": [
              "<Figure size 720x360 with 2 Axes>"
            ],
            "image/png": "[encoded data removed]"
          },
          "metadata": {
            "needs_background": "light"
          }
        }
      ],
      "source": [
        "corr = df.corr()\n",
        "sns.heatmap(corr, cmap='coolwarm', annot=True, fmt='.2f')"
      ]
    },
    {
      "cell_type": "markdown",
      "metadata": {
        "id": "f9Ss2TDJqGIL"
      },
      "source": [
        "This heat map shows that price seems to have the most affect on a wines rating."
      ]
    },
    {
      "cell_type": "markdown",
      "metadata": {
        "id": "mrtwPTaVtHHc"
      },
      "source": [
        "##Explaining the Data"
      ]
    },
    {
      "cell_type": "code",
      "execution_count": 101,
      "metadata": {
        "colab": {
          "base_uri": "https://localhost:8080/",
          "height": 386
        },
        "id": "MlHBz4fstN47",
        "outputId": "db47b8b9-90c7-4407-8719-fba5e94f0eb7"
      },
      "outputs": [
        {
          "output_type": "display_data",
          "data": {
            "text/plain": [
              "<Figure size 720x360 with 1 Axes>"
            ],
            "image/png": "[encoded data removed]"
          },
          "metadata": {
            "needs_background": "light"
          }
        }
      ],
      "source": [
        "#create scatterplot and title\n",
        "fig, ax = plt.subplots(figsize = (10,5))\n",
        "sns.barplot(data = eda_df, x = 'rating', y = 'price')\n",
        "sns.set_context('talk')\n",
        "ax.set_title('Price VS. Rating',\n",
        "             fontfamily = 'serif',\n",
        "             fontsize = 'large', \n",
        "             fontweight = 'semibold');\n",
        "plt.xticks(rotation = 90)\n",
        "\n",
        "#change x and y axis font\n",
        "ax.set_xlabel(ax.xaxis.get_label().get_text(),\n",
        "    fontsize='medium')\n",
        "ax.set_ylabel(ax.yaxis.get_label().get_text(),\n",
        "    fontsize='medium')\n",
        "\n",
        "plt.savefig('Price_vs_Rating.png')"
      ]
    },
    {
      "cell_type": "markdown",
      "metadata": {
        "id": "vpU-QsuPzGQ9"
      },
      "source": [
        "According to this bargraph, there is a clear postive correlation between rating and price. As the price goes up, so does the rating."
      ]
    },
    {
      "cell_type": "code",
      "execution_count": 102,
      "metadata": {
        "colab": {
          "base_uri": "https://localhost:8080/",
          "height": 386
        },
        "id": "ZXVJ8HWMy2dM",
        "outputId": "a99e926e-7edc-42e6-faa5-9d273f3d1f71"
      },
      "outputs": [
        {
          "output_type": "display_data",
          "data": {
            "text/plain": [
              "<Figure size 720x360 with 1 Axes>"
            ],
            "image/png": "[encoded data removed]"
          },
          "metadata": {
            "needs_background": "light"
          }
        }
      ],
      "source": [
        "#create scatterplot and title\n",
        "fig, ax = plt.subplots(figsize = (10,5))\n",
        "sns.barplot(data = eda_df, x = 'body', y = 'price')\n",
        "sns.set_context('talk')\n",
        "ax.set_title('Price VS. Body',\n",
        "             fontfamily = 'serif',\n",
        "             fontsize = 'large', \n",
        "             fontweight = 'semibold');\n",
        "plt.xticks(rotation = 90)\n",
        "\n",
        "#change x and y axis font\n",
        "ax.set_xlabel(ax.xaxis.get_label().get_text(),\n",
        "    fontsize='medium')\n",
        "ax.set_ylabel(ax.yaxis.get_label().get_text(),\n",
        "    fontsize='medium')\n",
        "\n",
        "plt.savefig('Price_vs_Body.png')"
      ]
    },
    {
      "cell_type": "markdown",
      "metadata": {
        "id": "peKshIPgzrWM"
      },
      "source": [
        "A higher price also seems to indicate a higher body number, indicating that a higher body number likely equals better quality wine."
      ]
    },
    {
      "cell_type": "markdown",
      "metadata": {
        "id": "leKccYFV01ZP"
      },
      "source": [
        "I seems that price has a decent  effect on the quality of the wine, which likely causes expensive wine to get better reviews."
      ]
    },
    {
      "cell_type": "markdown",
      "metadata": {
        "id": "kCevu8Tejebm"
      },
      "source": [
        "##Preprocessing"
      ]
    },
    {
      "cell_type": "markdown",
      "metadata": {
        "id": "rfjNHsb0jmqX"
      },
      "source": [
        "I now need to make a new copy of the data for modeling."
      ]
    },
    {
      "cell_type": "code",
      "execution_count": 103,
      "metadata": {
        "id": "1w9GMz7eicc3"
      },
      "outputs": [],
      "source": [
        "#create a copy of the data for modeling\n",
        "model_df = df.copy()"
      ]
    },
    {
      "cell_type": "markdown",
      "metadata": {
        "id": "1F4Rbw5Hju2J"
      },
      "source": [
        "I will clean up the data the same as before, by dropping duplicates, and unnessecary columns. I will drop the unnessecary columns while splitting the data"
      ]
    },
    {
      "cell_type": "code",
      "execution_count": 104,
      "metadata": {
        "id": "3YFA_kCQjBcl"
      },
      "outputs": [],
      "source": [
        "#drop duplicates\n",
        "model_df.drop_duplicates(inplace = True)"
      ]
    },
    {
      "cell_type": "markdown",
      "metadata": {
        "id": "jjKoj4KapXH0"
      },
      "source": [
        "Now I need to split the data, encode the target, and create a preprocesser."
      ]
    },
    {
      "cell_type": "code",
      "execution_count": 105,
      "metadata": {
        "id": "xB4VA61cliIX"
      },
      "outputs": [],
      "source": [
        "#assign target and features\n",
        "X = model_df.drop(columns=['rating', 'country'])\n",
        "#encode the target\n",
        "le = LabelEncoder()\n",
        "y = le.fit_transform(model_df['rating'])\n",
        "#split data\n",
        "X_train, X_test, y_train, y_test = train_test_split(X, y, random_state=42)"
      ]
    },
    {
      "cell_type": "code",
      "execution_count": 106,
      "metadata": {
        "id": "Fw3J-b6cmxLz"
      },
      "outputs": [],
      "source": [
        "#create selectors\n",
        "cat_selector = make_column_selector(dtype_include='object')\n",
        "num_selector = make_column_selector(dtype_include='number')"
      ]
    },
    {
      "cell_type": "code",
      "execution_count": 107,
      "metadata": {
        "id": "GtLPhal6nrcf"
      },
      "outputs": [],
      "source": [
        "#create imputers\n",
        "freq_imputer = SimpleImputer(strategy='most_frequent')\n",
        "mean_imputer = SimpleImputer(strategy='mean')\n",
        "#create scaler\n",
        "scaler = StandardScaler()\n",
        "#create one hot encoder\n",
        "ohe = OneHotEncoder(handle_unknown='ignore', sparse=False)"
      ]
    },
    {
      "cell_type": "code",
      "execution_count": 108,
      "metadata": {
        "id": "1l30STFcoQV5"
      },
      "outputs": [],
      "source": [
        "#numeric pipeline\n",
        "numeric_pipe = make_pipeline(mean_imputer, scaler)"
      ]
    },
    {
      "cell_type": "code",
      "execution_count": 109,
      "metadata": {
        "id": "mrKk6kpKoaCH"
      },
      "outputs": [],
      "source": [
        "#categorical pipeline\n",
        "categorical_pipe = make_pipeline(freq_imputer, ohe)"
      ]
    },
    {
      "cell_type": "code",
      "execution_count": 110,
      "metadata": {
        "id": "qb77IXOIoiJX"
      },
      "outputs": [],
      "source": [
        "#tuples for column transformer\n",
        "number_tuple = (numeric_pipe, num_selector)\n",
        "category_tuple = (categorical_pipe, cat_selector)\n",
        "#columnTransformer\n",
        "preprocessor = make_column_transformer(number_tuple, category_tuple)"
      ]
    },
    {
      "cell_type": "markdown",
      "metadata": {
        "id": "oOJUmuw0qI-D"
      },
      "source": [
        "##Models"
      ]
    },
    {
      "cell_type": "markdown",
      "metadata": {
        "id": "mhIh_X-BqLCF"
      },
      "source": [
        "I am going to create a KNN model and a Random Forest Classifier model."
      ]
    },
    {
      "cell_type": "markdown",
      "metadata": {
        "id": "GdibA8JKJxxY"
      },
      "source": [
        "###KNN"
      ]
    },
    {
      "cell_type": "code",
      "execution_count": 111,
      "metadata": {
        "colab": {
          "base_uri": "https://localhost:8080/"
        },
        "id": "YfKMOVtV1yDk",
        "outputId": "3b52eb03-628b-4526-98d5-6c6f8c332153"
      },
      "outputs": [
        {
          "output_type": "execute_result",
          "data": {
            "text/plain": [
              "{1: 0.392578125, 2: 0.427734375, 3: 0.41796875, 4: 0.427734375, 5: 0.41796875}"
            ]
          },
          "metadata": {},
          "execution_count": 111
        }
      ],
      "source": [
        "NN = [1,2,3,4,5]\n",
        "train_scores = []\n",
        "test_scores = []\n",
        "#create pipeline and fit data\n",
        "for n in NN:\n",
        "  #instantiate a model with each value of c and fit it on the data\n",
        "  knn = KNeighborsClassifier(n_neighbors=n)\n",
        "  knn_pipe = make_pipeline(preprocessor, knn)\n",
        "  knn_pipe.fit(X_train, y_train)\n",
        " \n",
        "  #add the training and testing scores to our scores lists\n",
        "  train_scores.append(knn_pipe.score(X_train, y_train))\n",
        "  test_scores.append(knn_pipe.score(X_test, y_test))\n",
        "\n",
        "# print a dictionary of values of C and accuracy scores\n",
        "{n:score for n, score in zip(NN, test_scores)}"
      ]
    },
    {
      "cell_type": "markdown",
      "metadata": {
        "id": "zuFz0ujYJ22m"
      },
      "source": [
        "####Best Model"
      ]
    },
    {
      "cell_type": "code",
      "execution_count": 112,
      "metadata": {
        "colab": {
          "base_uri": "https://localhost:8080/"
        },
        "id": "zpxJPKAh63ey",
        "outputId": "90871d0c-2027-4a8a-b4e0-30b6a4e813b6"
      },
      "outputs": [
        {
          "output_type": "stream",
          "name": "stdout",
          "text": [
            "              precision    recall  f1-score   support\n",
            "\n",
            "           0       0.58      0.52      0.55        50\n",
            "           1       0.47      0.58      0.52       178\n",
            "           2       0.33      0.44      0.38       111\n",
            "           3       0.23      0.11      0.14        85\n",
            "           4       0.39      0.29      0.33        55\n",
            "           5       0.64      0.38      0.47        24\n",
            "           6       0.25      0.11      0.15         9\n",
            "\n",
            "    accuracy                           0.42       512\n",
            "   macro avg       0.41      0.35      0.36       512\n",
            "weighted avg       0.41      0.42      0.40       512\n",
            "\n"
          ]
        }
      ],
      "source": [
        "best_knn = KNeighborsClassifier(n_neighbors=2)\n",
        "knn_pipe = make_pipeline(preprocessor, knn)\n",
        "knn_pipe.fit(X_train, y_train)\n",
        "predictions = knn_pipe.predict(X_test)\n",
        "#get metrics\n",
        "print(classification_report(y_test, predictions))"
      ]
    },
    {
      "cell_type": "markdown",
      "metadata": {
        "id": "-xfpHgK1MxIy"
      },
      "source": [
        "The best model only has an overall accuracy of 42%. This is very bad, so we will try a PCA"
      ]
    },
    {
      "cell_type": "markdown",
      "metadata": {
        "id": "CXvjAycz3rLL"
      },
      "source": [
        "####SMOTE"
      ]
    },
    {
      "cell_type": "markdown",
      "source": [
        "I will use SMOTE to try to improve the model."
      ],
      "metadata": {
        "id": "OGfHsaaGoJmx"
      }
    },
    {
      "cell_type": "code",
      "execution_count": 113,
      "metadata": {
        "colab": {
          "base_uri": "https://localhost:8080/"
        },
        "id": "VejTRssm3sm6",
        "outputId": "3bf9c549-1640-475b-ba29-0191f197e6e0"
      },
      "outputs": [
        {
          "output_type": "stream",
          "name": "stdout",
          "text": [
            "              precision    recall  f1-score   support\n",
            "\n",
            "           0       0.37      0.60      0.46        50\n",
            "           1       0.52      0.38      0.44       178\n",
            "           2       0.34      0.31      0.32       111\n",
            "           3       0.31      0.35      0.33        85\n",
            "           4       0.30      0.29      0.29        55\n",
            "           5       0.31      0.50      0.38        24\n",
            "           6       0.22      0.22      0.22         9\n",
            "\n",
            "    accuracy                           0.38       512\n",
            "   macro avg       0.34      0.38      0.35       512\n",
            "weighted avg       0.39      0.38      0.38       512\n",
            "\n"
          ]
        }
      ],
      "source": [
        "smote = SMOTE(k_neighbors=1)\n",
        "\n",
        "smote_knn_pipe = make_pipeline(preprocessor, smote, best_knn)\n",
        "smote_knn_pipe.fit(X_train, y_train)\n",
        "\n",
        "test_preds = smote_knn_pipe.predict(X_test)\n",
        "print(classification_report(y_test, test_preds))"
      ]
    },
    {
      "cell_type": "markdown",
      "source": [
        "SMOTE seems to have made the model worse."
      ],
      "metadata": {
        "id": "GbBlZS6MoReT"
      }
    },
    {
      "cell_type": "markdown",
      "metadata": {
        "id": "94pA6XBXJ6GC"
      },
      "source": [
        "####PCA"
      ]
    },
    {
      "cell_type": "markdown",
      "source": [
        "Now I will use a PCA to see if it will improve the model"
      ],
      "metadata": {
        "id": "9ILMNQZEoXWz"
      }
    },
    {
      "cell_type": "code",
      "execution_count": 114,
      "metadata": {
        "colab": {
          "base_uri": "https://localhost:8080/"
        },
        "id": "t-uA3Ne38TNP",
        "outputId": "cf1c2d16-f17d-445a-a5b3-d7cb3a9a52b8"
      },
      "outputs": [
        {
          "output_type": "stream",
          "name": "stdout",
          "text": [
            "0.41796875\n"
          ]
        }
      ],
      "source": [
        "pca = PCA(n_components=70)\n",
        "\n",
        "knn_pca_pipe = make_pipeline(preprocessor, pca, knn)\n",
        "knn_pca_pipe.fit(X_train, y_train)\n",
        "predictions = knn_pca_pipe.predict(X_test)\n",
        "#get metrics\n",
        "print(accuracy_score(y_test, predictions))"
      ]
    },
    {
      "cell_type": "markdown",
      "source": [
        "It's not as bad as the SMOTE model, but it is not better than the original."
      ],
      "metadata": {
        "id": "vLkMMJvioeDi"
      }
    },
    {
      "cell_type": "markdown",
      "metadata": {
        "id": "1Hlce1-6WBpS"
      },
      "source": [
        "### Random Forest"
      ]
    },
    {
      "cell_type": "markdown",
      "source": [
        "Before making a random forest model I will need to check for class imbalance in the data."
      ],
      "metadata": {
        "id": "BQBP_xignJwt"
      }
    },
    {
      "cell_type": "code",
      "execution_count": 115,
      "metadata": {
        "colab": {
          "base_uri": "https://localhost:8080/"
        },
        "id": "o8P9U5w1PI1Z",
        "outputId": "90759562-32bb-457f-ecc6-cc6488cbd4f3"
      },
      "outputs": [
        {
          "output_type": "execute_result",
          "data": {
            "text/plain": [
              "4.3    0.344727\n",
              "4.4    0.236328\n",
              "4.5    0.137207\n",
              "4.2    0.111328\n",
              "4.6    0.093262\n",
              "4.7    0.054688\n",
              "4.8    0.021484\n",
              "4.9    0.000977\n",
              "Name: rating, dtype: float64"
            ]
          },
          "metadata": {},
          "execution_count": 115
        }
      ],
      "source": [
        "model_df['rating'].value_counts(normalize=True)"
      ]
    },
    {
      "cell_type": "markdown",
      "source": [
        "I will need to balance the class weight when making the model."
      ],
      "metadata": {
        "id": "kWOhY2Zvn16Y"
      }
    },
    {
      "cell_type": "code",
      "execution_count": 116,
      "metadata": {
        "colab": {
          "base_uri": "https://localhost:8080/"
        },
        "id": "nou7eYy2LwhJ",
        "outputId": "0645cc22-e441-4261-969e-c97847782042"
      },
      "outputs": [
        {
          "output_type": "execute_result",
          "data": {
            "text/plain": [
              "{'bootstrap': True,\n",
              " 'ccp_alpha': 0.0,\n",
              " 'class_weight': 'balanced',\n",
              " 'criterion': 'gini',\n",
              " 'max_depth': None,\n",
              " 'max_features': 'auto',\n",
              " 'max_leaf_nodes': None,\n",
              " 'max_samples': None,\n",
              " 'min_impurity_decrease': 0.0,\n",
              " 'min_samples_leaf': 1,\n",
              " 'min_samples_split': 2,\n",
              " 'min_weight_fraction_leaf': 0.0,\n",
              " 'n_estimators': 100,\n",
              " 'n_jobs': None,\n",
              " 'oob_score': False,\n",
              " 'random_state': 42,\n",
              " 'verbose': 0,\n",
              " 'warm_start': False}"
            ]
          },
          "metadata": {},
          "execution_count": 116
        }
      ],
      "source": [
        "#create random forest model\n",
        "rf = RandomForestClassifier(random_state = 42, class_weight='balanced')\n",
        "rf.get_params()"
      ]
    },
    {
      "cell_type": "code",
      "execution_count": 117,
      "metadata": {
        "colab": {
          "base_uri": "https://localhost:8080/"
        },
        "id": "zLinHCy8L7D1",
        "outputId": "3692a872-8365-48e7-852f-40d07119d38d"
      },
      "outputs": [
        {
          "output_type": "stream",
          "name": "stdout",
          "text": [
            "1.0\n",
            "0.45703125\n"
          ]
        }
      ],
      "source": [
        "#fit data\n",
        "rf_pipe = make_pipeline(preprocessor, rf)\n",
        "rf_pipe.fit(X_train, y_train)\n",
        "#get scores\n",
        "rf_train_score = rf_pipe.score(X_train, y_train)\n",
        "rf_test_score = rf_pipe.score(X_test, y_test)\n",
        "print(rf_train_score)\n",
        "print(rf_test_score)"
      ]
    },
    {
      "cell_type": "markdown",
      "source": [
        "The random forest model is already much better at 45% accuracy. Let's see if we can improve it"
      ],
      "metadata": {
        "id": "nCQY8GA6o_G8"
      }
    },
    {
      "cell_type": "markdown",
      "metadata": {
        "id": "NLNFslEvXvqm"
      },
      "source": [
        "####Hypertuning"
      ]
    },
    {
      "cell_type": "code",
      "execution_count": 118,
      "metadata": {
        "colab": {
          "base_uri": "https://localhost:8080/"
        },
        "id": "gof33r-wMTtd",
        "outputId": "065521d8-e0ed-43cd-b5e7-71e3763ea994"
      },
      "outputs": [
        {
          "output_type": "execute_result",
          "data": {
            "text/plain": [
              "146"
            ]
          },
          "metadata": {},
          "execution_count": 118
        }
      ],
      "source": [
        "#find the max number of depths\n",
        "est_depths = [estimator.get_depth() for estimator in rf.estimators_]\n",
        "max(est_depths)"
      ]
    },
    {
      "cell_type": "markdown",
      "metadata": {
        "id": "A8rPed60Xz64"
      },
      "source": [
        "#####Depth Tuning"
      ]
    },
    {
      "cell_type": "code",
      "execution_count": 119,
      "metadata": {
        "id": "V2y8dEmgMVQA"
      },
      "outputs": [],
      "source": [
        "#create a loop to find the best depth\n",
        "depths = range(1, max(est_depths))\n",
        "scores = pd.DataFrame(index=depths, columns=['Test Score'])\n",
        "for depth in depths:    \n",
        "   rf = RandomForestClassifier(random_state = 42, max_depth=depth, class_weight='balanced')\n",
        "   rf_pipe = make_pipeline(preprocessor, rf)\n",
        "   rf_pipe.fit(X_train, y_train)\n",
        "   scores.loc[depth, 'Train Score'] = rf_pipe.score(X_train, y_train)\n",
        "   scores.loc[depth, 'Test Score'] = rf_pipe.score(X_test, y_test)\n",
        "   scores.head()"
      ]
    },
    {
      "cell_type": "code",
      "execution_count": 120,
      "metadata": {
        "colab": {
          "base_uri": "https://localhost:8080/",
          "height": 206
        },
        "id": "PijxNoKOMXDJ",
        "outputId": "84c4ae1b-3726-4791-dbb0-b100955583ff"
      },
      "outputs": [
        {
          "output_type": "execute_result",
          "data": {
            "text/plain": [
              "   Test Score  Train Score\n",
              "38        0.5     0.996745\n",
              "73   0.496094     1.000000\n",
              "43   0.490234     0.998698\n",
              "74   0.488281     1.000000\n",
              "42   0.488281     0.998698"
            ],
            "text/html": [
              "\n",
              "  <div id=\"df-dbc74dc8-7b63-45f0-8262-8a6307bfb43f\">\n",
              "    <div class=\"colab-df-container\">\n",
              "      <div>\n",
              "<style scoped>\n",
              "    .dataframe tbody tr th:only-of-type {\n",
              "        vertical-align: middle;\n",
              "    }\n",
              "\n",
              "    .dataframe tbody tr th {\n",
              "        vertical-align: top;\n",
              "    }\n",
              "\n",
              "    .dataframe thead th {\n",
              "        text-align: right;\n",
              "    }\n",
              "</style>\n",
              "<table border=\"1\" class=\"dataframe\">\n",
              "  <thead>\n",
              "    <tr style=\"text-align: right;\">\n",
              "      <th></th>\n",
              "      <th>Test Score</th>\n",
              "      <th>Train Score</th>\n",
              "    </tr>\n",
              "  </thead>\n",
              "  <tbody>\n",
              "    <tr>\n",
              "      <th>38</th>\n",
              "      <td>0.5</td>\n",
              "      <td>0.996745</td>\n",
              "    </tr>\n",
              "    <tr>\n",
              "      <th>73</th>\n",
              "      <td>0.496094</td>\n",
              "      <td>1.000000</td>\n",
              "    </tr>\n",
              "    <tr>\n",
              "      <th>43</th>\n",
              "      <td>0.490234</td>\n",
              "      <td>0.998698</td>\n",
              "    </tr>\n",
              "    <tr>\n",
              "      <th>74</th>\n",
              "      <td>0.488281</td>\n",
              "      <td>1.000000</td>\n",
              "    </tr>\n",
              "    <tr>\n",
              "      <th>42</th>\n",
              "      <td>0.488281</td>\n",
              "      <td>0.998698</td>\n",
              "    </tr>\n",
              "  </tbody>\n",
              "</table>\n",
              "</div>\n",
              "      <button class=\"colab-df-convert\" onclick=\"convertToInteractive('df-dbc74dc8-7b63-45f0-8262-8a6307bfb43f')\"\n",
              "              title=\"Convert this dataframe to an interactive table.\"\n",
              "              style=\"display:none;\">\n",
              "        \n",
              "  <svg xmlns=\"http://www.w3.org/2000/svg\" height=\"24px\"viewBox=\"0 0 24 24\"\n",
              "       width=\"24px\">\n",
              "    <path d=\"M0 0h24v24H0V0z\" fill=\"none\"/>\n",
              "    <path d=\"M18.56 5.44l.94 2.06.94-2.06 2.06-.94-2.06-.94-.94-2.06-.94 2.06-2.06.94zm-11 1L8.5 8.5l.94-2.06 2.06-.94-2.06-.94L8.5 2.5l-.94 2.06-2.06.94zm10 10l.94 2.06.94-2.06 2.06-.94-2.06-.94-.94-2.06-.94 2.06-2.06.94z\"/><path d=\"M17.41 7.96l-1.37-1.37c-.4-.4-.92-.59-1.43-.59-.52 0-1.04.2-1.43.59L10.3 9.45l-7.72 7.72c-.78.78-.78 2.05 0 2.83L4 21.41c.39.39.9.59 1.41.59.51 0 1.02-.2 1.41-.59l7.78-7.78 2.81-2.81c.8-.78.8-2.07 0-2.86zM5.41 20L4 18.59l7.72-7.72 1.47 1.35L5.41 20z\"/>\n",
              "  </svg>\n",
              "      </button>\n",
              "      \n",
              "  <style>\n",
              "    .colab-df-container {\n",
              "      display:flex;\n",
              "      flex-wrap:wrap;\n",
              "      gap: 12px;\n",
              "    }\n",
              "\n",
              "    .colab-df-convert {\n",
              "      background-color: #E8F0FE;\n",
              "      border: none;\n",
              "      border-radius: 50%;\n",
              "      cursor: pointer;\n",
              "      display: none;\n",
              "      fill: #1967D2;\n",
              "      height: 32px;\n",
              "      padding: 0 0 0 0;\n",
              "      width: 32px;\n",
              "    }\n",
              "\n",
              "    .colab-df-convert:hover {\n",
              "      background-color: #E2EBFA;\n",
              "      box-shadow: 0px 1px 2px rgba(60, 64, 67, 0.3), 0px 1px 3px 1px rgba(60, 64, 67, 0.15);\n",
              "      fill: #174EA6;\n",
              "    }\n",
              "\n",
              "    [theme=dark] .colab-df-convert {\n",
              "      background-color: #3B4455;\n",
              "      fill: #D2E3FC;\n",
              "    }\n",
              "\n",
              "    [theme=dark] .colab-df-convert:hover {\n",
              "      background-color: #434B5C;\n",
              "      box-shadow: 0px 1px 3px 1px rgba(0, 0, 0, 0.15);\n",
              "      filter: drop-shadow(0px 1px 2px rgba(0, 0, 0, 0.3));\n",
              "      fill: #FFFFFF;\n",
              "    }\n",
              "  </style>\n",
              "\n",
              "      <script>\n",
              "        const buttonEl =\n",
              "          document.querySelector('#df-dbc74dc8-7b63-45f0-8262-8a6307bfb43f button.colab-df-convert');\n",
              "        buttonEl.style.display =\n",
              "          google.colab.kernel.accessAllowed ? 'block' : 'none';\n",
              "\n",
              "        async function convertToInteractive(key) {\n",
              "          const element = document.querySelector('#df-dbc74dc8-7b63-45f0-8262-8a6307bfb43f');\n",
              "          const dataTable =\n",
              "            await google.colab.kernel.invokeFunction('convertToInteractive',\n",
              "                                                     [key], {});\n",
              "          if (!dataTable) return;\n",
              "\n",
              "          const docLinkHtml = 'Like what you see? Visit the ' +\n",
              "            '<a target=\"_blank\" href=https://colab.research.google.com/notebooks/data_table.ipynb>data table notebook</a>'\n",
              "            + ' to learn more about interactive tables.';\n",
              "          element.innerHTML = '';\n",
              "          dataTable['output_type'] = 'display_data';\n",
              "          await google.colab.output.renderOutput(dataTable, element);\n",
              "          const docLink = document.createElement('div');\n",
              "          docLink.innerHTML = docLinkHtml;\n",
              "          element.appendChild(docLink);\n",
              "        }\n",
              "      </script>\n",
              "    </div>\n",
              "  </div>\n",
              "  "
            ]
          },
          "metadata": {},
          "execution_count": 120
        }
      ],
      "source": [
        "#sort scores\n",
        "sorted_scores = scores.sort_values(by='Test Score', ascending=False)\n",
        "sorted_scores.head()"
      ]
    },
    {
      "cell_type": "markdown",
      "source": [
        "After hypertuning the depths, it seems the best one brings the accuracy up to 50%"
      ],
      "metadata": {
        "id": "N7U88f40pPT6"
      }
    },
    {
      "cell_type": "markdown",
      "metadata": {
        "id": "-pjQ4JqWX30T"
      },
      "source": [
        "#####n_estimator Tuning"
      ]
    },
    {
      "cell_type": "code",
      "execution_count": 121,
      "metadata": {
        "colab": {
          "base_uri": "https://localhost:8080/",
          "height": 206
        },
        "id": "DtF7BT7yM4gB",
        "outputId": "82cc2ee4-c225-44d5-a2c7-a94f4a5ba77c"
      },
      "outputs": [
        {
          "output_type": "execute_result",
          "data": {
            "text/plain": [
              "    Test Score Train Score\n",
              "50    0.503906    0.994141\n",
              "200   0.503906    0.998047\n",
              "100        0.5    0.996745\n",
              "150        0.5    0.996094\n",
              "250        0.5    0.998047"
            ],
            "text/html": [
              "\n",
              "  <div id=\"df-390e8b26-362b-4fe1-82f7-20580716b705\">\n",
              "    <div class=\"colab-df-container\">\n",
              "      <div>\n",
              "<style scoped>\n",
              "    .dataframe tbody tr th:only-of-type {\n",
              "        vertical-align: middle;\n",
              "    }\n",
              "\n",
              "    .dataframe tbody tr th {\n",
              "        vertical-align: top;\n",
              "    }\n",
              "\n",
              "    .dataframe thead th {\n",
              "        text-align: right;\n",
              "    }\n",
              "</style>\n",
              "<table border=\"1\" class=\"dataframe\">\n",
              "  <thead>\n",
              "    <tr style=\"text-align: right;\">\n",
              "      <th></th>\n",
              "      <th>Test Score</th>\n",
              "      <th>Train Score</th>\n",
              "    </tr>\n",
              "  </thead>\n",
              "  <tbody>\n",
              "    <tr>\n",
              "      <th>50</th>\n",
              "      <td>0.503906</td>\n",
              "      <td>0.994141</td>\n",
              "    </tr>\n",
              "    <tr>\n",
              "      <th>200</th>\n",
              "      <td>0.503906</td>\n",
              "      <td>0.998047</td>\n",
              "    </tr>\n",
              "    <tr>\n",
              "      <th>100</th>\n",
              "      <td>0.5</td>\n",
              "      <td>0.996745</td>\n",
              "    </tr>\n",
              "    <tr>\n",
              "      <th>150</th>\n",
              "      <td>0.5</td>\n",
              "      <td>0.996094</td>\n",
              "    </tr>\n",
              "    <tr>\n",
              "      <th>250</th>\n",
              "      <td>0.5</td>\n",
              "      <td>0.998047</td>\n",
              "    </tr>\n",
              "  </tbody>\n",
              "</table>\n",
              "</div>\n",
              "      <button class=\"colab-df-convert\" onclick=\"convertToInteractive('df-390e8b26-362b-4fe1-82f7-20580716b705')\"\n",
              "              title=\"Convert this dataframe to an interactive table.\"\n",
              "              style=\"display:none;\">\n",
              "        \n",
              "  <svg xmlns=\"http://www.w3.org/2000/svg\" height=\"24px\"viewBox=\"0 0 24 24\"\n",
              "       width=\"24px\">\n",
              "    <path d=\"M0 0h24v24H0V0z\" fill=\"none\"/>\n",
              "    <path d=\"M18.56 5.44l.94 2.06.94-2.06 2.06-.94-2.06-.94-.94-2.06-.94 2.06-2.06.94zm-11 1L8.5 8.5l.94-2.06 2.06-.94-2.06-.94L8.5 2.5l-.94 2.06-2.06.94zm10 10l.94 2.06.94-2.06 2.06-.94-2.06-.94-.94-2.06-.94 2.06-2.06.94z\"/><path d=\"M17.41 7.96l-1.37-1.37c-.4-.4-.92-.59-1.43-.59-.52 0-1.04.2-1.43.59L10.3 9.45l-7.72 7.72c-.78.78-.78 2.05 0 2.83L4 21.41c.39.39.9.59 1.41.59.51 0 1.02-.2 1.41-.59l7.78-7.78 2.81-2.81c.8-.78.8-2.07 0-2.86zM5.41 20L4 18.59l7.72-7.72 1.47 1.35L5.41 20z\"/>\n",
              "  </svg>\n",
              "      </button>\n",
              "      \n",
              "  <style>\n",
              "    .colab-df-container {\n",
              "      display:flex;\n",
              "      flex-wrap:wrap;\n",
              "      gap: 12px;\n",
              "    }\n",
              "\n",
              "    .colab-df-convert {\n",
              "      background-color: #E8F0FE;\n",
              "      border: none;\n",
              "      border-radius: 50%;\n",
              "      cursor: pointer;\n",
              "      display: none;\n",
              "      fill: #1967D2;\n",
              "      height: 32px;\n",
              "      padding: 0 0 0 0;\n",
              "      width: 32px;\n",
              "    }\n",
              "\n",
              "    .colab-df-convert:hover {\n",
              "      background-color: #E2EBFA;\n",
              "      box-shadow: 0px 1px 2px rgba(60, 64, 67, 0.3), 0px 1px 3px 1px rgba(60, 64, 67, 0.15);\n",
              "      fill: #174EA6;\n",
              "    }\n",
              "\n",
              "    [theme=dark] .colab-df-convert {\n",
              "      background-color: #3B4455;\n",
              "      fill: #D2E3FC;\n",
              "    }\n",
              "\n",
              "    [theme=dark] .colab-df-convert:hover {\n",
              "      background-color: #434B5C;\n",
              "      box-shadow: 0px 1px 3px 1px rgba(0, 0, 0, 0.15);\n",
              "      filter: drop-shadow(0px 1px 2px rgba(0, 0, 0, 0.3));\n",
              "      fill: #FFFFFF;\n",
              "    }\n",
              "  </style>\n",
              "\n",
              "      <script>\n",
              "        const buttonEl =\n",
              "          document.querySelector('#df-390e8b26-362b-4fe1-82f7-20580716b705 button.colab-df-convert');\n",
              "        buttonEl.style.display =\n",
              "          google.colab.kernel.accessAllowed ? 'block' : 'none';\n",
              "\n",
              "        async function convertToInteractive(key) {\n",
              "          const element = document.querySelector('#df-390e8b26-362b-4fe1-82f7-20580716b705');\n",
              "          const dataTable =\n",
              "            await google.colab.kernel.invokeFunction('convertToInteractive',\n",
              "                                                     [key], {});\n",
              "          if (!dataTable) return;\n",
              "\n",
              "          const docLinkHtml = 'Like what you see? Visit the ' +\n",
              "            '<a target=\"_blank\" href=https://colab.research.google.com/notebooks/data_table.ipynb>data table notebook</a>'\n",
              "            + ' to learn more about interactive tables.';\n",
              "          element.innerHTML = '';\n",
              "          dataTable['output_type'] = 'display_data';\n",
              "          await google.colab.output.renderOutput(dataTable, element);\n",
              "          const docLink = document.createElement('div');\n",
              "          docLink.innerHTML = docLinkHtml;\n",
              "          element.appendChild(docLink);\n",
              "        }\n",
              "      </script>\n",
              "    </div>\n",
              "  </div>\n",
              "  "
            ]
          },
          "metadata": {},
          "execution_count": 121
        }
      ],
      "source": [
        "#create a loop to find the best n_estimators number\n",
        "n_ests = [50, 100, 150, 200, 250]\n",
        "scores = pd.DataFrame(index=n_ests, columns=['Test Score', 'Train Score'])\n",
        "for n in n_ests:\n",
        "   rf = RandomForestClassifier(random_state = 42,max_depth=38, n_estimators=n, class_weight='balanced')\n",
        "   rf_pipe = make_pipeline(preprocessor, rf)\n",
        "   rf_pipe.fit(X_train, y_train)\n",
        "   scores.loc[n, 'Train Score'] = rf_pipe.score(X_train, y_train)\n",
        "   scores.loc[n, 'Test Score'] = rf_pipe.score(X_test, y_test)\n",
        "scores.head()\n",
        "#sort scores\n",
        "sorted_scores = scores.sort_values(by='Test Score', ascending=False)\n",
        "sorted_scores.head()"
      ]
    },
    {
      "cell_type": "markdown",
      "source": [
        "Hypertuning of the n_estimators only had an effect of 0.3% percent, which is negligible."
      ],
      "metadata": {
        "id": "nodj-pN5pgLV"
      }
    },
    {
      "cell_type": "markdown",
      "metadata": {
        "id": "RbLAlbxuHaVQ"
      },
      "source": [
        "####Best Model"
      ]
    },
    {
      "cell_type": "code",
      "execution_count": 122,
      "metadata": {
        "colab": {
          "base_uri": "https://localhost:8080/"
        },
        "id": "PpNftujSx-7n",
        "outputId": "da7a90e0-e13a-491d-b522-c99bdfc9bb8d"
      },
      "outputs": [
        {
          "output_type": "stream",
          "name": "stdout",
          "text": [
            "0.998046875\n",
            "0.5\n"
          ]
        }
      ],
      "source": [
        "best_rf = RandomForestClassifier(random_state = 42,max_depth=38, n_estimators=50, class_weight='balanced')\n",
        "best_rf_pipe = make_pipeline(preprocessor, best_rf)\n",
        "rf_pipe.fit(X_train, y_train)\n",
        "best_score_train = rf_pipe.score(X_train, y_train)\n",
        "best_score_test = rf_pipe.score(X_test, y_test)\n",
        "print(best_score_train)\n",
        "print(best_score_test)"
      ]
    },
    {
      "cell_type": "markdown",
      "metadata": {
        "id": "7sjoQk2HzddM"
      },
      "source": [
        "####SMOTE"
      ]
    },
    {
      "cell_type": "markdown",
      "source": [
        "We'll see if the model can be improved with SMOTE, or PCA."
      ],
      "metadata": {
        "id": "Tgkdk_dwp1GK"
      }
    },
    {
      "cell_type": "code",
      "execution_count": 123,
      "metadata": {
        "colab": {
          "base_uri": "https://localhost:8080/"
        },
        "id": "y--vrF5Xzfbv",
        "outputId": "6cbe644c-6383-4c09-bd24-95ecc9b54d50"
      },
      "outputs": [
        {
          "output_type": "stream",
          "name": "stdout",
          "text": [
            "              precision    recall  f1-score   support\n",
            "\n",
            "           0       0.71      0.82      0.76        50\n",
            "           1       0.53      0.60      0.56       178\n",
            "           2       0.39      0.45      0.42       111\n",
            "           3       0.33      0.21      0.26        85\n",
            "           4       0.39      0.29      0.33        55\n",
            "           5       0.45      0.42      0.43        24\n",
            "           6       0.29      0.22      0.25         9\n",
            "\n",
            "    accuracy                           0.48       512\n",
            "   macro avg       0.44      0.43      0.43       512\n",
            "weighted avg       0.46      0.48      0.46       512\n",
            "\n"
          ]
        }
      ],
      "source": [
        "smote = SMOTE(k_neighbors=1)\n",
        "\n",
        "smote_rf_pipe = make_pipeline(preprocessor, smote, best_rf)\n",
        "smote_rf_pipe.fit(X_train, y_train)\n",
        "\n",
        "test_preds = smote_rf_pipe.predict(X_test)\n",
        "print(classification_report(y_test, test_preds))"
      ]
    },
    {
      "cell_type": "markdown",
      "metadata": {
        "id": "JtNpmy22HeIK"
      },
      "source": [
        "####PCA"
      ]
    },
    {
      "cell_type": "code",
      "execution_count": 124,
      "metadata": {
        "colab": {
          "base_uri": "https://localhost:8080/"
        },
        "id": "XM6dUllvzjmx",
        "outputId": "dcfa18ec-a250-4416-8e7a-91d28494640f"
      },
      "outputs": [
        {
          "output_type": "stream",
          "name": "stdout",
          "text": [
            "0.9986979166666666\n",
            "0.4296875\n"
          ]
        }
      ],
      "source": [
        "pca = PCA(n_components=70)\n",
        "\n",
        "rf_pca_pipe = make_pipeline(preprocessor, pca, best_rf)\n",
        "rf_pca_pipe.fit(X_train, y_train)\n",
        "pca_score_train = rf_pca_pipe.score(X_train, y_train)\n",
        "pca_score_test = rf_pca_pipe.score(X_test, y_test)\n",
        "print(pca_score_train)\n",
        "print(pca_score_test)"
      ]
    },
    {
      "cell_type": "markdown",
      "source": [
        "The SMOTE model has an accuracy of 48%, and the PCA model has an accuracy of 42%"
      ],
      "metadata": {
        "id": "TDw1TD7rp7E-"
      }
    },
    {
      "cell_type": "markdown",
      "metadata": {
        "id": "NKez-L6HHgE4"
      },
      "source": [
        "##Verdict"
      ]
    },
    {
      "cell_type": "markdown",
      "source": [
        "It seems that the model is overfit, but every method of dimensionality reduction that I used, seemed to make the model worse. This model is not ready for business, as it needs alot of tweaking to the features to make it more accurate."
      ],
      "metadata": {
        "id": "uN1CD6FlqEgQ"
      }
    }
  ],
  "metadata": {
    "colab": {
      "provenance": [],
      "toc_visible": true,
      "authorship_tag": "ABX9TyORbAjruXZjyYDlfN4VuqWn",
      "include_colab_link": true
    },
    "kernelspec": {
      "display_name": "Python 3",
      "name": "python3"
    },
    "language_info": {
      "name": "python"
    }
  },
  "nbformat": 4,
  "nbformat_minor": 0
}